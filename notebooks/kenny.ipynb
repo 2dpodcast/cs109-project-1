{
 "metadata": {
  "name": ""
 },
 "nbformat": 3,
 "nbformat_minor": 0,
 "worksheets": [
  {
   "cells": [
    {
     "cell_type": "heading",
     "level": 1,
     "metadata": {},
     "source": [
      "Topics: clustering within subreddit, upvote prediction, sentence prediction"
     ]
    },
    {
     "cell_type": "code",
     "collapsed": false,
     "input": [
      "%matplotlib inline\n",
      "\n",
      "import json\n",
      "\n",
      "import requests\n",
      "import pandas as pd\n",
      "import numpy as np\n",
      "import matplotlib.pyplot as plt\n",
      "import requests\n",
      "from scipy import stats\n",
      "\n",
      "from operator import itemgetter\n",
      "\n",
      "pd.set_option('display.width', 500)\n",
      "pd.set_option('display.max_columns', 30)\n",
      "\n",
      "# set some nicer defaults for matplotlib\n",
      "from matplotlib import rcParams\n",
      "\n",
      "#these colors come from colorbrewer2.org. Each is an RGB triplet\n",
      "dark2_colors = [(0.10588235294117647, 0.6196078431372549, 0.4666666666666667),\n",
      "                (0.8509803921568627, 0.37254901960784315, 0.00784313725490196),\n",
      "                (0.4588235294117647, 0.4392156862745098, 0.7019607843137254),\n",
      "                (0.9058823529411765, 0.1607843137254902, 0.5411764705882353),\n",
      "                (0.4, 0.6509803921568628, 0.11764705882352941),\n",
      "                (0.9019607843137255, 0.6705882352941176, 0.00784313725490196),\n",
      "                (0.6509803921568628, 0.4627450980392157, 0.11372549019607843),\n",
      "                (0.4, 0.4, 0.4)]\n",
      "\n",
      "rcParams['figure.figsize'] = (10, 6)\n",
      "rcParams['figure.dpi'] = 150\n",
      "rcParams['axes.color_cycle'] = dark2_colors\n",
      "rcParams['lines.linewidth'] = 2\n",
      "rcParams['axes.grid'] = False\n",
      "rcParams['axes.facecolor'] = 'white'\n",
      "rcParams['font.size'] = 14\n",
      "rcParams['patch.edgecolor'] = 'none'\n",
      "\n",
      "stopwords = [\"a\",\"a's\",\"able\",\"about\",\"above\",\"according\",\"accordingly\",\"across\",\"actually\",\"after\",\"afterwards\",\"again\",\"against\",\"ain't\",\"all\",\"allow\",\"allows\",\"almost\",\"alone\",\"along\",\"already\",\"also\", \"although\",\"always\",\"am\",\"among\",\"amongst\",\"an\",\"and\",\"another\",\"any\",\"anybody\",\"anyhow\",\"anyone\",\"anything\",\"anyway\",\"anyways\",\"anywhere\",\"apart\",\"appear\",\"appreciate\",\"appropriate\",\"are\",    \"aren't\",\"around\",\"as\",\"aside\",\"ask\",\"asking\",\"associated\",\"at\",\"available\",\"away\",\"awfully\",\"b\",\"be\",\"became\",\"because\",\"become\",\"becomes\",\"becoming\",\"been\",\"before\",\"beforehand\",\"behind\",    \"being\",\"believe\",\"below\",\"beside\",\"besides\",\"best\",\"better\",\"between\",\"beyond\",\"both\",\"brief\",\"but\",\"by\",\"c\",\"c'mon\",\"c's\",\"came\",\"can\",\"can't\",\"cannot\",\"cant\",\"cause\",\"causes\",\"certain\",     \"certainly\",\"changes\",\"clearly\",\"co\",\"com\",\"come\",\"comes\",\"concerning\",\"consequently\",\"consider\",\"considering\",\"contain\",\"containing\",\"contains\",\"corresponding\",\"could\",\"couldn't\",\"course\",    \"currently\",\"d\",\"definitely\",\"described\",\"despite\",\"did\",\"didn't\",\"different\",\"do\",\"does\",\"doesn't\",\"doing\",\"don't\",\"done\",\"down\",\"downwards\",\"during\",\"e\",\"each\",\"edu\",\"eg\",\"eight\",\"either\",   \"else\",\"elsewhere\",\"enough\",\"entirely\",\"especially\",\"et\",\"etc\",\"even\",\"ever\",\"every\",\"everybody\",\"everyone\",\"everything\",\"everywhere\",\"ex\",\"exactly\",\"example\",\"except\",\"f\",\"far\",\"few\",\"fifth\", \"first\",\"five\",\"followed\",\"following\",\"follows\",\"for\",\"former\",\"formerly\",\"forth\",\"four\",\"from\",\"further\",\"furthermore\",\"g\",\"get\",\"gets\",\"getting\",\"given\",\"gives\",\"go\",\"goes\",\"going\",\"gone\",   \"got\",\"gotten\",\"greetings\",\"h\",\"had\",\"hadn't\",\"happens\",\"hardly\",\"has\",\"hasn't\",\"have\",\"haven't\",\"having\",\"he\",\"he's\",\"hello\",\"help\",\"hence\",\"her\",\"here\",\"here's\",\"hereafter\",\"hereby\",\"herein\",\"hereupon\",\"hers\",\"herself\",\"hi\",\"him\",\"himself\",\"his\",\"hither\",\"hopefully\",\"how\",\"howbeit\",\"however\",\"i\",\"i'd\",\"i'll\",\"i'm\",\"i've\",\"ie\",\"if\",\"ignored\",\"immediate\",\"in\",\"inasmuch\",\"inc\",       \"indeed\",\"indicate\",\"indicated\",\"indicates\",\"inner\",\"insofar\",\"instead\",\"into\",\"inward\",\"is\",\"isn't\",\"it\",\"it'd\",\"it'll\",\"it's\",\"its\",\"itself\",\"j\",\"just\",\"k\",\"keep\",\"keeps\",\"kept\",\"know\",      \"knows\",\"known\",\"l\",\"last\",\"lately\",\"later\",\"latter\",\"latterly\",\"least\",\"less\",\"lest\",\"let\",\"let's\",\"like\",\"liked\",\"likely\",\"little\",\"look\",\"looking\",\"looks\",\"ltd\",\"m\",\"mainly\",\"many\",\"may\",   \"maybe\",\"me\",\"mean\",\"meanwhile\",\"merely\",\"might\",\"more\",\"moreover\",\"most\",\"mostly\",\"much\",\"must\",\"my\",\"myself\",\"n\",\"name\",\"namely\",\"nd\",\"near\",\"nearly\",\"necessary\",\"need\",\"needs\",\"neither\",    \"never\",\"nevertheless\",\"new\",\"next\",\"nine\",\"no\",\"nobody\",\"non\",\"none\",\"noone\",\"nor\",\"normally\",\"not\",\"nothing\",\"novel\",\"now\",\"nowhere\",\"o\",\"obviously\",\"of\",\"off\",\"often\",\"oh\",\"ok\",\"okay\",\"old\",\"on\",\"once\",\"one\",\"ones\",\"only\",\"onto\",\"or\",\"other\",\"others\",\"otherwise\",\"ought\",\"our\",\"ours\",\"ourselves\",\"out\",\"outside\",\"over\",\"overall\",\"own\",\"p\",\"particular\",\"particularly\",\"per\",\"perhaps\",\"placed\",\"please\",\"plus\",\"possible\",\"presumably\",\"probably\",\"provides\",\"q\",\"que\",\"quite\",\"qv\",\"r\",\"rather\",\"rd\",\"re\",\"really\",\"reasonably\",\"regarding\",\"regardless\",\"regards\",\"relatively\",      \"respectively\",\"right\",\"s\",\"said\",\"same\",\"saw\",\"say\",\"saying\",\"says\",\"second\",\"secondly\",\"see\",\"seeing\",\"seem\",\"seemed\",\"seeming\",\"seems\",\"seen\",\"self\",\"selves\",\"sensible\",\"sent\",\"serious\",    \"seriously\",\"seven\",\"several\",\"shall\",\"she\",\"should\",\"shouldn't\",\"since\",\"six\",\"so\",\"some\",\"somebody\",\"somehow\",\"someone\",\"something\",\"sometime\",\"sometimes\",\"somewhat\",\"somewhere\",\"soon\",      \"sorry\",\"specified\",\"specify\",\"specifying\",\"still\",\"sub\",\"such\",\"sup\",\"sure\",\"t\",\"t's\",\"take\",\"taken\",\"tell\",\"tends\",\"th\",\"than\",\"thank\",\"thanks\",\"thanx\",\"that\",\"that's\",\"thats\",\"the\",\"their\", \"theirs\",\"them\",\"themselves\",\"then\",\"thence\",\"there\",\"there's\",\"thereafter\",\"thereby\",\"therefore\",\"therein\",\"theres\",\"thereupon\",\"these\",\"they\",\"they'd\",\"they'll\",\"they're\",\"they've\",\"think\",  \"third\",\"this\",\"thorough\",\"thoroughly\",\"those\",\"though\",\"three\",\"through\",\"throughout\",\"thru\",\"thus\",\"to\",\"together\",\"too\",\"took\",\"toward\",\"towards\",\"tried\",\"tries\",\"truly\",\"try\",\"trying\",     \"twice\",\"two\",\"u\",\"un\",\"under\",\"unfortunately\",\"unless\",\"unlikely\",\"until\",\"unto\",\"up\",\"upon\",\"us\",\"use\",\"used\",\"useful\",\"uses\",\"using\",\"usually\",\"uucp\",\"v\",\"value\",\"various\",\"very\",\"via\",     \"viz\",\"vs\",\"w\",\"want\",\"wants\",\"was\",\"wasn't\",\"way\",\"we\",\"we'd\",\"we'll\",\"we're\",\"we've\",\"welcome\",\"well\",\"went\",\"were\",\"weren't\",\"what\",\"what's\",\"whatever\",\"when\",\"whence\",\"whenever\",\"where\",   \"where's\",\"whereafter\",\"whereas\",\"whereby\",\"wherein\",\"whereupon\",\"wherever\",\"whether\",\"which\",\"while\",\"whither\",\"who\",\"who's\",\"whoever\",\"whole\",\"whom\",\"whose\",\"why\",\"will\",\"willing\",\"wish\",    \"with\",\"within\",\"without\",\"won't\",\"wonder\",\"would\",\"would\",\"wouldn't\",\"x\",\"y\",\"yes\",\"yet\",\"you\",\"you'd\",\"you'll\",\"you're\",\"you've\",\"your\",\"yours\",\"yourself\",\"yourselves\",\"z\",\"zero\"]"
     ],
     "language": "python",
     "metadata": {},
     "outputs": [],
     "prompt_number": 54
    },
    {
     "cell_type": "heading",
     "level": 1,
     "metadata": {},
     "source": [
      "Predicting Upvotes"
     ]
    },
    {
     "cell_type": "markdown",
     "metadata": {},
     "source": [
      "In order to predict upvotes for a comment on each subreddit, we separated the process into three parts:\n",
      "\n",
      "1. **Upvote Normalization.** In order to provide input to our supervised learning model, we normalized our upvotes to the interval $[0,1]$.\n",
      "2. **Feature Selection.** We used different types of features to summarize text within a comment. These features include using a Bag of Words model, N-gram model, Co-occurence model, and Latent Dirichlet Allocation.\n",
      "3. **Dimensionality Reduction.** Because the dimensionality of the feature space can be extremely large, we had to reduce the dimensionality of the feature space to make the training phrase tractable. To do this, we used multiple ways, including: Principle Components Analysis, Selecting k best features.\n",
      "4. **Learning.** We used several supervised learning methods using our features $X$ and the normalized number of upvotes $Y$ as the target value for our regressions. Our supervised learning methods include: Gaussian Naive Bayes, Support Vector Machines, and K Nearest Neighbors.\n",
      "5. **Putting it all together.** We experimented with different combinations of feature selection, dimensionality reduction, and learning models and discuss our results for each.\n",
      "\n",
      "\n",
      "Below, we include some utility functions for reading in subreddit data.\n"
     ]
    },
    {
     "cell_type": "code",
     "collapsed": false,
     "input": [
      "\"\"\"\n",
      "Data format:\n",
      "\n",
      "{\n",
      "  \"body\": string\n",
      "  \"post_ups\": int\n",
      "  \"subreddit_id\": string\n",
      "  \"created\": float (timestamp)\n",
      "  \"downs\": int\n",
      "  \"author\": string\n",
      "  \"post_net\": int\n",
      "  \"subreddit\": string\n",
      "  \"post_id\": string\n",
      "  \"post_downs\": int\n",
      "  \"net\": int\n",
      "  \"ups\": int\n",
      "  \"id\": string\n",
      "  \"post_created\": float\n",
      "}\n",
      "\"\"\"\n",
      "FIELDS = [\"body\", \"post_ups\", \"subreddit_id\", \"created\", \"downs\",\n",
      "          \"author\", \"post_net\", \"subreddit\", \"post_id\", \"post_downs\",\n",
      "          \"net\", \"ups\", \"id\", \"post_created\"]\n",
      "\n",
      "def load_subreddit(filename, fields=FIELDS):\n",
      "    \"\"\"\n",
      "    Loads the subreddit with the filename and returns\n",
      "    a dataframe where the column names are the fields\n",
      "    in the json object.\n",
      "    \"\"\"\n",
      "    file = open(filename, \"rb\")\n",
      "    arrays = {field:[] for field in fields}\n",
      "    for line in file.readlines():\n",
      "        data = json.loads(line)\n",
      "        for field in fields:\n",
      "            arrays[field].append(data[field])\n",
      "    df = pd.DataFrame(arrays)\n",
      "    file.close()\n",
      "    return df\n",
      "\n",
      "data_file = \"../data/Liberal\"\n",
      "df = load_subreddit(data_file)\n",
      "print df"
     ],
     "language": "python",
     "metadata": {},
     "outputs": [
      {
       "output_type": "stream",
       "stream": "stdout",
       "text": [
        "<class 'pandas.core.frame.DataFrame'>\n",
        "Int64Index: 4723 entries, 0 to 4722\n",
        "Data columns (total 14 columns):\n",
        "author          4723  non-null values\n",
        "body            4723  non-null values\n",
        "created         4723  non-null values\n",
        "downs           4723  non-null values\n",
        "id              4723  non-null values\n",
        "net             4723  non-null values\n",
        "post_created    4723  non-null values\n",
        "post_downs      4723  non-null values\n",
        "post_id         4723  non-null values\n",
        "post_net        4723  non-null values\n",
        "post_ups        4723  non-null values\n",
        "subreddit       4723  non-null values\n",
        "subreddit_id    4723  non-null values\n",
        "ups             4723  non-null values\n",
        "dtypes: float64(2), int64(6), object(6)\n"
       ]
      },
      {
       "output_type": "stream",
       "stream": "stderr",
       "text": [
        "/usr/local/lib/python2.7/site-packages/pandas/core/config.py:570: DeprecationWarning: height has been deprecated.\n",
        "\n",
        "  warnings.warn(d.msg, DeprecationWarning)\n"
       ]
      }
     ],
     "prompt_number": 129
    },
    {
     "cell_type": "heading",
     "level": 2,
     "metadata": {},
     "source": [
      "1. Upvote Normalization"
     ]
    },
    {
     "cell_type": "markdown",
     "metadata": {},
     "source": [
      "To provide input to our supervised learning model, we must normalize our upvotes to the interval $[0,1]$. To do this, we used the following procedures to normalize and denormalize upvotes:"
     ]
    },
    {
     "cell_type": "code",
     "collapsed": false,
     "input": [
      "topscores = {'Liberal': 106, 'videos': 10341, 'gentlemanboners': 1619, 'books':\n",
      "        4914, 'Music': 7286, 'politics': 15133, 'nba': 4108, 'pokemon': 3270,\n",
      "        'funny': 9633, 'technology': 10848, 'Conservative': 438, 'food': 3358,\n",
      "        'WTF': 11107, 'worldnews': 10559, 'soccer': 2985, 'gaming': 16413,\n",
      "        'aww': 7656, 'circlejerk': 3069, 'LadyBoners': 1190, 'news': 10995,\n",
      "        'television': 9274, 'science': 8965, 'nfl': 5416, 'pics': 19196,\n",
      "        'movies': 93504}\n",
      "\n",
      "\"\"\"\n",
      "normalize_scores\n",
      "    Normalizes the score based on the max upvotes in the given subreddit.\n",
      "\n",
      "    @param: ups (array of upvote scores), subreddit (name of subreddit)\n",
      "    @ret: array of normalized scores\n",
      "\"\"\"\n",
      "def normalize_scores(ups, subreddit):\n",
      "    return [float(x)/topscores[subreddit] for x in ups]\n",
      "\n",
      "def denormalize_scores(norms, subreddit):\n",
      "    return [x * topscores[subreddit] for x in norms]"
     ],
     "language": "python",
     "metadata": {},
     "outputs": [],
     "prompt_number": 11
    },
    {
     "cell_type": "heading",
     "level": 2,
     "metadata": {},
     "source": [
      "2. Feature Selection"
     ]
    },
    {
     "cell_type": "markdown",
     "metadata": {},
     "source": [
      "We abstracted the process of feature selection into an abstract class `AbstractFeatureModel`:"
     ]
    },
    {
     "cell_type": "code",
     "collapsed": false,
     "input": [
      "from abc import ABCMeta, abstractmethod\n",
      "import numpy as np\n",
      "from gensim import corpora\n",
      "from gensim.models import ldamodel\n",
      "from scipy.sparse import vstack\n",
      "from sklearn.feature_extraction.text import CountVectorizer, TfidfTransformer\n",
      "from nltk.corpus import stopwords\n",
      "\n",
      "class AbstractFeatureModel(object):\n",
      "    \"\"\"\n",
      "    Interface for all feature extractors. Extend this class to\n",
      "    create new models for analyzing comment data.\n",
      "    \"\"\"\n",
      "    __metaclass__ = ABCMeta\n",
      "\n",
      "    @abstractmethod\n",
      "    def make_training_xy(self, data):\n",
      "        \"\"\"\n",
      "        Extract a feature matrix X and value vector Y from the training data set.\n",
      "\n",
      "        Args\n",
      "        ----\n",
      "        data : dataframe containing comments data and upvote data\n",
      "\n",
      "        Returns\n",
      "        -------\n",
      "        X : numpy array (dims: ncomments x nfeatures)\n",
      "            each row of X represents the features associated with each comment\n",
      "        Y : numpy array (dims: ncomments)\n",
      "            each entry corresponds to the value associated with each comment\n",
      "            (e.g. normalized upvote score, subreddit id)\n",
      "\n",
      "        Usage\n",
      "        -----\n",
      "        model = MyModel(param1, param2)\n",
      "        X, Y = model.make_training(data)\n",
      "        \"\"\"\n",
      "        pass\n",
      "\n",
      "    @abstractmethod\n",
      "    def data_to_x(self, new_data):\n",
      "        \"\"\"\n",
      "        Extracts a feature matrix X from the new data set (for predictions), where\n",
      "        the number of rows of X is the number of new data items in new_data\n",
      "\n",
      "        Args\n",
      "        ----\n",
      "        new_data : dataframe containing comments data, but no label data (upvotes, subreddit)\n",
      "\n",
      "        Returns\n",
      "        -------\n",
      "        X : feature matrix (num rows equal to number of entries in new_data)\n",
      "        \"\"\"\n",
      "        pass\n",
      "\n",
      "    @abstractmethod\n",
      "    def y_to_label(self, data, Y):\n",
      "        \"\"\"\n",
      "        Translates a y value back into its true representation (e.g. the\n",
      "        denormalized upvote score, the subreddit name).\n",
      "\n",
      "        Args\n",
      "        ----\n",
      "        data : dataframe containing comments data and upvote data\n",
      "\n",
      "        Returns\n",
      "        -------\n",
      "        labels : The human readable label for the given Y values, len(labels) == len(Y)\n",
      "        \"\"\"\n",
      "        pass"
     ],
     "language": "python",
     "metadata": {},
     "outputs": [],
     "prompt_number": 121
    },
    {
     "cell_type": "heading",
     "level": 3,
     "metadata": {},
     "source": [
      "1a. Bag of Words"
     ]
    },
    {
     "cell_type": "markdown",
     "metadata": {},
     "source": [
      "For the **Bag of Words model**, we split the comment into a list of words, and we represent each comment $c$ with a vector $x_c$ where the $i$-th component of $x_c$ is the number of times word $i$ appears in comment $x_c$. The size of vector $x_c$ is the total number of different words in all the comments $c$.\n",
      "\n",
      "We remove the most common English **stopwords** (is, are, be, etc.) as they appear very frequently in the English language, but do not provide us with much information about the content of the text.\n",
      "\n",
      "We also employ the [**term frequency-inverse document frequency**](http://en.wikipedia.org/wiki/Tf%E2%80%93idf) (tfidf) which is a numerical statistic that reflects how important a word is to a document in a collection of documents. In our case, a \"document\" is a comment, and our \"collection of documents\" is the set of comments in a specific subreddit. \n",
      "\n",
      "To use tfidf, given a term $t$ and a document $d$, we define the **term frequency** $tf(t,d)$ as:\n",
      "\n",
      "$tf(t,d) \\propto \\frac{f(t,d)}{max\\{ f(w,d) : w \\in d\\}}$\n",
      "\n",
      "where $f(t,d)$ is the frequency of the term $t$ in document $d$. We normalize by the maximum frequency of a any word in a document to prevent biases for longer documents.\n",
      "\n",
      "We also define the **inverse document frequency** $idf(t, D)$ for a term $t$ and collection of documents $D$ as:\n",
      "\n",
      "$tfidf(t, D) = \\log \\frac{|D|}{|\\{d \\in D : t\\in d\\}|}$\n",
      "\n",
      "which measures how common the term $t$ is across all documents $D$. Finally, we define the **term frequency-inverse document frequency** $tfidf(t, d, D)$ for a term $t$, document $d$, and collection of documents $D$ as:\n",
      "\n",
      "$tfidf(t, d, D) = tf(t, d) \\times idf(t, D)$\n",
      "\n",
      "which is high for words that have a high term frequency and is not common across the collection of documents. This statistic thus gives low weight to common terms (which tend to be common English words).\n"
     ]
    },
    {
     "cell_type": "code",
     "collapsed": false,
     "input": [
      "class BagOfWordsModel(AbstractFeatureModel):\n",
      "    \"\"\"\n",
      "    Bag of words model. This is only an example.\n",
      "    \"\"\"\n",
      "\n",
      "    def __init__(self, min_df=0, tfidf=True):\n",
      "        self.vectorizer = CountVectorizer(min_df=min_df, stop_words='english')\n",
      "        self.tfidf = tfidf\n",
      "\n",
      "    def make_training_xy(self, data):\n",
      "        X = self.vectorizer.fit_transform(data.body)\n",
      "        if self.tfidf:\n",
      "            X = TfidfTransformer().fit_transform(X)\n",
      "        X = X.tocsc()\n",
      "        Y = normalize_scores(data.ups, data.subreddit[0])\n",
      "        return X,Y\n",
      "\n",
      "    def data_to_x(self, new_data):\n",
      "        return self.vectorizer.transform(new_data.body)\n",
      "\n",
      "    def y_to_label(self, data, Y):\n",
      "        return denormalize_scores(Y, data.subreddit[0])"
     ],
     "language": "python",
     "metadata": {},
     "outputs": [],
     "prompt_number": 122
    },
    {
     "cell_type": "heading",
     "level": 3,
     "metadata": {},
     "source": [
      "1b. N-gram Model"
     ]
    },
    {
     "cell_type": "markdown",
     "metadata": {},
     "source": [
      "Another model we used to extract features from text is the **N-gram** model, which generalizes the Bag of Words model to look for sequences of $N$ words that appear in text. For example, the 2-grams for the sentence, `\"he ran away quickly\"` would be the list:\n",
      "`[\"he ran\", \"ran away\", \"away quickly\"]`. \n",
      "\n",
      "Similarly to the bag of words model, we remove English stop words and apply the tfidf technique."
     ]
    },
    {
     "cell_type": "code",
     "collapsed": false,
     "input": [
      "class NGramModel(AbstractFeatureModel):\n",
      "    \"\"\"\n",
      "    n-gram model for analyzing text\n",
      "    \"\"\"\n",
      "\n",
      "    def __init__(self, n, min_df=0, tfidf=True):\n",
      "        self.n = n\n",
      "        self.tfidf = tfidf\n",
      "        self.vectorizer = CountVectorizer(ngram_range=(n,n), min_df=min_df,\n",
      "                                          stop_words='english')\n",
      "\n",
      "    def make_training_xy(self, data):\n",
      "        X = self.vectorizer.fit_transform(data.body)\n",
      "        if self.tfidf:\n",
      "            X = TfidfTransformer().fit_transform(X)\n",
      "        X = X.tocsc()\n",
      "        Y = normalize_scores(data.ups, data.subreddit[0])\n",
      "        return X, Y\n",
      "\n",
      "    def data_to_x(self, new_data):\n",
      "        return self.vectorizer.transform(new_data.body)\n",
      "\n",
      "    def y_to_label(self, data, Y):\n",
      "        return denormalize_scores(Y, data.subreddit[0])"
     ],
     "language": "python",
     "metadata": {},
     "outputs": [],
     "prompt_number": 123
    },
    {
     "cell_type": "heading",
     "level": 3,
     "metadata": {},
     "source": [
      "1c. Latent Dirichlet Allocation"
     ]
    },
    {
     "cell_type": "markdown",
     "metadata": {},
     "source": [
      "We also use a **Latent Dirichlet Allocation** model to describe features on comments. LDA allows one to discover the latent topics within a set of documents (in our case,  topics). It does this by determining the topic distribution of a document and the word distribution per topic. Thus, to \"generate\" the next word in a document, we can first (1) sample from the overall prior topic distribution for all documents, and then (2) using this document's topic, sample from the word distribution for that topic to determine the next word. We use the topic distribution of each comment as the feature vector for that comment.\n",
      "\n",
      "More formally, define:\n",
      "\n",
      "* $K$ the number of topics\n",
      "* $V$ the number of different words\n",
      "* $\\alpha$ is the parameter for the Dirichlet prior on the topic distribution for a documents. $|\\alpha| = K$\n",
      "* $\\beta$ is the parameter for the Dirichlet prior on the word distribution for a topic. $|\\beta| = V$.\n",
      "* $\\theta_d$ is the topic distribution for document $d$\n",
      "* $\\phi_t$ is the word distribution for topic $t$\n",
      "* $z_{d,i}$ is the topic for the $i$th word in document $d$\n",
      "* $w_{d,i}$ is the specific word.\n",
      "\n",
      "Then\n",
      "$$\\theta_d \\sim Dir(\\alpha)$$\n",
      "$$\\phi_t \\sim Dir(\\beta)$$\n",
      "$$z_{d,i} \\sim Multinomial(\\theta_d)$$\n",
      "$$w_{d,i} \\sim Multinomial(\\phi_{z_{d,i}})$$"
     ]
    },
    {
     "cell_type": "code",
     "collapsed": false,
     "input": [
      "class LdaFeatureModel(AbstractFeatureModel):\n",
      "    \"\"\"\n",
      "    LDA Topic model\n",
      "    \"\"\"\n",
      "    def __init__(self, num_topics=10, printing=False):\n",
      "        self.lda = None\n",
      "        self.num_topics = num_topics\n",
      "        self.printing = printing\n",
      "        self.stop = set(stopwords.words('english'))\n",
      "\n",
      "    def make_training_xy(self, data):\n",
      "        # convert data to \"docs\" for lda\n",
      "        docs = []\n",
      "        for post in data.body:\n",
      "            docs.append(filter(lambda w: w not in self.stop, post.split(\" \")))\n",
      "\n",
      "        # make LDA model\n",
      "        self.dictionary = corpora.Dictionary(docs)\n",
      "        corpus = [self.dictionary.doc2bow(doc) for doc in docs]\n",
      "        self.lda = ldamodel.LdaModel(corpus, id2word=self.dictionary, num_topics=self.num_topics)\n",
      "\n",
      "        if self.printing:\n",
      "            print \"LDA Topics:\"\n",
      "            for topic in xrange(self.num_topics):\n",
      "                print \"Topic #{}\".format(topic),\n",
      "                print self.lda.print_topic(topic)\n",
      "\n",
      "        # make X and Y\n",
      "        X = self.docs_to_lda_matrix(docs)\n",
      "        Y = normalize_scores(data.ups, data.subreddit[0])\n",
      "\n",
      "        return np.array(X), Y\n",
      "\n",
      "    def data_to_x(self, new_data):\n",
      "        # convert data to \"docs\" for lda\n",
      "        docs = []\n",
      "        for post in new_data.body:\n",
      "            docs.append(filter(lambda w: w not in self.stop, post.split(\" \")))\n",
      "\n",
      "        # make X\n",
      "        X = self.docs_to_lda_matrix(docs)\n",
      "\n",
      "        return np.array(X)\n",
      "\n",
      "    def y_to_label(self, data, Y):\n",
      "        return denormalize_scores(Y, data.subreddit[0])\n",
      "\n",
      "    def docs_to_lda_matrix(self, docs):\n",
      "        res = []\n",
      "        for doc in docs:\n",
      "            row = [0.0] * self.num_topics\n",
      "            pred = self.lda[self.dictionary.doc2bow(doc)]\n",
      "\n",
      "            # iterate over topic prediction tuples\n",
      "            for t in pred:\n",
      "                row[t[0]] = t[1]\n",
      "\n",
      "            # add row\n",
      "            res.append(row)\n",
      "        return res"
     ],
     "language": "python",
     "metadata": {},
     "outputs": [],
     "prompt_number": 125
    },
    {
     "cell_type": "markdown",
     "metadata": {},
     "source": [
      "As an example of topics, we'll generate 200 topics for the Liberal data set."
     ]
    },
    {
     "cell_type": "code",
     "collapsed": false,
     "input": [
      "model = LdaFeatureModel(num_topics=200, printing=True)\n",
      "_, _ = model.make_training_xy(df)\n",
      "print"
     ],
     "language": "python",
     "metadata": {},
     "outputs": [
      {
       "output_type": "stream",
       "stream": "stderr",
       "text": [
        "WARNING:gensim.models.ldamodel:too few updates, training might not converge; consider increasing the number of passes to improve accuracy\n"
       ]
      },
      {
       "output_type": "stream",
       "stream": "stdout",
       "text": [
        "LDA Topics:\n",
        "Topic #0 0.179*follow + 0.051*richer + 0.042*shall + 0.038* + 0.023*arms + 0.021*bear + 0.018*understands + 0.018*bridge + 0.018*`` + 0.016*emphasize\n",
        "Topic #1 0.112* + 0.045*courts + 0.024*costs + 0.023*n't + 0.019*whenever + 0.018*lower + 0.017*advantage + 0.016*feed + 0.015*opposite + 0.015*month\n",
        "Topic #2 0.121*claims + 0.050*posting + 0.046*latest + 0.044*factual + 0.032*speaker + 0.030* + 0.025*check + 0.020*operations + 0.020*online + 0.019*skittles\n",
        "Topic #3 0.143*party + 0.106*tea + 0.081* + 0.046*republican + 0.040*republicans + 0.026*vote + 0.020*policy + 0.019*progressive + 0.019*think + 0.018*issues\n",
        "Topic #4 0.059* + 0.047*level + 0.047*want + 0.046*n't + 0.039*right + 0.037*politician + 0.032*changed + 0.022*something + 0.021*government + 0.019*tv\n",
        "Topic #5 "
       ]
      },
      {
       "output_type": "stream",
       "stream": "stdout",
       "text": [
        "0.164* + 0.029*see + 0.023*facebook + 0.022*long + 0.019*white + 0.017*nice + 0.017*ve + 0.016*hope + 0.016*maybe + 0.015*well\n",
        "Topic #6 0.217* + 0.017*following + 0.014*proven + 0.013*n't + 0.011*tends + 0.011*`` + 0.010*lawyer + 0.009*gt + 0.009*would + 0.008*percent\n",
        "Topic #7 0.109* + 0.033*deadly + 0.028*deal + 0.022*rich + 0.020*people + 0.020*represent + 0.020*money + 0.019*single + 0.015*work + 0.015*mention\n",
        "Topic #8 0.197* + 0.055*citizenship + 0.025*believe + 0.019*metal + 0.018*conservative + 0.016*disagree + 0.016*`` + 0.016*locked + 0.014*regulate + 0.014*parents\n",
        "Topic #9 0.129* + 0.055*politicians + 0.049*general + 0.038*care + 0.029*strong + 0.027*right + 0.026*n't + 0.026*conservatives + 0.022*viewed + 0.021*child\n",
        "Topic #10 "
       ]
      },
      {
       "output_type": "stream",
       "stream": "stdout",
       "text": [
        "0.080* + 0.065*looks + 0.063*guess + 0.050*account + 0.043*voices + 0.041*cause + 0.041*cop + 0.037*sources + 0.031*like + 0.022*speeding\n",
        "Topic #11 0.139*wage + 0.136* + 0.097*minimum + 0.025*listened + 0.014*people + 0.011*one + 0.011*nations + 0.010*n't + 0.008*work + 0.008*banks\n",
        "Topic #12 0.115* + 0.044*seemed + 0.031*george + 0.028*deciding + 0.026*committed + 0.025*activists + 0.024*conversation + 0.023*already + 0.022*fully + 0.018*ve\n",
        "Topic #13 0.073* + 0.063*m + 0.046*accused + 0.037*d + 0.035*problems + 0.034*beating + 0.033*left + 0.026*either + 0.025*version + 0.022*saying\n",
        "Topic #14 0.126*based + 0.077* + 0.074*nation + 0.046*gives + 0.032*justify + 0.027*time + 0.024*law + 0.021*yup + 0.018*one + 0.016*state\n",
        "Topic #15 "
       ]
      },
      {
       "output_type": "stream",
       "stream": "stdout",
       "text": [
        "0.170* + 0.033*racial + 0.024*n't + 0.021*prisons + 0.016*events + 0.016*liked + 0.016*criminals + 0.011*possible + 0.011*really + 0.010*say\n",
        "Topic #16 0.145* + 0.113*id + 0.094*voter + 0.036*government + 0.027*states + 0.023*money + 0.023*power + 0.018*create + 0.016*`` + 0.014*make\n",
        "Topic #17 0.084* + 0.073*told + 0.037*tend + 0.036*vets + 0.032*record + 0.028*blame + 0.027*home + 0.024*6 + 0.023*cut + 0.022*parents\n",
        "Topic #18 0.120*better + 0.076*identify + 0.054*idiots + 0.050*wrote + 0.039* + 0.026*obama + 0.016*liberal + 0.011*m + 0.009*tired + 0.008*like\n",
        "Topic #19 0.135* + 0.045*single + 0.043*n't + 0.042*door + 0.041*written + 0.029*could + 0.027*everything + 0.023*understanding + 0.018*next + 0.018*voting\n",
        "Topic #20 "
       ]
      },
      {
       "output_type": "stream",
       "stream": "stdout",
       "text": [
        "0.141* + 0.044*night + 0.040*experience + 0.030*well + 0.025*hillary + 0.023*even + 0.023*room + 0.022*n't + 0.022*obama + 0.020*might\n",
        "Topic #21 0.266* + 0.033*charge + 0.016*n't + 0.013*programs + 0.012*state + 0.012*charges + 0.011*health + 0.011*policy + 0.010*cost + 0.009*marriage\n",
        "Topic #22 0.101* + 0.078*education + 0.075*started + 0.055*help + 0.030*purpose + 0.029*tactic + 0.029*lol + 0.025*ted + 0.024*focused + 0.023*republicans\n",
        "Topic #23 0.145* + 0.057*said + 0.040*leave + 0.038*`` + 0.032*n't + 0.032*say + 0.022*laws + 0.017*point + 0.017*hurt + 0.016*terms\n",
        "Topic #24 0.109*federal + 0.064*order + 0.047* + 0.043*forces + 0.042*states + 0.034*armed + 0.031*imo + 0.026*real + 0.025*ignore + 0.022*way\n",
        "Topic #25 "
       ]
      },
      {
       "output_type": "stream",
       "stream": "stdout",
       "text": [
        "0.143* + 0.054*u.s + 0.043*american + 0.043*citizen + 0.015*quality + 0.014*time + 0.013*pretty + 0.012*tm + 0.012*next + 0.012*uses\n",
        "Topic #26 0.184* + 0.048*days + 0.041*gave + 0.029*amazing + 0.019*appropriate + 0.019*yeah + 0.019*yes + 0.017*forcing + 0.017*people + 0.016*arguing\n",
        "Topic #27 0.167* + 0.032*unless + 0.020*n't + 0.017*surprise + 0.016*`` + 0.014*left + 0.013*2014 + 0.012*trolls + 0.012*reporting + 0.012*someone\n",
        "Topic #28 0.078* + 0.065*reddit + 0.047*hate + 0.039*list + 0.027*would + 0.026*d + 0.021*wish + 0.021*described + 0.020*things + 0.019*someone\n",
        "Topic #29 0.209* + 0.072*amp + 0.040*defined + 0.026*corporate + 0.022*door + 0.020*however + 0.018*mad + 0.016*rent + 0.015*fall + 0.014*career\n",
        "Topic #30 "
       ]
      },
      {
       "output_type": "stream",
       "stream": "stdout",
       "text": [
        "0.131*already + 0.059*downvotes + 0.053*anyone + 0.045* + 0.043*know + 0.042*seriously + 0.029*destroyed + 0.029*arrest + 0.024*acting + 0.016*departments\n",
        "Topic #31 0.130* + 0.049*prevent + 0.045*situation + 0.040*violence + 0.033*share + 0.032*terms + 0.026*help + 0.025*3 + 0.024*would + 0.023*known\n",
        "Topic #32 0.124*picture + 0.064* + 0.051*whole + 0.049*shows + 0.042*future + 0.040*ok + 0.036*badly + 0.028*page + 0.024*disease + 0.017*lack\n",
        "Topic #33 0.149* + 0.026*needs + 0.025*playing + 0.020*role + 0.019*fight + 0.018*`` + 0.016*put + 0.016*successful + 0.015*willing + 0.014*brings\n",
        "Topic #34 0.164* + 0.071*man + 0.055*comments + 0.026*quote + 0.025*painted + 0.024*reading + 0.021*court + 0.020*`` + 0.018*stuff + 0.017*cited\n",
        "Topic #35 "
       ]
      },
      {
       "output_type": "stream",
       "stream": "stdout",
       "text": [
        "0.085*liver + 0.038*fatty + 0.028*autopsy + 0.020*10/7 + 0.020*63 + 0.019*codeine + 0.019*abuser + 0.019*atypical + 0.019*nonalcoholic + 0.019*metamorphosis\n",
        "Topic #36 0.091*get + 0.064*done + 0.054* + 0.049*n't + 0.041*stay + 0.041*dead + 0.039*another + 0.030*time + 0.030*disadvantaged + 0.029*life\n",
        "Topic #37 0.089*place + 0.079*first + 0.044*kids + 0.040* + 0.033*dumb + 0.029*sanford + 0.023*buy + 0.022*hannity + 0.022*funny + 0.021*birthers\n",
        "Topic #38 0.028*serino + 0.025*grass + 0.021*igv + 0.021*k'o + 0.021*fqypxqvgf + 0.021*hqt + 0.021*dwv + 0.021*cvjgkuv + 0.021*okijv + 0.021*vjku\n",
        "Topic #39 0.153* + 0.035*likes + 0.021*smart + 0.020*rachel + 0.020*n't + 0.019*somebody + 0.018*reference + 0.015*evidence + 0.015*like + 0.014*act\n",
        "Topic #40 "
       ]
      },
      {
       "output_type": "stream",
       "stream": "stdout",
       "text": [
        "0.191* + 0.066*medicare + 0.026*needed + 0.022*claimed + 0.019*black + 0.016*half + 0.015*pointed + 0.014*robot + 0.014*`` + 0.013*citation\n",
        "Topic #41 0.073*never + 0.071*card + 0.068*sure + 0.064* + 0.046*problem + 0.036*link + 0.032*gwb + 0.026*sucks + 0.025*mind + 0.022*m\n",
        "Topic #42 0.128* + 0.063*claim + 0.032*may + 0.030*white + 0.030*among + 0.028*labor + 0.027*racism + 0.026*threads + 0.017*see + 0.016*like\n",
        "Topic #43 0.126*child + 0.090* + 0.039*hit + 0.036*accurate + 0.028*support + 0.022*supposed + 0.020*ashamed + 0.019*mere + 0.019*sufficient + 0.018*keeping\n",
        "Topic #44 0.126*truth + 0.074* + 0.060*telling + 0.046*skills + 0.031*make + 0.029*pretend + 0.019*comes + 0.017*driving + 0.015*gettin + 0.014*someones\n",
        "Topic #45 "
       ]
      },
      {
       "output_type": "stream",
       "stream": "stdout",
       "text": [
        "0.112* + 0.050*would + 0.037*possible + 0.034*agreed + 0.033*difficult + 0.033*immediately + 0.031*slavery + 0.029*certainly + 0.026*opposed + 0.026*concept\n",
        "Topic #46 0.107* + 0.084*case + 0.066*n't + 0.064*use + 0.036*understand + 0.034*something + 0.031*trying + 0.028*like + 0.026*work + 0.026*ca\n",
        "Topic #47 0.114* + 0.086*course + 0.053*n't + 0.051*source + 0.032*legitimate + 0.030*putting + 0.028*bill + 0.026*goes + 0.022*floor + 0.019*also\n",
        "Topic #48 0.085* + 0.077*nothing + 0.070*ridiculous + 0.069*stupid + 0.068*comparison + 0.058*matter + 0.038*ass + 0.037*piece + 0.030*caught + 0.023*attempt\n",
        "Topic #49 0.072*beat + 0.071* + 0.064*funny + 0.053*looking + 0.040*interests + 0.037*sure + 0.034*made + 0.030*hell + 0.026*best + 0.025*better\n",
        "Topic #50 "
       ]
      },
      {
       "output_type": "stream",
       "stream": "stdout",
       "text": [
        "0.071* + 0.043*policies + 0.037*lines + 0.036*corporate + 0.032*democrats + 0.030*people + 0.028*florida + 0.024*employer + 0.022*right + 0.021*n't\n",
        "Topic #51 0.094* + 0.074*story + 0.038*fired + 0.036*play + 0.034*interesting + 0.028*miss + 0.024*attempts + 0.021*around + 0.020*live + 0.019*knowing\n",
        "Topic #52 0.155* + 0.067*voted + 0.054*obama + 0.036*increase + 0.032*twice + 0.031*years + 0.023*would + 0.022*interested + 0.021*reagan + 0.021*expand\n",
        "Topic #53 0.077*sexist + 0.052*worried + 0.043* + 0.037*rly + 0.014*issued + 0.004*negro + 0.004*congenial + 0.004*laziness + 0.004*unwillingness + 0.002*jailed\n",
        "Topic #54 0.223* + 0.021*attacked + 0.017*n't + 0.012*drivers + 0.010*`` + 0.008*one + 0.007*would + 0.007*people + 0.007*like + 0.007*gt\n",
        "Topic #55 "
       ]
      },
      {
       "output_type": "stream",
       "stream": "stdout",
       "text": [
        "0.092*call + 0.074* + 0.051*control + 0.049*getting + 0.046*ones + 0.041*law + 0.032*n't + 0.032*amendment + 0.032*birth + 0.032*would\n",
        "Topic #56 0.129* + 0.053*deny + 0.044*thing + 0.030*fire + 0.029*dick + 0.023*signed + 0.021*basic + 0.021*scientific + 0.020*hold + 0.020*future\n",
        "Topic #57 0.223* + 0.037*exchange + 0.026*old + 0.022*`` + 0.017*n't + 0.015*must + 0.012*happened + 0.011*including + 0.011*work + 0.011*main\n",
        "Topic #58 0.125* + 0.114*probably + 0.101*show + 0.090*think + 0.075*parent + 0.037*shit + 0.025*daily + 0.018*agreeing + 0.015*left-leaning + 0.013*o\n",
        "Topic #59 0.274* + 0.010*even + 0.009*`` + 0.009*n't + 0.007*like + 0.006*people + 0.006*power + 0.006*policy + 0.006*gt + 0.006*one\n",
        "Topic #60 "
       ]
      },
      {
       "output_type": "stream",
       "stream": "stdout",
       "text": [
        "0.160* + 0.016*blow + 0.016*odd + 0.015*n't + 0.015*polls + 0.013*like + 0.011*one + 0.011*analysis + 0.010*potentially + 0.010*fbi\n",
        "Topic #61 0.124*trial + 0.110* + 0.061*zimmerman + 0.031*case + 0.028*innocent + 0.027*time + 0.023*criminal + 0.023*came + 0.019*also + 0.018*anyone\n",
        "Topic #62 0.142*knew + 0.117*wanted + 0.056*juror + 0.049*reason + 0.046*hyperbolic + 0.043* + 0.019*little + 0.019*marry + 0.013*blowing + 0.013*documents\n",
        "Topic #63 0.216* + 0.019*effects + 0.016*deductible + 0.015*n't + 0.014*ruled + 0.012*team + 0.012*body + 0.010*hide + 0.010*drone + 0.010*incentive\n",
        "Topic #64 0.043*dynamics + 0.043*secession + 0.028* + 0.026*coffee + 0.025*rise + 0.024*shocker + 0.023*2013 + 0.023*july + 0.023*presses + 0.022*utterly\n",
        "Topic #65 "
       ]
      },
      {
       "output_type": "stream",
       "stream": "stdout",
       "text": [
        "0.144* + 0.054*question + 0.034*whether + 0.028*actually + 0.027*\u2026 + 0.025*always + 0.024*0 + 0.024*scott + 0.022*equality + 0.021*ok\n",
        "Topic #66 0.167* + 0.019*move + 0.018*`` + 0.018*2009 + 0.016*much + 0.013*n't + 0.012*opposition + 0.011*necessary + 0.011*voted + 0.010*toward\n",
        "Topic #67 0.114* + 0.100*convict + 0.043*movement + 0.042*trolling + 0.027*goals + 0.027*asses + 0.025*exceptions + 0.018*comfort + 0.016*name + 0.016*ultimate\n",
        "Topic #68 0.164* + 0.028*z + 0.023*witness + 0.020*attacks + 0.018*contact + 0.018*something + 0.017*weird + 0.015*hostile + 0.015*banned + 0.013*born\n",
        "Topic #69 0.260*racist + 0.093* + 0.057*crazy + 0.036*unfair + 0.033*conclusion + 0.032*entire + 0.023*n't + 0.023*pretty + 0.021*people + 0.020*attempt\n",
        "Topic #70 "
       ]
      },
      {
       "output_type": "stream",
       "stream": "stdout",
       "text": [
        "0.145*reasonable + 0.132*little + 0.054*really + 0.053*til + 0.040* + 0.034*indistinguishable + 0.026*blood + 0.017*lobby + 0.012*versa + 0.010*500\n",
        "Topic #71 0.089* + 0.063*n't + 0.039*canada + 0.035*force + 0.027*wo + 0.027*appear + 0.022*chose + 0.020*search + 0.019*certainly + 0.019*like\n",
        "Topic #72 0.069* + 0.066*face + 0.057*race + 0.051*win + 0.051*time + 0.035*lesser + 0.032*hands + 0.025*jail + 0.025*saying + 0.020*secret\n",
        "Topic #73 0.125* + 0.069*license + 0.062*young + 0.048*group + 0.042*violence + 0.035*towards + 0.033*n't + 0.027*often + 0.025*continue + 0.018*yes\n",
        "Topic #74 0.169* + 0.069*black + 0.064*right + 0.060*wing + 0.037*wife + 0.025*ago + 0.022*left + 0.021*n't + 0.021*rational + 0.020*``\n",
        "Topic #75 "
       ]
      },
      {
       "output_type": "stream",
       "stream": "stdout",
       "text": [
        "0.134* + 0.062*17 + 0.053*propaganda + 0.030*reading + 0.028*blows + 0.026*intended + 0.023*lose + 0.021*old + 0.020*regards + 0.017*importantly\n",
        "Topic #76 0.112* + 0.054*character + 0.048*walking + 0.041*agree + 0.035*away + 0.034*post + 0.034*make + 0.030*every + 0.024*punched + 0.020*finally\n",
        "Topic #77 0.150*name + 0.128* + 0.035*least + 0.032*fair + 0.029*warren + 0.028*like + 0.027*still + 0.025*r/liberal + 0.023*ended + 0.022*think\n",
        "Topic #78 0.127* + 0.059*court + 0.026*supreme + 0.019*rhetoric + 0.019*n't + 0.017*lying + 0.015*state + 0.013*government + 0.013*way + 0.013*thing\n",
        "Topic #79 0.067*got + 0.067* + 0.064*logic + 0.034*wonder + 0.033*language + 0.029*easier + 0.020*include + 0.020*us + 0.020*honestly + 0.016*love\n",
        "Topic #80 "
       ]
      },
      {
       "output_type": "stream",
       "stream": "stdout",
       "text": [
        "0.124* + 0.070*marijuana + 0.024*n't + 0.023*theory + 0.018*know + 0.015*wear + 0.012*personality + 0.012*presidency + 0.011*would + 0.011*ruling\n",
        "Topic #81 0.128* + 0.048*n't + 0.035*people + 0.028*process + 0.022*cover + 0.022*would + 0.022*get + 0.019*yes + 0.019*killed + 0.016*exists\n",
        "Topic #82 0.067* + 0.056*others + 0.046*n't + 0.041*afford + 0.035*members + 0.034*taken + 0.032*would + 0.032*argue + 0.029*understood + 0.020*care\n",
        "Topic #83 0.150* + 0.034*simple + 0.021*n't + 0.020*would + 0.018*plans + 0.017*return + 0.016*let + 0.015*fails + 0.014*fault + 0.013*decided\n",
        "Topic #84 0.087*exactly + 0.070*death + 0.060*sub + 0.046* + 0.046*united + 0.042*ve + 0.024*states + 0.024*assholes + 0.024*nuts + 0.023*precisely\n",
        "Topic #85 "
       ]
      },
      {
       "output_type": "stream",
       "stream": "stdout",
       "text": [
        "0.119*ever + 0.070*problem + 0.062*life + 0.047*killing + 0.046*come + 0.039*happen + 0.029*bent + 0.028*perfectly + 0.023*says + 0.022*need\n",
        "Topic #86 0.096* + 0.049*hard + 0.045*gop + 0.039*said + 0.034*incident + 0.033*regarding + 0.026*done + 0.021*provide + 0.020*obama + 0.019*well\n",
        "Topic #87 0.159* + 0.050*along + 0.036*hispanic + 0.030*seeing + 0.029*people + 0.028*power + 0.025*learn + 0.023*agencies + 0.020*president + 0.015*always\n",
        "Topic #88 0.180* + 0.040*prosecution + 0.027*troll + 0.024*ground + 0.024*defend + 0.023*increases + 0.020*moment + 0.019*one + 0.019*increase + 0.017*n't\n",
        "Topic #89 0.108*jury + 0.107*us + 0.043*california + 0.036* + 0.036*seems + 0.033*state + 0.032*constitution + 0.029*speech + 0.022*pope + 0.016*freedom\n",
        "Topic #90 "
       ]
      },
      {
       "output_type": "stream",
       "stream": "stdout",
       "text": [
        "0.064*worse + 0.054* + 0.043*enough + 0.033*sense + 0.033*used + 0.032*flag + 0.031*inflation + 0.031*common + 0.028*money + 0.027*might\n",
        "Topic #91 0.140* + 0.064*bushs + 0.055*obamas + 0.050*security + 0.046*though + 0.037*deserve + 0.025*possibly + 0.023*cabinet + 0.019*spying + 0.019*privatize\n",
        "Topic #92 0.104* + 0.102*voters + 0.038*parties + 0.029*political + 0.018*lazy + 0.018*dr + 0.017*important + 0.017*n't + 0.017*fucking + 0.016*gerrymandered\n",
        "Topic #93 0.066*beyond + 0.066* + 0.042*coming + 0.026*punch + 0.025*definitely + 0.025*indefensible + 0.023*contribute + 0.022*generally + 0.021*event + 0.020*us\n",
        "Topic #94 0.331* + 0.175*http + 0.028*damn + 0.021*watching + 0.019*taking + 0.016*two + 0.014*9 + 0.011*canadian + 0.010*implementation + 0.010*kicked\n",
        "Topic #95 "
       ]
      },
      {
       "output_type": "stream",
       "stream": "stdout",
       "text": [
        "0.254* + 0.040*behavior + 0.035*gt + 0.027*said + 0.026*decision + 0.021*advocate + 0.016*special + 0.016*claim + 0.013*kid + 0.013*n't\n",
        "Topic #96 0.220* + 0.103*thanks + 0.045*bot + 0.030*water + 0.029*provisions + 0.019*u/winneonsword + 0.017*sky + 0.017*proving + 0.015*temple + 0.012*blue\n",
        "Topic #97 0.250* + 0.025*downvoted + 0.019*areas + 0.016*populace + 0.016*get + 0.015*http + 0.014*`` + 0.014*lots + 0.014*solution + 0.012*foxnews\n",
        "Topic #98 0.096*makes + 0.070*third + 0.064*video + 0.053* + 0.051*current + 0.039*time + 0.034*enjoy + 0.030*votes + 0.029*vote + 0.018*get\n",
        "Topic #99 0.193* + 0.080*sound + 0.043*doctors + 0.042*natural + 0.038*soon + 0.025*www.youtube.com/watch + 0.021*forgets + 0.016*jury + 0.016*notice + 0.014*http\n",
        "Topic #100 "
       ]
      },
      {
       "output_type": "stream",
       "stream": "stdout",
       "text": [
        "0.124*favor + 0.074* + 0.067*double + 0.049*happens + 0.042*justice + 0.022*standards + 0.020*documentary + 0.017*prosecute + 0.015*watch + 0.014*back\n",
        "Topic #101 0.163* + 0.030*pretty + 0.029*george + 0.016*october + 0.016*way + 0.015*d + 0.014*lack + 0.013*broken + 0.013*action + 0.012*procedure\n",
        "Topic #102 0.106*prices + 0.076*absolutely + 0.055* + 0.050*issue + 0.044*without + 0.031*disgusting + 0.029*king + 0.028*within + 0.027*things + 0.026*saying\n",
        "Topic #103 0.233*zimmerman + 0.117*martin + 0.085*evidence + 0.058* + 0.033*trayvon + 0.027*history + 0.023*fact + 0.019*law + 0.013*judge + 0.013*guilt\n",
        "Topic #104 0.117* + 0.095*kid + 0.057*medical + 0.045*police + 0.038*krugman + 0.031*talking + 0.027*school + 0.020*referring + 0.020*call + 0.019*calls\n",
        "Topic #105 "
       ]
      },
      {
       "output_type": "stream",
       "stream": "stdout",
       "text": [
        "0.162*civil + 0.102*liberties + 0.085*war + 0.064* + 0.045*hand + 0.039*happy + 0.038*crimes + 0.022*surveillance + 0.022*bitch + 0.018*drugs\n",
        "Topic #106 0.081*calm + 0.066*acting + 0.033*shoved + 0.033*psychotic + 0.022*numbered + 0.020*remark + 0.018*crash + 0.018*yelled + 0.018*began + 0.018*reacted\n",
        "Topic #107 0.048*panama + 0.048*influenced + 0.046*confronted + 0.025*mountain + 0.025*teenage + 0.025*threatened + 0.025*daughter + 0.013*forde + 0.008*minutemen + 0.008*shawna\n",
        "Topic #108 0.156* + 0.034*poor + 0.032*people + 0.030*girlfriend + 0.020*economy + 0.014*much + 0.012*white + 0.011*moreover + 0.011*b + 0.011*rich\n",
        "Topic #109 0.144* + 0.052*consider + 0.030*yep + 0.028*state + 0.027*perhaps + 0.023*mr + 0.023*one + 0.023*matter + 0.022*argument + 0.019*another\n",
        "Topic #110 "
       ]
      },
      {
       "output_type": "stream",
       "stream": "stdout",
       "text": [
        "0.180* + 0.035*murder + 0.030*rules + 0.025*location + 0.017*popular + 0.017*relevant + 0.017*n't + 0.015*well + 0.015*shot + 0.015*one\n",
        "Topic #111 0.056*right-wing + 0.054*common + 0.051*articles + 0.039*living + 0.038*book + 0.036*context + 0.034* + 0.033*re + 0.033*brought + 0.029*reality\n",
        "Topic #112 0.131* + 0.028*n't + 0.017*people + 0.017*`` + 0.016*healthcare + 0.015*man + 0.015*given + 0.015*chance + 0.014*ll + 0.013*get\n",
        "Topic #113 0.100* + 0.029*cost + 0.029*price + 0.024*living + 0.023*states + 0.022*weeks + 0.021*physically + 0.018*would + 0.018*maryland + 0.017*decided\n",
        "Topic #114 0.129* + 0.058*shut + 0.044*1 + 0.033*plus + 0.032*stated + 0.025*think + 0.024*done + 0.022*went + 0.021*program + 0.020*people\n",
        "Topic #115 "
       ]
      },
      {
       "output_type": "stream",
       "stream": "stdout",
       "text": [
        "0.131*violent + 0.073*crime + 0.063*fact + 0.052*higher + 0.034*contempt + 0.025*rates + 0.018* + 0.015*much + 0.014*roll + 0.013*differentiates\n",
        "Topic #116 0.136* + 0.056*n't + 0.056*prove + 0.054*registration + 0.024*would + 0.023*people + 0.015*think + 0.012*already + 0.012*happened + 0.011*care\n",
        "Topic #117 0.122* + 0.110*media + 0.043*amount + 0.030*town + 0.029*support + 0.026*three + 0.025*behind + 0.024*giving + 0.023*companies + 0.019*significant\n",
        "Topic #118 0.116* + 0.075*woman + 0.051*start + 0.037*least + 0.031*lost + 0.030*front + 0.029*says + 0.029*knows + 0.026*5 + 0.025*49\n",
        "Topic #119 0.241* + 0.173*gt + 0.144*system + 0.033*literally + 0.017*republicans + 0.016*state + 0.014*excited + 0.014*individual + 0.013*everything + 0.013*solely\n",
        "Topic #120 "
       ]
      },
      {
       "output_type": "stream",
       "stream": "stdout",
       "text": [
        "0.107* + 0.064*difference + 0.047*two + 0.036*open + 0.035*act + 0.034*sorry + 0.033*married + 0.028*passed + 0.025*part + 0.020*allowing\n",
        "Topic #121 0.099* + 0.056*good + 0.046*seen + 0.044*thing + 0.039*degree + 0.033*one + 0.031*clinton + 0.029*wow + 0.028*even + 0.028*also\n",
        "Topic #122 0.098* + 0.091*effect + 0.051*sign + 0.047*set + 0.042*plan + 0.039*ultimately + 0.029*kennedy + 0.028*appearance + 0.024*legislation + 0.020*congress\n",
        "Topic #123 0.231* + 0.019*gt + 0.019*n't + 0.014*due + 0.013*goods + 0.010*would + 0.008*well + 0.007*people + 0.007*wage + 0.007*\u201d\n",
        "Topic #124 0.097* + 0.077*payer + 0.028*n't + 0.026*single + 0.022*person + 0.019*know + 0.019*care + 0.018*actually + 0.017*benghazi + 0.015*kind\n",
        "Topic #125 "
       ]
      },
      {
       "output_type": "stream",
       "stream": "stdout",
       "text": [
        "0.139* + 0.059*etc + 0.039*means + 0.039*otherwise + 0.035*south + 0.032*disagree + 0.026*offer + 0.018*calls + 0.017*either + 0.016*rights\n",
        "Topic #126 0.093*look + 0.079*rest + 0.051* + 0.041*dont + 0.038*silly + 0.038*allow + 0.027*sane + 0.020*made + 0.019*10 + 0.015*n't\n",
        "Topic #127 0.127* + 0.047*attack + 0.036*white + 0.027*sides + 0.024*belief + 0.023*questions + 0.022*points + 0.021*expect + 0.020*believe + 0.019*extreme\n",
        "Topic #128 0.420* + 0.024*mother + 0.015*`` + 0.014*fuck + 0.012*http + 0.011*obama + 0.009*like + 0.009*concern + 0.009*fascist + 0.008*black\n",
        "Topic #129 0.172*men + 0.106* + 0.066*definitely + 0.024*authoritarian + 0.018*enacted + 0.017*ridiculously + 0.016*union + 0.014*pricing + 0.014*agreement + 0.014*``\n",
        "Topic #130 "
       ]
      },
      {
       "output_type": "stream",
       "stream": "stdout",
       "text": [
        "0.237* + 0.019*n't + 0.014*`` + 0.011*people + 0.010*gt + 0.009*one + 0.008*think + 0.008*right + 0.006*government + 0.005*would\n",
        "Topic #131 0.138* + 0.028*clearly + 0.027*possible + 0.019*n't + 0.017*one + 0.015*increased + 0.015*bias + 0.014*turnout + 0.014*put + 0.011*targets\n",
        "Topic #132 0.082* + 0.039*poverty + 0.034*middle + 0.033*raising + 0.030*closer + 0.028*class + 0.022*heritage + 0.019*large + 0.018*working + 0.017*things\n",
        "Topic #133 0.092* + 0.039*n't + 0.038*statement + 0.034*radio + 0.026*games + 0.019*owned + 0.017*executive + 0.016*go + 0.013*discussed + 0.013*positive\n",
        "Topic #134 0.132* + 0.034*liberals + 0.026*maintain + 0.025*promote + 0.020*earth + 0.020*going + 0.019*advocating + 0.018*wtf + 0.015*n't + 0.015*shit\n",
        "Topic #135 "
       ]
      },
      {
       "output_type": "stream",
       "stream": "stdout",
       "text": [
        "0.156* + 0.031*n't + 0.031*send + 0.017*awesome + 0.017*depending + 0.016*truck + 0.015*genius + 0.015*would + 0.015*planes + 0.014*voice\n",
        "Topic #136 0.129* + 0.079*heard + 0.051*mandate + 0.044*liberalism + 0.027*ve + 0.023*governor + 0.019*aca + 0.018*fucking + 0.018*actually + 0.015*agree\n",
        "Topic #137 0.125* + 0.056*street + 0.048*original + 0.046*2nd + 0.031*extent + 0.026*test + 0.019*streets + 0.019*wall + 0.018*amendment + 0.017*would\n",
        "Topic #138 0.152* + 0.028*better + 0.026*match + 0.025*cost + 0.023*put + 0.022*new + 0.020*would + 0.019*together + 0.018*somewhere + 0.017*re\n",
        "Topic #139 0.082*position + 0.077*claim + 0.059* + 0.055*workers + 0.053*part + 0.049*paid + 0.035*save + 0.023*unfairly + 0.022*board + 0.019*medication\n",
        "Topic #140 "
       ]
      },
      {
       "output_type": "stream",
       "stream": "stdout",
       "text": [
        "0.166* + 0.015*n't + 0.013*shot + 0.012*altercation + 0.010*aggressor + 0.010*clearly + 0.010*fairness + 0.010*requires + 0.009*gun + 0.009*felt\n",
        "Topic #141 0.116* + 0.096*defense + 0.027*equipment + 0.022*puts + 0.022*several + 0.019*currently + 0.018*n't + 0.017*would + 0.017*require + 0.017*like\n",
        "Topic #142 0.092*head + 0.054* + 0.043*thank + 0.035*accountable + 0.034*decisions + 0.031*zone + 0.029*holding + 0.019*making + 0.018*former + 0.018*jobs\n",
        "Topic #143 0.125*market + 0.076*big + 0.062*government + 0.058*free + 0.032*solution + 0.022*everything + 0.018*always + 0.018*think + 0.015*say + 0.013*function\n",
        "Topic #144 0.141*thought + 0.082*considered + 0.059* + 0.049*economic + 0.047*scary + 0.032*look + 0.030*really + 0.028*green + 0.026*try + 0.023*haha\n",
        "Topic #145 "
       ]
      },
      {
       "output_type": "stream",
       "stream": "stdout",
       "text": [
        "0.140* + 0.037*consistent + 0.028*suspect + 0.024*places + 0.020*get + 0.019*representatives + 0.018*useful + 0.018*`` + 0.016*n't + 0.014*people\n",
        "Topic #146 0.171* + 0.026*re + 0.024*mistake + 0.019*determined + 0.018*one + 0.018*discussion + 0.018*gt + 0.018*made + 0.017*think + 0.017*``\n",
        "Topic #147 0.076* + 0.057*gone + 0.053*full + 0.052*person + 0.047*typical + 0.035*shit + 0.034*failed + 0.032*power + 0.029*pull + 0.026*could\n",
        "Topic #148 0.071*imagine + 0.067*find + 0.053*similar + 0.051*article + 0.047*dog + 0.044*treatment + 0.029*neighbors + 0.029*oj + 0.028*devils + 0.028*previously\n",
        "Topic #149 0.066*asked + 0.043*today + 0.043*trayvon + 0.042*build + 0.033*back + 0.028*testify + 0.027*condescending + 0.027*blocked + 0.024*helping + 0.021*strategy\n",
        "Topic #150 "
       ]
      },
      {
       "output_type": "stream",
       "stream": "stdout",
       "text": [
        "0.135* + 0.048*view + 0.047*jesus + 0.029*love + 0.029*point + 0.027*public + 0.024*lie + 0.023*self + 0.020*existed + 0.016*mix\n",
        "Topic #151 0.155* + 0.074*proof + 0.061*burden + 0.045*another + 0.042*thread + 0.041*hard + 0.029*doubt + 0.022*source + 0.021*one + 0.019*r/politics\n",
        "Topic #152 0.207* + 0.019*n't + 0.016*people + 0.014*would + 0.013*`` + 0.012*gt + 0.009*government + 0.008*self-defense + 0.007*like + 0.006*affect\n",
        "Topic #153 0.165* + 0.027*n't + 0.014*yelling + 0.013*empty + 0.013*wages + 0.013*troll + 0.012*businesses + 0.011*corporations + 0.011*much + 0.011*see\n",
        "Topic #154 0.150* + 0.041*like + 0.031*benefit + 0.023*minority + 0.020*uk + 0.019*asking + 0.019*take + 0.018*challenge + 0.018*know + 0.016*would\n",
        "Topic #155 "
       ]
      },
      {
       "output_type": "stream",
       "stream": "stdout",
       "text": [
        "0.158* + 0.088*insurance + 0.025*obamacare + 0.019*lot + 0.019*involved + 0.018*n't + 0.018*family + 0.017*people + 0.016*wealth + 0.016*health\n",
        "Topic #156 0.117* + 0.025*therefore + 0.024*subreddit + 0.024*day + 0.019*someone + 0.018*n't + 0.017*said + 0.016*attacking + 0.015*eyes + 0.014*m\n",
        "Topic #157 0.172* + 0.041*allowed + 0.039*damage + 0.027*insane + 0.025*doubt + 0.024*called + 0.019*top + 0.018*friends + 0.015*essentially + 0.012*something\n",
        "Topic #158 0.081* + 0.056*bush + 0.039*killed + 0.037*things + 0.032*people + 0.031*narrative + 0.030*hear + 0.023*screaming + 0.021*saw + 0.021*n't\n",
        "Topic #159 0.111* + 0.065*using + 0.042*refuse + 0.035*specific + 0.035*someone + 0.027*18 + 0.026*bill + 0.025*facts + 0.023*background + 0.022*n't\n",
        "Topic #160 "
       ]
      },
      {
       "output_type": "stream",
       "stream": "stdout",
       "text": [
        "0.234* + 0.051*murder + 0.027*n't + 0.024*`` + 0.022*entirely + 0.020*comment + 0.016*case + 0.016*broken + 0.011*completely + 0.011*d\n",
        "Topic #161 0.164*business + 0.121* + 0.034*pay + 0.034*particular + 0.028*tell + 0.026*choose + 0.022*choice + 0.022*please + 0.021*could + 0.018*think\n",
        "Topic #162 0.212* + 0.078*texas + 0.020*hopes + 0.019*n't + 0.018*burn + 0.017*crap + 0.015*`` + 0.015*female + 0.014*d + 0.013*equitable\n",
        "Topic #163 0.091* + 0.045*away + 0.041*certain + 0.033*war + 0.031*constitutional + 0.026*speaking + 0.024*realize + 0.024*evidence + 0.022*admit + 0.021*guns\n",
        "Topic #164 0.092* + 0.044*national + 0.043*defense + 0.038*50 + 0.030*military + 0.025*worth + 0.023*existence + 0.023*security + 0.019*payer + 0.017*time\n",
        "Topic #165 "
       ]
      },
      {
       "output_type": "stream",
       "stream": "stdout",
       "text": [
        "0.123* + 0.063*report + 0.060*idea + 0.048*statements + 0.030*good + 0.028*dna + 0.025*lead + 0.023*n't + 0.019*fairly + 0.018*like\n",
        "Topic #166 0.106* + 0.090*thinks + 0.044*nobody + 0.038*indeed + 0.037*central + 0.030*perspective + 0.027*sent + 0.022*capitalism + 0.020*needs + 0.014*great\n",
        "Topic #167 0.112*fox + 0.076*news + 0.056* + 0.027*really + 0.026*bunch + 0.026*n't + 0.025*get + 0.023*actually + 0.023*realize + 0.022*let\n",
        "Topic #168 0.156* + 0.058*side + 0.044*facts + 0.039*elected + 0.031*may + 0.030*americans + 0.026*office + 0.023*guy + 0.019*n't + 0.019*socialist\n",
        "Topic #169 0.114* + 0.077*guilty + 0.061*us + 0.042*congress + 0.041*internet + 0.034*want + 0.029*payers + 0.028*president + 0.024*protect + 0.022*citizens\n",
        "Topic #170 "
       ]
      },
      {
       "output_type": "stream",
       "stream": "stdout",
       "text": [
        "0.106* + 0.095*legal + 0.064*end + 0.058*rights + 0.034*mean + 0.032*wrong + 0.027*writing + 0.027*sad + 0.026*part + 0.022*slavery\n",
        "Topic #171 0.114* + 0.090*self + 0.035*house + 0.027*folks + 0.024*would + 0.024*buy + 0.021*powerful + 0.021*2010 + 0.018*private + 0.018*completely\n",
        "Topic #172 0.063*correct + 0.054* + 0.043*worry + 0.041*n't + 0.033*happened + 0.032*100 + 0.031*convince + 0.029*away + 0.027*10 + 0.026*price\n",
        "Topic #173 0.094* + 0.049*run + 0.043*doubt + 0.035*planned + 0.033*fighting + 0.031*vs + 0.031*bottom + 0.030*aware + 0.028*leaders + 0.028*e.g\n",
        "Topic #174 0.113* + 0.026*often + 0.025*color + 0.025*regulation + 0.021*wind + 0.019*individuals + 0.018*society + 0.017*n't + 0.016*affordable + 0.016*realized\n",
        "Topic #175 "
       ]
      },
      {
       "output_type": "stream",
       "stream": "stdout",
       "text": [
        "0.092*mccain + 0.090* + 0.054*form + 0.046*fuck + 0.045*information + 0.039*john + 0.035*pointing + 0.026*idiot + 0.022*totally + 0.021*re\n",
        "Topic #176 0.107* + 0.059*meant + 0.044*nearly + 0.042*word + 0.034*times + 0.034*might + 0.030*`` + 0.030*met + 0.028*quite + 0.026*edit\n",
        "Topic #177 0.154* + 0.055*palin + 0.034*influence + 0.022*process + 0.020*theft + 0.020*one + 0.018*n't + 0.016*countries + 0.015*changes + 0.014*popular\n",
        "Topic #178 0.152* + 0.042*women + 0.041*know + 0.023*would + 0.022*debate + 0.021*bad + 0.020*prison + 0.019*gt + 0.019*law + 0.016*n't\n",
        "Topic #179 0.174* + 0.043*plenty + 0.028*employees + 0.021*n't + 0.020*gt + 0.014*catch + 0.013*average + 0.013*corporation + 0.012*get + 0.012*people\n",
        "Topic #180 "
       ]
      },
      {
       "output_type": "stream",
       "stream": "stdout",
       "text": [
        "0.081* + 0.039*well + 0.036*right + 0.031*need + 0.029*clear + 0.028*destroy + 0.022*sponsored + 0.022*regulated + 0.021*protecting + 0.018*sit\n",
        "Topic #181 0.122* + 0.030*n't + 0.016*ballot + 0.015*voting + 0.012*enough + 0.011*think + 0.011*years + 0.011*short + 0.010*lose + 0.010*know\n",
        "Topic #182 0.078* + 0.070*majority + 0.063*opinion + 0.051*funding + 0.047*conservatives + 0.044*grant + 0.040*waste + 0.037*hispanics + 0.019*abusive + 0.018*area\n",
        "Topic #183 0.159* + 0.060*political + 0.038*stand + 0.028*weapon + 0.020*knowledge + 0.014*across + 0.014*one + 0.014*inaccurate + 0.014*opinion + 0.013*would\n",
        "Topic #184 0.212* + 0.035*primary + 0.028*talk + 0.026*voice + 0.017*katrina + 0.014*n't + 0.012*could + 0.011*driver + 0.009*republican + 0.009*gt\n",
        "Topic #185 "
       ]
      },
      {
       "output_type": "stream",
       "stream": "stdout",
       "text": [
        "0.094* + 0.065*fascist + 0.041*businesses + 0.036*sound + 0.028*profit + 0.027*keep + 0.027*morons + 0.026*viable + 0.023*heart + 0.021*covered\n",
        "Topic #186 0.104* + 0.039*hero + 0.038*note + 0.032*afraid + 0.031*term + 0.026*especially + 0.026*dark + 0.023*\u201ci + 0.020*juror + 0.020*good\n",
        "Topic #187 0.147* + 0.037*bag + 0.026*gun + 0.023*prior + 0.018*call + 0.017*access + 0.016*idiotic + 0.015*n't + 0.015*enough + 0.015*guns\n",
        "Topic #188 0.070* + 0.044*truly + 0.040*including + 0.032*watch + 0.028*ability + 0.028*vermont + 0.027*show + 0.026*cheating + 0.023*terrible + 0.022*regardless\n",
        "Topic #189 0.107* + 0.050*people + 0.030*past + 0.026*job + 0.024*guns + 0.022*person + 0.020*n't + 0.018*idea + 0.018*provide + 0.016*cash\n",
        "Topic #190 "
       ]
      },
      {
       "output_type": "stream",
       "stream": "stdout",
       "text": [
        "0.077*last + 0.071* + 0.043*later + 0.043*2 + 0.034*year + 0.034*house + 0.026*gotten + 0.025*kept + 0.025*profiling + 0.025*stewart\n",
        "Topic #191 0.183* + 0.130*born + 0.033*n't + 0.017*m + 0.017*outside + 0.017*going + 0.017*eye + 0.015*us + 0.014*multiple + 0.013*democrats\n",
        "Topic #192 0.202* + 0.016*n't + 0.015*father + 0.013*however + 0.011*would + 0.010*hearing + 0.010*discussions + 0.009*fyi + 0.009*also + 0.008*affects\n",
        "Topic #193 0.137*less + 0.068*pattern + 0.066*election + 0.047* + 0.035*moron + 0.016*`` + 0.015*hoping + 0.015*presumably + 0.015*controversy + 0.015*paranoia\n",
        "Topic #194 0.217* + 0.020*table + 0.014*struck + 0.012*people + 0.010*`` + 0.010*therefore + 0.010*n't + 0.010*compromise + 0.010*30 + 0.008*one\n",
        "Topic #195 "
       ]
      },
      {
       "output_type": "stream",
       "stream": "stdout",
       "text": [
        "0.148*oh + 0.115*god + 0.051*centralized + 0.040*forgot + 0.028*responded + 0.026*provinces + 0.016*medications + 0.014*standpoint + 0.014*determine + 0.014*decentralized\n",
        "Topic #196 0.127* + 0.046*held + 0.029*n't + 0.028*groups + 0.028*fact + 0.027*automatically + 0.023*split + 0.021*north + 0.016*many + 0.016*people\n",
        "Topic #197 0.221* + 0.012*`` + 0.012*n't + 0.010*people + 0.009*would + 0.006*one + 0.006*like + 0.005*small + 0.005*\u2014 + 0.005*way\n",
        "Topic #198 0.121* + 0.058*luck + 0.049*easy + 0.038*intent + 0.027*good + 0.025*treason + 0.024*get + 0.023*low + 0.019*negative + 0.018*n't\n",
        "Topic #199 0.123* + 0.036*senator + 0.027*assistance + 0.019*minded + 0.018*nut + 0.017*see + 0.017*blind + 0.016*like + 0.016*star + 0.016*differences\n",
        "\n"
       ]
      }
     ],
     "prompt_number": 128
    },
    {
     "cell_type": "heading",
     "level": 2,
     "metadata": {},
     "source": [
      "3. Dimensionality Reduction"
     ]
    },
    {
     "cell_type": "markdown",
     "metadata": {},
     "source": [
      "First, to understand why dimensionality reduction is necessary to make our computation tractable, we will print out the number of features generated by our various models for feature selection:"
     ]
    },
    {
     "cell_type": "code",
     "collapsed": false,
     "input": [
      "def feature_dimension_size(df, model):\n",
      "    X_train, Y_train = model.make_training_xy(df)\n",
      "    return X_train.shape[1]\n",
      "\n",
      "models = {\n",
      "    \"bag of words\": BagOfWordsModel(),\n",
      "    \"2-gram\": NGramModel(2),\n",
      "    \"3-gram\": NGramModel(3),\n",
      "    \"4-gram\": NGramModel(4),\n",
      "}\n",
      "for name, model in models.items():\n",
      "    dim = feature_dimension_size(df, model)\n",
      "    print \"size of feature space (%s): %d\" % (name, dim)"
     ],
     "language": "python",
     "metadata": {},
     "outputs": [
      {
       "output_type": "stream",
       "stream": "stdout",
       "text": [
        "size of feature space (2-gram): 78777\n",
        "size of feature space (4-gram): 83415"
       ]
      },
      {
       "output_type": "stream",
       "stream": "stdout",
       "text": [
        "\n",
        "size of feature space (3-gram): 86205"
       ]
      },
      {
       "output_type": "stream",
       "stream": "stdout",
       "text": [
        "\n",
        "size of feature space (bag of words): 13588"
       ]
      },
      {
       "output_type": "stream",
       "stream": "stdout",
       "text": [
        "\n"
       ]
      }
     ],
     "prompt_number": 36
    },
    {
     "cell_type": "markdown",
     "metadata": {},
     "source": [
      "As you can see, the feature space is extremely large. Combined with a large number of comments, the memory footprint of training a learner without reducing the dimensionality will be intractable for most commodity machines. Thus, we need to reduce the dimensionality of our feature space, while still maintaining enough information to make useful upvote predictions.\n",
      "\n",
      "We abstracted our reduction strategies into an abstract bas class `AbstractReduction`."
     ]
    },
    {
     "cell_type": "code",
     "collapsed": false,
     "input": [
      "from abc import ABCMeta, abstractmethod\n",
      "from sklearn.decomposition import KernelPCA\n",
      "from sklearn.feature_selection import SelectKBest, chi2, f_regression\n",
      "from sklearn.decomposition import RandomizedPCA\n",
      "from sklearn.decomposition import TruncatedSVD\n",
      "\n",
      "class AbstractReduction(object):\n",
      "    \"\"\"\n",
      "    Interface for dimensionality reduction. Extend this for new models for\n",
      "    reducing dimensionality of a dataset.\n",
      "\n",
      "    Usage\n",
      "    -----\n",
      "    reducer = MyReduction(...)\n",
      "    reducer.fit(X) # call this only once!\n",
      "    X_reduced = reducer.transform(X)\n",
      "    other_x_reduced = reducer.transform(other_x)\n",
      "    \"\"\"\n",
      "    __metaclass__ = ABCMeta\n",
      "\n",
      "    @abstractmethod\n",
      "    def n_components(self):\n",
      "        \"\"\"\n",
      "        Return the target reduced dimension size.\n",
      "        \"\"\"\n",
      "        pass\n",
      "\n",
      "    @abstractmethod\n",
      "    def fit(self, X, Y=None):\n",
      "        \"\"\"\n",
      "        Fit the estimator to this data set. This must be called exactly ONCE\n",
      "        to have consistent results when we call transform().\n",
      "\n",
      "        Args\n",
      "        ----\n",
      "        X : feature matrix (n_comments x n_features)\n",
      "        Y : values to fit to\n",
      "\n",
      "        Returns\n",
      "        -------\n",
      "        Nothing\n",
      "        \"\"\"\n",
      "        pass\n",
      "\n",
      "    @abstractmethod\n",
      "    def transform(self, X):\n",
      "        \"\"\"\n",
      "        Transforms the feature matrix X into a feature matrix of smaller size\n",
      "\n",
      "        Args\n",
      "        ----\n",
      "        X : feature matrix (n_comments x n_features)\n",
      "\n",
      "        Returns\n",
      "        -------\n",
      "        X_reduced : reduced feature matrix (n_comments x n_components)\n",
      "        \"\"\"\n",
      "        pass\n",
      "\n",
      "class NoopReduction(AbstractReduction):\n",
      "    \"\"\"\n",
      "    does nothing\n",
      "    \"\"\"\n",
      "    def n_components(self):\n",
      "        pass\n",
      "    def fit(self, X, Y=None):\n",
      "        pass\n",
      "    def transform(self, X):\n",
      "        return X"
     ],
     "language": "python",
     "metadata": {},
     "outputs": [],
     "prompt_number": 56
    },
    {
     "cell_type": "heading",
     "level": 3,
     "metadata": {},
     "source": [
      "3a. Select K Best"
     ]
    },
    {
     "cell_type": "markdown",
     "metadata": {},
     "source": [
      "For our first attempt, we will pick the best $k$ features with the highest scores, where score is computed by computing linear regressions on our input vectors $x_c$ and $y_c$ where $x_c$ is the feature vector and $y_c$ is the normalized upvote score for a comment $c$."
     ]
    },
    {
     "cell_type": "code",
     "collapsed": false,
     "input": [
      "class SelectKBestReduction(AbstractReduction):\n",
      "    \"\"\"\n",
      "    Select K Best features using linear regressions\n",
      "\n",
      "    http://stackoverflow.com/questions/10098533/implementing-bag-of-words-naive-bayes-classifier-in-nltk\n",
      "    http://scikit-learn.org/stable/modules/generated/sklearn.feature_selection.SelectKBest.html\n",
      "    http://scikit-learn.org/stable/modules/generated/sklearn.feature_selection.chi2.html\n",
      "    \"\"\"\n",
      "\n",
      "    def __init__(self, n_components, score_func=lambda X, y: f_regression(X, y, center=False)):\n",
      "        self.select = SelectKBest(score_func=score_func, k=n_components)\n",
      "        self.n_components = n_components\n",
      "\n",
      "    def n_components(self):\n",
      "        return self.n_components\n",
      "\n",
      "    def fit(self, X, Y=None):\n",
      "        self.select.fit(X, Y)\n",
      "\n",
      "    def transform(self, X):\n",
      "        return self.select.transform(X)"
     ],
     "language": "python",
     "metadata": {},
     "outputs": [],
     "prompt_number": 57
    },
    {
     "cell_type": "heading",
     "level": 3,
     "metadata": {},
     "source": [
      "3b. Kernel Principle Components Analysis"
     ]
    },
    {
     "cell_type": "markdown",
     "metadata": {},
     "source": [
      "We also use **Kernel Principle Components Analysis**, a generalization of linear PCA\n",
      "to reduce the dimensionality of our feature space $X$. As a review of PCA, given\n",
      "a feature space $\\mathbf{X}$ with dimensionality $d$, our goal is to compute a mapping\n",
      "from $\\mathbf{X}$ to a new feature space $\\mathbf{X'}$ with dimensionality $d' \\leq d$.\n",
      "\n",
      "Linear PCA does this by choosing the principle $d'$ eigenvectors of  the original feature space $X$\n",
      "that **preserves maximum variance** in the original feature space. Let $M$ be the number of\n",
      "data points we have in our data set. To perform linear PCA, we compute covariance matrix $T$\n",
      "\n",
      "$$\\mathbf{T} = \\frac{1}{M} \\sum_{c = i}^M \\mathbf{x_c}^\\intercal \\mathbf{x_c}$$\n",
      "\n",
      "and then compute the largeset $d'$ eigenvectors of $T$. Let $W$ be the matrix whose columns are these $d'$ eigenvectors, and so $W$ is a linear transformation from original feature space $\\mathbf{X}$ to new feature space $\\mathbf{X'}$ Then to get our reduced feature vectors, we compute\n",
      "\n",
      "$$\\mathbf{X'} = \\mathbf{X} \\mathbf{T}$$\n",
      "\n",
      "where the rows of $\\mathbf{X}$ are our original feature vectors $\\mathbf{x_c}$ and the rows of $\\mathbf{X'}$ are our reduced feature vectors $\\mathbf{x'_c}$.\n",
      "\n",
      "Linear PCA only works well when the original data set is linearly separable. However, nonlinearly separable data can be separated if we project our original data set into a larger space, and then perform linear PCA. To do this, we define a mapping \n",
      "\n",
      "$\\Phi(\\mathbf{x_i})$ where $\\Phi : \\mathbb{R}^d \\to \\mathbb{R}^p$ where $p$ is possibly infinite.\n",
      "\n",
      "Now instead of computing the covariance matrix $T$ directly, we compute the covariance matrix $T'$ of the transformed state space:\n",
      "\n",
      "$$\\mathbf{T}' = \\frac{1}{M} \\sum_{c = i}^M \\Phi(\\mathbf{x_c})^\\intercal \\Phi(\\mathbf{x_c})$$\n",
      "\n",
      "Define a **kernel function** $K(\\mathbf{x_i}, \\mathbf{x_j}) = \\Phi(\\mathbf{x_i})^\\intercal \\Phi(\\mathbf{x_j})$. Thus, using an appropriate kernel, we can project our feature space into a much larger, possibly infinite, state space and perform PCA in that space, all without needing to ever actually perform the mapping into this huge space!\n",
      "\n",
      "This is useful for us, because we have no reason to expect that the features produced by our bag of words model and n-gram model to be linearly separable. However, using an appropriate kernel, we can project our feature vectors into a much larger space where they **are** linearly separable, and then reduce the dimensionality from there.\n",
      "\n",
      "We experiment with both linear and non-linear kernels."
     ]
    },
    {
     "cell_type": "code",
     "collapsed": false,
     "input": [
      "class KernelPCAReduction(AbstractReduction):\n",
      "    \"\"\"\n",
      "    Use kernel PCA to reduce dimensionality\n",
      "\n",
      "    http://scikit-learn.org/stable/modules/generated/sklearn.decomposition.KernelPCA.html\n",
      "    \"\"\"\n",
      "\n",
      "    def __init__(self, n_components, **kwargs):\n",
      "        self.pca = KernelPCA(n_components=n_components, **kwargs)\n",
      "        self.n_components = n_components\n",
      "\n",
      "    def n_components(self):\n",
      "        return self.n_components\n",
      "\n",
      "    def fit(self, X, Y=None):\n",
      "        self.pca.fit(X)\n",
      "\n",
      "    def transform(self, X):\n",
      "        return self.pca.transform(X)"
     ],
     "language": "python",
     "metadata": {},
     "outputs": [],
     "prompt_number": 58
    },
    {
     "cell_type": "heading",
     "level": 2,
     "metadata": {},
     "source": [
      "4. Learning"
     ]
    },
    {
     "cell_type": "markdown",
     "metadata": {},
     "source": [
      "To predict the upvotes, we use supervised learning models to learn a regresser that takes as input feature vectors $x_c$ and normalized upvotes $y_c$ for all comments $c$. We abstracted this functionality in the abstract base class `AbstractLearner`:"
     ]
    },
    {
     "cell_type": "code",
     "collapsed": false,
     "input": [
      "from abc import ABCMeta, abstractmethod\n",
      "from sklearn.naive_bayes import GaussianNB, MultinomialNB\n",
      "from sklearn.svm import SVR\n",
      "from sklearn.neighbors import KNeighborsRegressor\n",
      "from sklearn.tree import DecisionTreeRegressor\n",
      "import numpy as np\n",
      "\n",
      "class AbstractLearner(object):\n",
      "    \"\"\"\n",
      "    Interface for all learning models. Extend this class to create new learners.\n",
      "    \"\"\"\n",
      "    __metaclass__ = ABCMeta\n",
      "\n",
      "    @abstractmethod\n",
      "    def train(self, X, Y):\n",
      "        \"\"\"\n",
      "        Trains our model.\n",
      "\n",
      "        Args\n",
      "        ----\n",
      "        X : feature matrix. Each row is a feature vector of a datum\n",
      "            (e.g. feature vector for a comment)\n",
      "        Y : value vector. Each entry corresponds to the value associated\n",
      "            with the corresponding row in X.\n",
      "\n",
      "        num rows of X == length of Y\n",
      "\n",
      "        Returns\n",
      "        -------\n",
      "        Does NOT return anything. train() will have side effects on the object\n",
      "        and maintain state so that predict() can be called.\n",
      "        \"\"\"\n",
      "        pass\n",
      "\n",
      "    @abstractmethod\n",
      "    def predict(self, X):\n",
      "        \"\"\"\n",
      "        Predicts the values for the feature matrix X. This MUST be called\n",
      "        after train().\n",
      "\n",
      "        Args\n",
      "        ----\n",
      "        X : feature matrix. Each row is a feature vector of a datum\n",
      "\n",
      "        Returns\n",
      "        -------\n",
      "        Y : predicted values for each row of X\n",
      "        \"\"\"\n",
      "        pass"
     ],
     "language": "python",
     "metadata": {},
     "outputs": [],
     "prompt_number": 117
    },
    {
     "cell_type": "heading",
     "level": 3,
     "metadata": {},
     "source": [
      "4a. Gaussian Naive Bayes"
     ]
    },
    {
     "cell_type": "markdown",
     "metadata": {},
     "source": [
      "For our first pass at predicting upvotes, we use a **Gaussian Naive Bayes** model. This model makes the **naive bayes** assumption. Given random variable $Y$ and features $F_1, F_2, F_d$, the probability that we observe $Y = y$ given feature vector $x = (f_1, f_2, ... f_d)$, the naive bayes assumption assumes\n",
      "\n",
      "$$P(F_1 = f_1, F = f_2, ..., F = f_d | Y = y) = P(F_1 = f_1 | Y = y) \\cdots P(F_d = f_d | Y = y)$$\n",
      "\n",
      "in which we assume all the features are conditionally independent of each other, given the label value $Y$.\n",
      "\n",
      "In our example our features and label valuse (upvotes) are all continuous, and so we use the continuous form of the naive bayes assumption on the probability density functions:\n",
      "\n",
      "$$p(f_1, f2, ..., f_d | y) = p(f_1 | y) \\cdots p(f_2 | y).$$\n",
      "\n",
      "For Gaussian Naive Bayes, we assume that our probability density functions for each feature all have Gaussian distributions. To produce a regresser, we compute the predicted value $\\hat{y}$ for test vector $x$ by:\n",
      "\n",
      "$$\\hat{y} = \\arg \\max_{y} \\, p(y | x) = \\arg \\max_{y} \\, p(y) p(x | y) = \\arg \\max_{y} \\, p(y) \\prod_{i = 1}^d p(x_d | y).$$"
     ]
    },
    {
     "cell_type": "code",
     "collapsed": false,
     "input": [
      "class GaussianNBLearner(AbstractLearner):\n",
      "    \"\"\"\n",
      "    Gaussian Naive Bayes Learner\n",
      "\n",
      "    http://scikit-learn.org/stable/modules/generated/sklearn.naive_bayes.GaussianNB.html\n",
      "\n",
      "    We need to use X.toarray() because those functions expect dense arrays.\n",
      "    \"\"\"\n",
      "\n",
      "    def __init__(self):\n",
      "        self.nb = GaussianNB()\n",
      "\n",
      "    def train(self, X, Y):\n",
      "        if hasattr(X, 'toarray'):\n",
      "            self.nb.fit(X.toarray(), Y)\n",
      "        else:\n",
      "            self.nb.fit(X, Y)\n",
      "\n",
      "    def predict(self, X):\n",
      "        if (hasattr(X, \"toarray\")):\n",
      "            return self.nb.predict(X.toarray())\n",
      "        else:\n",
      "            return self.nb.predict(X)\n",
      "\n",
      "    def score(self, X, Y):\n",
      "        return np.mean(np.abs(self.nb.predict(X) - np.array(Y)))"
     ],
     "language": "python",
     "metadata": {},
     "outputs": [],
     "prompt_number": 118
    },
    {
     "cell_type": "heading",
     "level": 3,
     "metadata": {},
     "source": [
      "4b. Support Vector Machines"
     ]
    },
    {
     "cell_type": "markdown",
     "metadata": {},
     "source": [
      "Another type of supervised learning model we used is **Support Vector Machines (SVM)**, which attempts to find a decision boundary that maximizes the distance between each point and the boundary. We use kernel SVM to allow us to experiment both linear and non-linear decision boundaries, as we have no reason to expect that our data set is linearly separable."
     ]
    },
    {
     "cell_type": "code",
     "collapsed": false,
     "input": [
      "class SVMLearner(AbstractLearner):\n",
      "    \"\"\"\n",
      "    Support Vector Machine Learner for regression (continuous\n",
      "    labels as opposed to discrete labels)\n",
      "\n",
      "    http://scikit-learn.org/stable/modules/generated/sklearn.svm.SVR.html\n",
      "    \"\"\"\n",
      "\n",
      "    def __init__(self, **kwargs):\n",
      "        self.svr = SVR(**kwargs)\n",
      "\n",
      "    def train(self, X, Y):\n",
      "        self.svr.fit(X, Y)\n",
      "\n",
      "    def predict(self, X):\n",
      "        return self.svr.predict(X)"
     ],
     "language": "python",
     "metadata": {},
     "outputs": [],
     "prompt_number": 119
    },
    {
     "cell_type": "heading",
     "level": 3,
     "metadata": {},
     "source": [
      "4c. K Nearest Neighbors"
     ]
    },
    {
     "cell_type": "markdown",
     "metadata": {},
     "source": [
      "We also used **K Nearest Neighbors** which computes the nearest neighbors for every point in the feature space, and then interpolates to compute the predicted upvotes $y$ for a given test vector $x$"
     ]
    },
    {
     "cell_type": "code",
     "collapsed": false,
     "input": [
      "class KNeighborsLearner(AbstractLearner):\n",
      "    \"\"\"\n",
      "    Learner using k-nearest neighbors\n",
      "    \"\"\"\n",
      "\n",
      "    def __init__(self, **kwargs):\n",
      "        self.knn = KNeighborsRegressor(**kwargs)\n",
      "\n",
      "    def train(self, X, Y):\n",
      "        self.knn.fit(X, Y)\n",
      "\n",
      "    def predict(self, X):\n",
      "        return self.knn.predict(X)"
     ],
     "language": "python",
     "metadata": {},
     "outputs": [],
     "prompt_number": 120
    },
    {
     "cell_type": "heading",
     "level": 3,
     "metadata": {},
     "source": [
      "4d. Decision Trees."
     ]
    },
    {
     "cell_type": "markdown",
     "metadata": {},
     "source": [
      "We also used **Decision Trees**, where we build a tree: each node represents a feature to decide on, and the branches we take depend on the value for values for that feature. Note that decision trees are good when a few features dominate the regression, but are NOT good when some features are co-predictors."
     ]
    },
    {
     "cell_type": "code",
     "collapsed": false,
     "input": [
      "class DecisionTreeLearner(AbstractLearner):\n",
      "    \"\"\"\n",
      "    Decision Tree Regressor\n",
      "\n",
      "    http://scikit-learn.org/stable/modules/generated/sklearn.tree.DecisionTreeRegressor.html\n",
      "    \"\"\"\n",
      "\n",
      "    def __init__(self, **kwargs):\n",
      "        self.tree = DecisionTreeRegressor(**kwargs)\n",
      "\n",
      "    def train(self, X, Y):\n",
      "        if hasattr(X, 'toarray'):\n",
      "            self.tree.fit(X.toarray(), Y)\n",
      "        else:\n",
      "            self.tree.fit(X, Y)\n",
      "\n",
      "    def predict(self, X):\n",
      "        if (hasattr(X, \"toarray\")):\n",
      "            return self.tree.predict(X.toarray())\n",
      "        else:\n",
      "            return self.tree.predict(X)"
     ],
     "language": "python",
     "metadata": {},
     "outputs": []
    },
    {
     "cell_type": "heading",
     "level": 2,
     "metadata": {},
     "source": [
      "5. Putting it all together"
     ]
    },
    {
     "cell_type": "markdown",
     "metadata": {},
     "source": [
      "Now let's finally put it all together! We have multiple feature models (bag of words, ngrams), multiple reducers (Kernel PCA, Select K Best), and multiple learners (Gaussian Naive Bayes, SVM, K-nearest neighbors). We will compute the training and test error for multiple of these (feature, reducer, learner) combinations on a the \"Liberal\" subreddit dataset.\n",
      "\n",
      "For a feature vector $x$ with normalized upvotes $y$, define the **error** of a the prediction $\\hat{y}$ for $x$ as $|\\hat{y} - y|$. The **error of a set of predictions** for a data set $X$ with true normalized upvotes $Y$ is the sum of all the errors of the individual feature vectors $x_c$ in $X$. For each (feature, reducer, learner) tuple, we apply cross validation and take the mean training error and test error from all the folds."
     ]
    },
    {
     "cell_type": "code",
     "collapsed": false,
     "input": [
      "\"\"\"\n",
      "feature models names -> functions that return feature model instances\n",
      "\"\"\"\n",
      "FEATURES = {\n",
      "    \"1gram\" : BagOfWordsModel,\n",
      "    \"2gram\" : lambda: NGramModel(2),\n",
      "    \"3gram\" : lambda: NGramModel(3),\n",
      "    \"4gram\" : lambda: NGramModel(4),\n",
      "    \"5gram\" : lambda: NGramModel(5),\n",
      "    \"6gram\" : lambda: NGramModel(6),\n",
      "    \"7gram\" : lambda: NGramModel(7),\n",
      "    \"8gram\" : lambda: NGramModel(8),\n",
      "    \"9gram\" : lambda: NGramModel(9),\n",
      "    \"10gram\" : lambda: NGramModel(10),\n",
      "    \"100lda\" : lambda: LdaFeatureModel(num_topics=100),\n",
      "    \"200lda\" : lambda: LdaFeatureModel(num_topics=200),\n",
      "    \"500lda\" : lambda: LdaFeatureModel(num_topics=500),\n",
      "    \"1000lda\" : lambda: LdaFeatureModel(num_topics=1000),\n",
      "    \"1500lda\" : lambda: LdaFeatureModel(num_topics=1500),\n",
      "    \"2000lda\" : lambda: LdaFeatureModel(num_topics=2000),\n",
      "}\n",
      "\n",
      "\"\"\"\n",
      "reducer names -> functions that take reduced dim as an arg\n",
      "\"\"\"\n",
      "REDUCERS = {\n",
      "    \"select\" : SelectKBestReduction,\n",
      "    \"pca-linear\" : lambda dim : KernelPCAReduction(dim, kernel='linear'),\n",
      "    \"pca-cosine\" : lambda dim : KernelPCAReduction(dim, kernel='cosine'),\n",
      "    \"none\" : lambda dim : NoopReduction(),\n",
      "}\n",
      "\n",
      "\"\"\"\n",
      "learner names -> functions that return learner instances\n",
      "\"\"\"\n",
      "LEARNERS = {\n",
      "    \"nb\" : GaussianNBLearner,\n",
      "    \"svm-linear\" : lambda: SVMLearner(kernel='linear'),\n",
      "    \"svm-rbf\" : lambda: SVMLearner(kernel='rbf'),\n",
      "    \"svm-poly\" : lambda: SVMLearner(kernel='poly'),\n",
      "    \"knn\" : lambda: KNeighborsLearner(),\n",
      "    \"tree\" : lambda: DecisionTreeLearner(),\n",
      "}\n",
      "\n",
      "def compute_score(learner, X, Y):\n",
      "    \"\"\"\n",
      "    get predictions for X, and compute the sum of the absolute\n",
      "    differences between our predictions and true values\n",
      "    \"\"\"\n",
      "    return np.mean(np.abs(learner.predict(X) - np.array(Y)))\n",
      "\n",
      "def test_performance(df, model_name, learner_name, reducer_name, n_folds, dim):\n",
      "    \"\"\"\n",
      "    Does cross validation on the dataframe, with n_folds.\n",
      "    \"\"\"\n",
      "    model = FEATURES[model_name]()\n",
      "    if model_name == \"lda\":\n",
      "        reducer_name = \"none\"\n",
      "\n",
      "    # transform the input data into feature vectors and labels\n",
      "    X, y = model.make_training_xy(df)\n",
      "    kfolds = cross_validation.KFold(len(df.index), n_folds)\n",
      "\n",
      "    # for each of the folds, create a training and test set\n",
      "    fold = 1\n",
      "    test_errors = []\n",
      "    train_errors = []\n",
      "    for train_index, test_index in kfolds:\n",
      "        reducer = REDUCERS[reducer_name](dim)\n",
      "        learner = LEARNERS[learner_name]()\n",
      "\n",
      "        X_train, X_test = X[train_index], X[test_index]\n",
      "        y_train, y_test = list(np.asarray(y)[train_index]), list(np.asarray(y)[test_index])\n",
      "\n",
      "        # Reduce the dimensionality of our training set\n",
      "        reducer.fit(X_train, y_train)\n",
      "        X_train_red = reducer.transform(X_train)\n",
      "\n",
      "        # Train our learner on the reduced features\n",
      "        learner.train(X_train_red, y_train)\n",
      "        train_score = compute_score(learner, X_train_red, y_train)\n",
      "        train_errors.append(train_score)\n",
      "\n",
      "        # Apply the same dimensionality reduction to the test set's features\n",
      "        # test the performance of the model on the test set\n",
      "        X_test_red = reducer.transform(X_test)\n",
      "        test_score = compute_score(learner, X_test_red, y_test)\n",
      "        test_errors.append(test_score)\n",
      "\n",
      "        print \"--------------\"\n",
      "        print \"TEST  ERROR \" + str(fold) + \": \" + str(model.y_to_label(df, [test_score]))\n",
      "        print \"TRAIN ERROR \" + str(fold) + \": \" + str(model.y_to_label(df, [train_score]))\n",
      "        fold = fold + 1\n",
      "    print \"--------------\"\n",
      "    print \"MEAN TEST  ERROR:\", str(model.y_to_label(df, [np.mean(test_errors)]))\n",
      "    print \"MEAN TRAIN ERROR:\", str(model.y_to_label(df, [np.mean(train_errors)]))"
     ],
     "language": "python",
     "metadata": {},
     "outputs": [],
     "prompt_number": 63
    },
    {
     "cell_type": "heading",
     "level": 3,
     "metadata": {},
     "source": [
      "5a. Feature selection performance"
     ]
    },
    {
     "cell_type": "markdown",
     "metadata": {},
     "source": [
      "We first analyze how $N$ for our N-gram model effects our training and test errors as we hold everything else fixed. For this experiment, we used SelectKBest with 5000 features, and we used the Gaussian Naive Bayes learner. We run cross-validation with 5 folds and repeat the mean training error and test error."
     ]
    },
    {
     "cell_type": "code",
     "collapsed": false,
     "input": [
      "# This takes a LONG time to run. Uncomment this if you want to run it for yourself.\n",
      "# We have already computed these values.\n",
      "# You can also run this using the main.py script in our source tree.\n",
      "# e.g. python main.py --folds 5 --dim 5000 data/Liberal 1gram select nb\n",
      "\n",
      "#dim = 5000\n",
      "#learner_name = 'nb'\n",
      "#reducer_name = 'select'\n",
      "#nfolds = 5\n",
      "#for model_name in ['1gram', '2gram', '3gram', '4gram', '5gram', '6gram', '7gram', '8gram', '9gram', '10gram']:\n",
      "#    test_performance(df, model_name, learner_name, reducer_name, nfolds, dim)\n"
     ],
     "language": "python",
     "metadata": {},
     "outputs": [],
     "prompt_number": 65
    },
    {
     "cell_type": "code",
     "collapsed": false,
     "input": [
      "test_errors_N = [6.6782311003497545, 21.928323917137519, 17.265994978028818, 14.655750829522075, 17.214098287149177,\n",
      "               4.6761292709174009, 4.668925881086893, 4.668925881086893, 4.668925881086893, 4.668925881086893] \n",
      "training_errors_N = [3.3867285300014913, 19.717744925391496, 14.720794572440825, 13.540993714252844, 15.957741753870657,\n",
      "                   3.3842465207478107, 3.3729679817879035, 3.4020287227162549, 3.4825392647311326, 3.5340413875068148]  \n",
      "N = [1, 2, 3, 4, 5, 6, 7, 8, 9, 10]\n",
      "\n",
      "plt.plot(N, test_errors_N, color=\"r\", label=\"test error\")\n",
      "plt.plot(N, training_errors_N, color=\"b\", label=\"training error\")\n",
      "plt.xlabel(\"N\")\n",
      "plt.ylabel(\"error\")\n",
      "plt.title(\"Ngram model error\")\n",
      "plt.legend()\n",
      "plt.show()"
     ],
     "language": "python",
     "metadata": {},
     "outputs": [
      {
       "metadata": {},
       "output_type": "display_data",
       "png": "[encoded data removed]",
       "text": [
        "<matplotlib.figure.Figure at 0x1091922d0>"
       ]
      }
     ],
     "prompt_number": 75
    },
    {
     "cell_type": "markdown",
     "metadata": {},
     "source": [
      "As you can see in the plot above, the testing error is higher than the training error in all cases, as expected. This is expected because the model will overfit to the data it is trained with, and as a result, will do perform better on the training data than on unseen data. The errors reach a minimum at roughly $N = 6$, and stays flat for all $N$ bigger than 6 that we tested. This probably suggests that the minimum possible test error for this data set and Ngram model is roughly 4.6761292709174009 and as we increase $N$, we begin to overfit $N$ to the training data to asymptotically approach this limit.\n",
      "\n",
      "Now we explore our latent dirichlet model and vary the number of topics, and see how this affects our error. We do not need a reducer, as the LDA model gives us a small enough feature vector with dimensionality equal to the number of topics. We also use a Naive Bayes Learner."
     ]
    },
    {
     "cell_type": "code",
     "collapsed": false,
     "input": [
      "# This takes a LONG time to run. Uncomment this if you wish to run it.\n",
      "# We have already computed the values below.\n",
      "\n",
      "#dim = 0 # doesn't matter for LDA\n",
      "#learner_name = 'nb'\n",
      "#reducer_name = 'none'\n",
      "#nfolds = 5\n",
      "#for model_name in ['100da', '200da', '500da', '1000da', '1500da', '2000da']:\n",
      "#    test_performance(df, model_name, learner_name, reducer_name, nfolds, dim)"
     ],
     "language": "python",
     "metadata": {},
     "outputs": []
    },
    {
     "cell_type": "code",
     "collapsed": false,
     "input": [
      "test_errors_topics = [13.424812572863443, 10.265180925477548, 7.5337238812662655,\n",
      "                     6.6564000986458751, 6.4690812483185445, 6.114045377096228]\n",
      "training_errors_topics = [12.745506547495545, 9.2152238184580018, 5.6056019228606679,\n",
      "                         4.0391282604222516, 3.4840692433779754, 3.0744229309924136]\n",
      "topics = [100, 200, 500, 1000, 1500, 2000]\n",
      "\n",
      "plt.plot(topics, test_errors_topics, color=\"r\", label=\"test error\")\n",
      "plt.plot(topics, training_errors_topics, color=\"b\", label=\"training error\")\n",
      "plt.xlabel(\"num topics\")\n",
      "plt.ylabel(\"error\")\n",
      "plt.title(\"error for latent dirichlet allocation\")\n",
      "plt.legend()\n",
      "plt.show()"
     ],
     "language": "python",
     "metadata": {},
     "outputs": [
      {
       "metadata": {},
       "output_type": "display_data",
       "png": "[encoded data removed]",
       "text": [
        "<matplotlib.figure.Figure at 0x109198a10>"
       ]
      }
     ],
     "prompt_number": 88
    },
    {
     "cell_type": "markdown",
     "metadata": {},
     "source": [
      "In this graph, we see that as the number of topics increases, the error drastically increases. Once again, the test error is higher than the training error, as expected. As the number of topics increases, the rate of decreases slows, as if the errors were asymptotically approaching a theoretical minimum error, as with the Ngram model."
     ]
    },
    {
     "cell_type": "heading",
     "level": 3,
     "metadata": {},
     "source": [
      "5b. Varying the reduced dimension size"
     ]
    },
    {
     "cell_type": "markdown",
     "metadata": {},
     "source": [
      "Next, we determine how the reduced dimension size impacts our N-gram model. We vary the reduced dimension size, holding N = 6 fixed, using Select k best for reduction, and using a Gaussian Naive Bayes learner."
     ]
    },
    {
     "cell_type": "code",
     "collapsed": false,
     "input": [
      "# This takes a LONG time to run. Uncomment this if you wish to run it.\n",
      "# We have already computed the values below.\n",
      "\n",
      "#model_name = '6gram'\n",
      "#learner_name = 'nb'\n",
      "#reducer_name = 'select'\n",
      "#nfolds = 5\n",
      "#for dim in [1000, 2000, 3000, 4000, 5000, 6000, 7000, 8000, 9000, 10000]:\n",
      "#    test_performance(df, model_name, learner_name, reducer_name, nfolds, dim)"
     ],
     "language": "python",
     "metadata": {},
     "outputs": [],
     "prompt_number": 73
    },
    {
     "cell_type": "code",
     "collapsed": false,
     "input": [
      "test_errors_dim = [4.6646930768540864, 4.668925881086893, 4.6712563895614689, 4.6742224912563843, 4.6761292709174009,\n",
      "                  4.4706176576091767, 4.34180409828714, 4.34180409828714, 4.473371894897312, 4.473371894897312]\n",
      "training_errors_dim = [4.3227843375619628, 4.0066710363799602, 3.7512745829639802, 3.5975610668357989, 3.3842465207478107,\n",
      "                      3.0448085047190259, 2.7286158174560544, 2.5770105221929218, 2.5997505509187131, 2.5135204567999057] \n",
      "dim = [1000, 2000, 3000, 4000, 5000, 6000, 7000, 8000, 9000, 10000]\n",
      "\n",
      "plt.plot(dim, test_errors_dim, color=\"r\", label=\"test error\")\n",
      "plt.plot(dim, training_errors_dim, color=\"b\", label=\"training error\")\n",
      "plt.xlabel(\"reduced dimension size\")\n",
      "plt.ylim(0,max(test_errors_dim + training_errors_dim) + 1)\n",
      "plt.ylabel(\"error\")\n",
      "plt.title(\"error for reduced dimension size\")\n",
      "plt.legend()\n",
      "plt.show()"
     ],
     "language": "python",
     "metadata": {},
     "outputs": [
      {
       "metadata": {},
       "output_type": "display_data",
       "png": "[encoded data removed]",
       "text": [
        "<matplotlib.figure.Figure at 0x107fa3890>"
       ]
      }
     ],
     "prompt_number": 82
    },
    {
     "cell_type": "markdown",
     "metadata": {},
     "source": [
      "The plot shows a decreasing training error, but the test error stays pretty much the same. This suggests that we are overfitting to the training data as the reduced dimension size increases. This is expected because as we increase the reduced dimension size, we preserve more information about the\n",
      "underlying data, and so our learning model begins to overfit to the training data"
     ]
    },
    {
     "cell_type": "heading",
     "level": 3,
     "metadata": {},
     "source": [
      "5c. Varying our Reducer Type"
     ]
    },
    {
     "cell_type": "markdown",
     "metadata": {},
     "source": [
      "Now we vary our reducer type for our N-gram model. Since our reduced dimensionality did not change much after 1000, we use 1000 as our reduced dimensionality size. Keeping $N = 6$ constant and once again using Naive Bayes, we compare the Select K Best reducer with Kernel PCA using a linear kernel and a cosine kernel.\n",
      "\n",
      "The **cosine kernel** is defined as\n",
      "\n",
      "$$K(\\mathbf{u}, \\mathbf{v}) = \\frac{\\mathbf{u}^\\intercal \\mathbf{v} + c}{\\sqrt{(|u| + c)(|v| + c}}$$\n",
      "\n",
      "for some $c \\geq 0$, and the kernel intuitively creates a $\\Phi(\\cdot)$ that takes a vector z, adds an extra component $\\sqrt{c}$, and projects it onto the unit sphere."
     ]
    },
    {
     "cell_type": "code",
     "collapsed": false,
     "input": [
      "# This takes a LONG time to run. Uncomment this if you wish to run it.\n",
      "# We have already computed the values below.\n",
      "\n",
      "#dim = 1000\n",
      "#model_name = '6gram'\n",
      "#learner_name = 'nb'\n",
      "#nfolds = 5\n",
      "#for reducer_name in ['select', 'pca-linear', 'pca-cosine']\n",
      "#    test_performance(df, model_name, learner_name, reducer_name, nfolds, dim)"
     ],
     "language": "python",
     "metadata": {},
     "outputs": [],
     "prompt_number": 89
    },
    {
     "cell_type": "code",
     "collapsed": false,
     "input": [
      "test_errors_red = [4.6646930768540864, 32.943133351268997, 32.943347906017458 ]\n",
      "training_errors_red = [3.0448085047190259, 16.673633244710871, 16.791042820994882]\n",
      "red = ['select', 'pca-linear', 'pca-cosine']\n",
      "\n",
      "ind = np.arange(len(red))\n",
      "width=0.35\n",
      "plt.bar(ind, test_errors_red, width=width, color='r', label='test')\n",
      "plt.bar(ind + width, training_errors_red, width=width, color='b', label='training')\n",
      "plt.xlabel(\"reducer type\")\n",
      "plt.ylabel(\"error\")\n",
      "plt.ylim((0,max(test_errors_red) + 10))\n",
      "plt.xticks(ind + width, red)\n",
      "plt.title(\"error for reducer type\")\n",
      "plt.legend()\n",
      "plt.show()"
     ],
     "language": "python",
     "metadata": {},
     "outputs": [
      {
       "metadata": {},
       "output_type": "display_data",
       "png": "[encoded data removed]",
       "text": [
        "<matplotlib.figure.Figure at 0x10bfe0fd0>"
       ]
      }
     ],
     "prompt_number": 101
    },
    {
     "cell_type": "markdown",
     "metadata": {},
     "source": [
      "We note that PCA with a linear and cosine kernel had a much higher error rate than simply selecting the k best features. This is probably because our data is not linearly separable, and because our data did not fall well in the cosine kernel model. "
     ]
    },
    {
     "cell_type": "heading",
     "level": 3,
     "metadata": {},
     "source": [
      "5d. Varying our Learner Type"
     ]
    },
    {
     "cell_type": "markdown",
     "metadata": {},
     "source": [
      "Now we will vary our supervised learning models. We use the following models: Gaussian Naive Bayes, Kernel SVM, K Nearest Neighbors, and Decision Trees. We evaluate each of these models using $6$-gram models with Select 1000 best features, and LDA with 1000 topics. We use multiple kernels for SVM, including a linear kernel, a radial basis function kernel, and a polynomial kernel."
     ]
    },
    {
     "cell_type": "code",
     "collapsed": false,
     "input": [
      "# This takes a LONG time to run. Uncomment this if you wish to run it.\n",
      "# We have already computed the values below.\n",
      "\n",
      "#dim = 1000\n",
      "#model_name = '6gram'\n",
      "#reducer_name = 'select'\n",
      "#nfolds = 5\n",
      "#for learner_name in [\"naive bayes\", \"svm-linear\", \"svm-rbf\", \"svm-poly\", \"knn\", \"tree\"]\n",
      "#    test_performance(df, model_name, learner_name, reducer_name, nfolds, dim)\n",
      "\n",
      "#dim = 0 # does not matter for lda\n",
      "#model_name = '1000lda'\n",
      "#reducer_name = 'none'\n",
      "#nfolds = 5\n",
      "#for learner_name in [\"naive bayes\", \"svm-linear\", \"svm-rbf\", \"svm-poly\", \"knn\", \"tree\"]\n",
      "#    test_performance(df, model_name, learner_name, reducer_name, nfolds, dim)"
     ],
     "language": "python",
     "metadata": {},
     "outputs": []
    },
    {
     "cell_type": "code",
     "collapsed": false,
     "input": [
      "test_errors_gram_learn = [4.6646930768540864, 7.6660602481076738, 7.6713362363583615,\n",
      "                          7.6713114967267746, 3.9951501659044051, 4.073606198515674]\n",
      "train_errors_gram_learn = [4.3227843375619628, 7.5052523912893143, 7.66960128008719,\n",
      "                           7.6713106624221092, 4.0121562293418886, 3.7463615732015625]\n",
      "\n",
      "test_errors_lda_learn = [6.6579170029593824, 7.3258476170351878, 7.6646629264367858,\n",
      "                         7.6713114938404789, 4.2719195587839653, 4.914182321704577]\n",
      "train_errors_lda_learn = [4.1075544954557595, 7.1039404675110438, 7.6633765081376746,\n",
      "                          7.6713106603101906, 3.4479360249328983, 0.037950212776850824]\n",
      "learn = [\"naive bayes\", \"svm-linear\", \"svm-rbf\", \"svm-poly\", \"knn\", \"tree\"]\n",
      "\n",
      "ind = np.arange(len(learn))\n",
      "width=0.20\n",
      "\n",
      "plt.bar(ind, test_errors_gram_learn, width=width, color='r', label='6gram test')\n",
      "plt.bar(ind + width, train_errors_gram_learn, width=width, color='b', label='6gram training')\n",
      "plt.bar(ind + 2 * width, test_errors_lda_learn, width=width, edgecolor='black', hatch='*', color='r', label='lda test')\n",
      "plt.bar(ind + 3 * width, train_errors_lda_learn, width=width, edgecolor='black', hatch='*', color='b', label='lda training')\n",
      "plt.xlabel(\"learner type\")\n",
      "plt.ylabel(\"error\")\n",
      "plt.xticks(ind + 2 * width, learn)\n",
      "plt.title(\"error for learner type\")\n",
      "plt.legend()\n",
      "plt.show()"
     ],
     "language": "python",
     "metadata": {},
     "outputs": [
      {
       "metadata": {},
       "output_type": "display_data",
       "png": "[encoded data removed]",
       "text": [
        "<matplotlib.figure.Figure at 0x1093535d0>"
       ]
      }
     ],
     "prompt_number": 114
    },
    {
     "cell_type": "markdown",
     "metadata": {},
     "source": [
      "The 6-gram 1000 best feature model was better in test error on all supervised learning models, but LDA with 1000 topics was better in training error on all the models. This suggests that the LDA model overfit, having a much lower training error but much higher test error than our 6-gram model. The decision tree training error for LDA is an extreme example of this--the training error was roughly 0.03, suggesting that the decision tree overfit exactly to the training set.\n",
      "\n",
      "Furthermore, for both feature models, there is not much difference in the SVM models using different kernels. This suggests that the choice of kernel in this case does not matter much, and instead, the feature representation of the text is more important."
     ]
    },
    {
     "cell_type": "heading",
     "level": 3,
     "metadata": {},
     "source": [
      "5?. Predicting Upvotes for Real Comments"
     ]
    },
    {
     "cell_type": "markdown",
     "metadata": {},
     "source": [
      "http://www.reddit.com/r/Liberal/comments/1sk21o/ayn_randloving_ceo_destroys_his_empire_the/"
     ]
    },
    {
     "cell_type": "heading",
     "level": 1,
     "metadata": {},
     "source": [
      "Clustering Comments within a Subreddit"
     ]
    },
    {
     "cell_type": "heading",
     "level": 1,
     "metadata": {},
     "source": [
      "Sentence Prediction with Ngrams"
     ]
    },
    {
     "cell_type": "code",
     "collapsed": false,
     "input": [],
     "language": "python",
     "metadata": {},
     "outputs": []
    }
   ],
   "metadata": {}
  }
 ]
}