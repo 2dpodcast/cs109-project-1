{
 "metadata": {
  "name": ""
 },
 "nbformat": 3,
 "nbformat_minor": 0,
 "worksheets": [
  {
   "cells": [
    {
     "cell_type": "heading",
     "level": 1,
     "metadata": {},
     "source": [
      "Topics: clustering within subreddit, upvote prediction, sentence prediction"
     ]
    },
    {
     "cell_type": "code",
     "collapsed": false,
     "input": [
      "%matplotlib inline\n",
      "\n",
      "import json\n",
      "\n",
      "import requests\n",
      "import pandas as pd\n",
      "import numpy as np\n",
      "import matplotlib.pyplot as plt\n",
      "import requests\n",
      "from scipy import stats\n",
      "\n",
      "from operator import itemgetter\n",
      "\n",
      "pd.set_option('display.width', 500)\n",
      "pd.set_option('display.max_columns', 30)\n",
      "\n",
      "# set some nicer defaults for matplotlib\n",
      "from matplotlib import rcParams\n",
      "\n",
      "#these colors come from colorbrewer2.org. Each is an RGB triplet\n",
      "dark2_colors = [(0.10588235294117647, 0.6196078431372549, 0.4666666666666667),\n",
      "                (0.8509803921568627, 0.37254901960784315, 0.00784313725490196),\n",
      "                (0.4588235294117647, 0.4392156862745098, 0.7019607843137254),\n",
      "                (0.9058823529411765, 0.1607843137254902, 0.5411764705882353),\n",
      "                (0.4, 0.6509803921568628, 0.11764705882352941),\n",
      "                (0.9019607843137255, 0.6705882352941176, 0.00784313725490196),\n",
      "                (0.6509803921568628, 0.4627450980392157, 0.11372549019607843),\n",
      "                (0.4, 0.4, 0.4)]\n",
      "\n",
      "rcParams['figure.figsize'] = (10, 6)\n",
      "rcParams['figure.dpi'] = 150\n",
      "rcParams['axes.color_cycle'] = dark2_colors\n",
      "rcParams['lines.linewidth'] = 2\n",
      "rcParams['axes.grid'] = False\n",
      "rcParams['axes.facecolor'] = 'white'\n",
      "rcParams['font.size'] = 14\n",
      "rcParams['patch.edgecolor'] = 'none'\n",
      "\n",
      "stopwords = [\"a\",\"a's\",\"able\",\"about\",\"above\",\"according\",\"accordingly\",\"across\",\"actually\",\"after\",\"afterwards\",\"again\",\"against\",\"ain't\",\"all\",\"allow\",\"allows\",\"almost\",\"alone\",\"along\",\"already\",\"also\", \"although\",\"always\",\"am\",\"among\",\"amongst\",\"an\",\"and\",\"another\",\"any\",\"anybody\",\"anyhow\",\"anyone\",\"anything\",\"anyway\",\"anyways\",\"anywhere\",\"apart\",\"appear\",\"appreciate\",\"appropriate\",\"are\",    \"aren't\",\"around\",\"as\",\"aside\",\"ask\",\"asking\",\"associated\",\"at\",\"available\",\"away\",\"awfully\",\"b\",\"be\",\"became\",\"because\",\"become\",\"becomes\",\"becoming\",\"been\",\"before\",\"beforehand\",\"behind\",    \"being\",\"believe\",\"below\",\"beside\",\"besides\",\"best\",\"better\",\"between\",\"beyond\",\"both\",\"brief\",\"but\",\"by\",\"c\",\"c'mon\",\"c's\",\"came\",\"can\",\"can't\",\"cannot\",\"cant\",\"cause\",\"causes\",\"certain\",     \"certainly\",\"changes\",\"clearly\",\"co\",\"com\",\"come\",\"comes\",\"concerning\",\"consequently\",\"consider\",\"considering\",\"contain\",\"containing\",\"contains\",\"corresponding\",\"could\",\"couldn't\",\"course\",    \"currently\",\"d\",\"definitely\",\"described\",\"despite\",\"did\",\"didn't\",\"different\",\"do\",\"does\",\"doesn't\",\"doing\",\"don't\",\"done\",\"down\",\"downwards\",\"during\",\"e\",\"each\",\"edu\",\"eg\",\"eight\",\"either\",   \"else\",\"elsewhere\",\"enough\",\"entirely\",\"especially\",\"et\",\"etc\",\"even\",\"ever\",\"every\",\"everybody\",\"everyone\",\"everything\",\"everywhere\",\"ex\",\"exactly\",\"example\",\"except\",\"f\",\"far\",\"few\",\"fifth\", \"first\",\"five\",\"followed\",\"following\",\"follows\",\"for\",\"former\",\"formerly\",\"forth\",\"four\",\"from\",\"further\",\"furthermore\",\"g\",\"get\",\"gets\",\"getting\",\"given\",\"gives\",\"go\",\"goes\",\"going\",\"gone\",   \"got\",\"gotten\",\"greetings\",\"h\",\"had\",\"hadn't\",\"happens\",\"hardly\",\"has\",\"hasn't\",\"have\",\"haven't\",\"having\",\"he\",\"he's\",\"hello\",\"help\",\"hence\",\"her\",\"here\",\"here's\",\"hereafter\",\"hereby\",\"herein\",\"hereupon\",\"hers\",\"herself\",\"hi\",\"him\",\"himself\",\"his\",\"hither\",\"hopefully\",\"how\",\"howbeit\",\"however\",\"i\",\"i'd\",\"i'll\",\"i'm\",\"i've\",\"ie\",\"if\",\"ignored\",\"immediate\",\"in\",\"inasmuch\",\"inc\",       \"indeed\",\"indicate\",\"indicated\",\"indicates\",\"inner\",\"insofar\",\"instead\",\"into\",\"inward\",\"is\",\"isn't\",\"it\",\"it'd\",\"it'll\",\"it's\",\"its\",\"itself\",\"j\",\"just\",\"k\",\"keep\",\"keeps\",\"kept\",\"know\",      \"knows\",\"known\",\"l\",\"last\",\"lately\",\"later\",\"latter\",\"latterly\",\"least\",\"less\",\"lest\",\"let\",\"let's\",\"like\",\"liked\",\"likely\",\"little\",\"look\",\"looking\",\"looks\",\"ltd\",\"m\",\"mainly\",\"many\",\"may\",   \"maybe\",\"me\",\"mean\",\"meanwhile\",\"merely\",\"might\",\"more\",\"moreover\",\"most\",\"mostly\",\"much\",\"must\",\"my\",\"myself\",\"n\",\"name\",\"namely\",\"nd\",\"near\",\"nearly\",\"necessary\",\"need\",\"needs\",\"neither\",    \"never\",\"nevertheless\",\"new\",\"next\",\"nine\",\"no\",\"nobody\",\"non\",\"none\",\"noone\",\"nor\",\"normally\",\"not\",\"nothing\",\"novel\",\"now\",\"nowhere\",\"o\",\"obviously\",\"of\",\"off\",\"often\",\"oh\",\"ok\",\"okay\",\"old\",\"on\",\"once\",\"one\",\"ones\",\"only\",\"onto\",\"or\",\"other\",\"others\",\"otherwise\",\"ought\",\"our\",\"ours\",\"ourselves\",\"out\",\"outside\",\"over\",\"overall\",\"own\",\"p\",\"particular\",\"particularly\",\"per\",\"perhaps\",\"placed\",\"please\",\"plus\",\"possible\",\"presumably\",\"probably\",\"provides\",\"q\",\"que\",\"quite\",\"qv\",\"r\",\"rather\",\"rd\",\"re\",\"really\",\"reasonably\",\"regarding\",\"regardless\",\"regards\",\"relatively\",      \"respectively\",\"right\",\"s\",\"said\",\"same\",\"saw\",\"say\",\"saying\",\"says\",\"second\",\"secondly\",\"see\",\"seeing\",\"seem\",\"seemed\",\"seeming\",\"seems\",\"seen\",\"self\",\"selves\",\"sensible\",\"sent\",\"serious\",    \"seriously\",\"seven\",\"several\",\"shall\",\"she\",\"should\",\"shouldn't\",\"since\",\"six\",\"so\",\"some\",\"somebody\",\"somehow\",\"someone\",\"something\",\"sometime\",\"sometimes\",\"somewhat\",\"somewhere\",\"soon\",      \"sorry\",\"specified\",\"specify\",\"specifying\",\"still\",\"sub\",\"such\",\"sup\",\"sure\",\"t\",\"t's\",\"take\",\"taken\",\"tell\",\"tends\",\"th\",\"than\",\"thank\",\"thanks\",\"thanx\",\"that\",\"that's\",\"thats\",\"the\",\"their\", \"theirs\",\"them\",\"themselves\",\"then\",\"thence\",\"there\",\"there's\",\"thereafter\",\"thereby\",\"therefore\",\"therein\",\"theres\",\"thereupon\",\"these\",\"they\",\"they'd\",\"they'll\",\"they're\",\"they've\",\"think\",  \"third\",\"this\",\"thorough\",\"thoroughly\",\"those\",\"though\",\"three\",\"through\",\"throughout\",\"thru\",\"thus\",\"to\",\"together\",\"too\",\"took\",\"toward\",\"towards\",\"tried\",\"tries\",\"truly\",\"try\",\"trying\",     \"twice\",\"two\",\"u\",\"un\",\"under\",\"unfortunately\",\"unless\",\"unlikely\",\"until\",\"unto\",\"up\",\"upon\",\"us\",\"use\",\"used\",\"useful\",\"uses\",\"using\",\"usually\",\"uucp\",\"v\",\"value\",\"various\",\"very\",\"via\",     \"viz\",\"vs\",\"w\",\"want\",\"wants\",\"was\",\"wasn't\",\"way\",\"we\",\"we'd\",\"we'll\",\"we're\",\"we've\",\"welcome\",\"well\",\"went\",\"were\",\"weren't\",\"what\",\"what's\",\"whatever\",\"when\",\"whence\",\"whenever\",\"where\",   \"where's\",\"whereafter\",\"whereas\",\"whereby\",\"wherein\",\"whereupon\",\"wherever\",\"whether\",\"which\",\"while\",\"whither\",\"who\",\"who's\",\"whoever\",\"whole\",\"whom\",\"whose\",\"why\",\"will\",\"willing\",\"wish\",    \"with\",\"within\",\"without\",\"won't\",\"wonder\",\"would\",\"would\",\"wouldn't\",\"x\",\"y\",\"yes\",\"yet\",\"you\",\"you'd\",\"you'll\",\"you're\",\"you've\",\"your\",\"yours\",\"yourself\",\"yourselves\",\"z\",\"zero\"]"
     ],
     "language": "python",
     "metadata": {},
     "outputs": [],
     "prompt_number": 54
    },
    {
     "cell_type": "heading",
     "level": 1,
     "metadata": {},
     "source": [
      "Predicting Upvotes"
     ]
    },
    {
     "cell_type": "markdown",
     "metadata": {},
     "source": [
      "In order to predict upvotes for a comment on each subreddit, we separated the process into three parts:\n",
      "\n",
      "1. **Upvote Normalization.** In order to provide input to our supervised learning model, we normalized our upvotes to the interval $[0,1]$.\n",
      "2. **Feature Selection.** We used different types of features to summarize text within a comment. These features include using a Bag of Words model, N-gram model, Co-occurence model, and Latent Dirichlet Allocation.\n",
      "3. **Dimensionality Reduction.** Because the dimensionality of the feature space can be extremely large, we had to reduce the dimensionality of the feature space to make the training phrase tractable. To do this, we used multiple ways, including: Principle Components Analysis, Selecting k best features.\n",
      "4. **Learning.** We used several supervised learning methods using our features $X$ and the normalized number of upvotes $Y$ as the target value for our regressions. Our supervised learning methods include: Gaussian Naive Bayes, Support Vector Machines, and K Nearest Neighbors.\n",
      "5. **Putting it all together.** We experimented with different combinations of feature selection, dimensionality reduction, and learning models and discuss our results for each.\n",
      "\n",
      "\n",
      "Below, we include some utility functions for reading in subreddit data.\n"
     ]
    },
    {
     "cell_type": "code",
     "collapsed": false,
     "input": [
      "\"\"\"\n",
      "Data format:\n",
      "\n",
      "{\n",
      "  \"body\": string\n",
      "  \"post_ups\": int\n",
      "  \"subreddit_id\": string\n",
      "  \"created\": float (timestamp)\n",
      "  \"downs\": int\n",
      "  \"author\": string\n",
      "  \"post_net\": int\n",
      "  \"subreddit\": string\n",
      "  \"post_id\": string\n",
      "  \"post_downs\": int\n",
      "  \"net\": int\n",
      "  \"ups\": int\n",
      "  \"id\": string\n",
      "  \"post_created\": float\n",
      "}\n",
      "\"\"\"\n",
      "FIELDS = [\"body\", \"post_ups\", \"subreddit_id\", \"created\", \"downs\",\n",
      "          \"author\", \"post_net\", \"subreddit\", \"post_id\", \"post_downs\",\n",
      "          \"net\", \"ups\", \"id\", \"post_created\"]\n",
      "\n",
      "def load_subreddit(filename, fields=FIELDS):\n",
      "    \"\"\"\n",
      "    Loads the subreddit with the filename and returns\n",
      "    a dataframe where the column names are the fields\n",
      "    in the json object.\n",
      "    \"\"\"\n",
      "    file = open(filename, \"rb\")\n",
      "    arrays = {field:[] for field in fields}\n",
      "    for line in file.readlines():\n",
      "        data = json.loads(line)\n",
      "        for field in fields:\n",
      "            arrays[field].append(data[field])\n",
      "    df = pd.DataFrame(arrays)\n",
      "    file.close()\n",
      "    return df"
     ],
     "language": "python",
     "metadata": {},
     "outputs": [],
     "prompt_number": 19
    },
    {
     "cell_type": "heading",
     "level": 2,
     "metadata": {},
     "source": [
      "1. Upvote Normalization"
     ]
    },
    {
     "cell_type": "markdown",
     "metadata": {},
     "source": [
      "To provide input to our supervised learning model, we must normalize our upvotes to the interval $[0,1]$. To do this, we used the following procedures to normalize and denormalize upvotes:"
     ]
    },
    {
     "cell_type": "code",
     "collapsed": false,
     "input": [
      "topscores = {'Liberal': 106, 'videos': 10341, 'gentlemanboners': 1619, 'books':\n",
      "        4914, 'Music': 7286, 'politics': 15133, 'nba': 4108, 'pokemon': 3270,\n",
      "        'funny': 9633, 'technology': 10848, 'Conservative': 438, 'food': 3358,\n",
      "        'WTF': 11107, 'worldnews': 10559, 'soccer': 2985, 'gaming': 16413,\n",
      "        'aww': 7656, 'circlejerk': 3069, 'LadyBoners': 1190, 'news': 10995,\n",
      "        'television': 9274, 'science': 8965, 'nfl': 5416, 'pics': 19196,\n",
      "        'movies': 93504}\n",
      "\n",
      "\"\"\"\n",
      "normalize_scores\n",
      "    Normalizes the score based on the max upvotes in the given subreddit.\n",
      "\n",
      "    @param: ups (array of upvote scores), subreddit (name of subreddit)\n",
      "    @ret: array of normalized scores\n",
      "\"\"\"\n",
      "def normalize_scores(ups, subreddit):\n",
      "    return [float(x)/topscores[subreddit] for x in ups]\n",
      "\n",
      "def denormalize_scores(norms, subreddit):\n",
      "    return [x * topscores[subreddit] for x in norms]"
     ],
     "language": "python",
     "metadata": {},
     "outputs": [],
     "prompt_number": 11
    },
    {
     "cell_type": "heading",
     "level": 2,
     "metadata": {},
     "source": [
      "2. Feature Selection"
     ]
    },
    {
     "cell_type": "markdown",
     "metadata": {},
     "source": [
      "We abstracted the process of feature selection into an abstract class `AbstractFeatureModel`:"
     ]
    },
    {
     "cell_type": "code",
     "collapsed": false,
     "input": [
      "from abc import ABCMeta, abstractmethod\n",
      "import numpy as np\n",
      "from gensim import corpora\n",
      "from gensim.models import ldamodel\n",
      "from scipy.sparse import vstack\n",
      "from sklearn.feature_extraction.text import CountVectorizer, TfidfTransformer\n",
      "\n",
      "class AbstractFeatureModel(object):\n",
      "    \"\"\"\n",
      "    Interface for all feature extractors. Extend this class to\n",
      "    create new models for analyzing comment data.\n",
      "    \"\"\"\n",
      "    __metaclass__ = ABCMeta\n",
      "\n",
      "    @abstractmethod\n",
      "    def make_training_xy(self, data):\n",
      "        \"\"\"\n",
      "        Extract a feature matrix X and value vector Y from the training data set.\n",
      "\n",
      "        Args\n",
      "        ----\n",
      "        data : dataframe containing comments data and upvote data\n",
      "\n",
      "        Returns\n",
      "        -------\n",
      "        X : numpy array (dims: ncomments x nfeatures)\n",
      "            each row of X represents the features associated with each comment\n",
      "        Y : numpy array (dims: ncomments)\n",
      "            each entry corresponds to the value associated with each comment\n",
      "            (e.g. normalized upvote score, subreddit id)\n",
      "\n",
      "        Usage\n",
      "        -----\n",
      "        model = MyModel(param1, param2)\n",
      "        X, Y = model.make_training(data)\n",
      "        \"\"\"\n",
      "        pass\n",
      "\n",
      "    @abstractmethod\n",
      "    def data_to_x(self, new_data):\n",
      "        \"\"\"\n",
      "        Extracts a feature matrix X from the new data set (for predictions), where\n",
      "        the number of rows of X is the number of new data items in new_data\n",
      "\n",
      "        Args\n",
      "        ----\n",
      "        new_data : dataframe containing comments data, but no label data (upvotes, subreddit)\n",
      "\n",
      "        Returns\n",
      "        -------\n",
      "        X : feature matrix (num rows equal to number of entries in new_data)\n",
      "        \"\"\"\n",
      "        pass\n",
      "\n",
      "    @abstractmethod\n",
      "    def y_to_label(self, data, Y):\n",
      "        \"\"\"\n",
      "        Translates a y value back into its true representation (e.g. the\n",
      "        denormalized upvote score, the subreddit name).\n",
      "\n",
      "        Args\n",
      "        ----\n",
      "        data : dataframe containing comments data and upvote data\n",
      "\n",
      "        Returns\n",
      "        -------\n",
      "        labels : The human readable label for the given Y values, len(labels) == len(Y)\n",
      "        \"\"\"\n",
      "        pass"
     ],
     "language": "python",
     "metadata": {},
     "outputs": [],
     "prompt_number": 9
    },
    {
     "cell_type": "heading",
     "level": 3,
     "metadata": {},
     "source": [
      "1a. Bag of Words"
     ]
    },
    {
     "cell_type": "markdown",
     "metadata": {},
     "source": [
      "For the **Bag of Words model**, we split the comment into a list of words, and we represent each comment $c$ with a vector $x_c$ where the $i$-th component of $x_c$ is the number of times word $i$ appears in comment $x_c$. The size of vector $x_c$ is the total number of different words in all the comments $c$.\n",
      "\n",
      "We remove the most common English **stopwords** (is, are, be, etc.) as they appear very frequently in the English language, but do not provide us with much information about the content of the text.\n",
      "\n",
      "We also employ the [**term frequency-inverse document frequency**](http://en.wikipedia.org/wiki/Tf%E2%80%93idf) (tfidf) which is a numerical statistic that reflects how important a word is to a document in a collection of documents. In our case, a \"document\" is a comment, and our \"collection of documents\" is the set of comments in a specific subreddit. \n",
      "\n",
      "To use tfidf, given a term $t$ and a document $d$, we define the **term frequency** $tf(t,d)$ as:\n",
      "\n",
      "$tf(t,d) \\propto \\frac{f(t,d)}{max\\{ f(w,d) : w \\in d\\}}$\n",
      "\n",
      "where $f(t,d)$ is the frequency of the term $t$ in document $d$. We normalize by the maximum frequency of a any word in a document to prevent biases for longer documents.\n",
      "\n",
      "We also define the **inverse document frequency** $idf(t, D)$ for a term $t$ and collection of documents $D$ as:\n",
      "\n",
      "$tfidf(t, D) = \\log \\frac{|D|}{|\\{d \\in D : t\\in d\\}|}$\n",
      "\n",
      "which measures how common the term $t$ is across all documents $D$. Finally, we define the **term frequency-inverse document frequency** $tfidf(t, d, D)$ for a term $t$, document $d$, and collection of documents $D$ as:\n",
      "\n",
      "$tfidf(t, d, D) = tf(t, d) \\times idf(t, D)$\n",
      "\n",
      "which is high for words that have a high term frequency and is not common across the collection of documents. This statistic thus gives low weight to common terms (which tend to be common English words).\n"
     ]
    },
    {
     "cell_type": "code",
     "collapsed": false,
     "input": [
      "class BagOfWordsModel(AbstractFeatureModel):\n",
      "    \"\"\"\n",
      "    Bag of words model. This is only an example.\n",
      "    \"\"\"\n",
      "\n",
      "    def __init__(self, min_df=0, tfidf=True):\n",
      "        self.vectorizer = CountVectorizer(min_df=min_df, stop_words='english')\n",
      "        self.tfidf = tfidf\n",
      "\n",
      "    def make_training_xy(self, data):\n",
      "        X = self.vectorizer.fit_transform(data.body)\n",
      "        if self.tfidf:\n",
      "            X = TfidfTransformer().fit_transform(X)\n",
      "        X = X.tocsc()\n",
      "        Y = normalize_scores(data.ups, data.subreddit[0])\n",
      "        return X,Y\n",
      "\n",
      "    def data_to_x(self, new_data):\n",
      "        return self.vectorizer.transform(new_data.body)\n",
      "\n",
      "    def y_to_label(self, data, Y):\n",
      "        return denormalize_scores(Y, data.subreddit[0])"
     ],
     "language": "python",
     "metadata": {},
     "outputs": [],
     "prompt_number": 4
    },
    {
     "cell_type": "heading",
     "level": 3,
     "metadata": {},
     "source": [
      "1b. N-gram Model"
     ]
    },
    {
     "cell_type": "markdown",
     "metadata": {},
     "source": [
      "Another model we used to extract features from text is the **N-gram** model, which generalizes the Bag of Words model to look for sequences of $N$ words that appear in text. For example, the 2-grams for the sentence, `\"he ran away quickly\"` would be the list:\n",
      "`[\"he ran\", \"ran away\", \"away quickly\"]`. \n",
      "\n",
      "Similarly to the bag of words model, we remove English stop words and apply the tfidf technique."
     ]
    },
    {
     "cell_type": "code",
     "collapsed": false,
     "input": [
      "class NGramModel(AbstractFeatureModel):\n",
      "    \"\"\"\n",
      "    n-gram model for analyzing text\n",
      "    \"\"\"\n",
      "\n",
      "    def __init__(self, n, min_df=0, tfidf=True):\n",
      "        self.n = n\n",
      "        self.tfidf = tfidf\n",
      "        self.vectorizer = CountVectorizer(ngram_range=(n,n), min_df=min_df,\n",
      "                                          stop_words='english')\n",
      "\n",
      "    def make_training_xy(self, data):\n",
      "        X = self.vectorizer.fit_transform(data.body)\n",
      "        if self.tfidf:\n",
      "            X = TfidfTransformer().fit_transform(X)\n",
      "        X = X.tocsc()\n",
      "        Y = normalize_scores(data.ups, data.subreddit[0])\n",
      "        return X, Y\n",
      "\n",
      "    def data_to_x(self, new_data):\n",
      "        return self.vectorizer.transform(new_data.body)\n",
      "\n",
      "    def y_to_label(self, data, Y):\n",
      "        return denormalize_scores(Y, data.subreddit[0])"
     ],
     "language": "python",
     "metadata": {},
     "outputs": [],
     "prompt_number": 14
    },
    {
     "cell_type": "heading",
     "level": 3,
     "metadata": {},
     "source": [
      "1c. Co-occurence Model"
     ]
    },
    {
     "cell_type": "markdown",
     "metadata": {},
     "source": [
      "TODO: talk about math representation"
     ]
    },
    {
     "cell_type": "code",
     "collapsed": false,
     "input": [
      "#TODO"
     ],
     "language": "python",
     "metadata": {},
     "outputs": [],
     "prompt_number": 16
    },
    {
     "cell_type": "heading",
     "level": 3,
     "metadata": {},
     "source": [
      "1d. Latent Dirichlet Allocation"
     ]
    },
    {
     "cell_type": "markdown",
     "metadata": {},
     "source": [
      "TODO: talk about math"
     ]
    },
    {
     "cell_type": "code",
     "collapsed": false,
     "input": [
      "#TODO"
     ],
     "language": "python",
     "metadata": {},
     "outputs": [],
     "prompt_number": 17
    },
    {
     "cell_type": "heading",
     "level": 2,
     "metadata": {},
     "source": [
      "3. Dimensionality Reduction"
     ]
    },
    {
     "cell_type": "markdown",
     "metadata": {},
     "source": [
      "First, to understand why dimensionality reduction is necessary to make our computation tractable, we will print out the number of features generated by our various models for feature selection:"
     ]
    },
    {
     "cell_type": "code",
     "collapsed": false,
     "input": [
      "data_file = \"../data/Liberal\"\n",
      "df = load_subreddit(data_file)\n",
      "print df"
     ],
     "language": "python",
     "metadata": {},
     "outputs": [
      {
       "output_type": "stream",
       "stream": "stdout",
       "text": [
        "<class 'pandas.core.frame.DataFrame'>\n",
        "Int64Index: 4723 entries, 0 to 4722\n",
        "Data columns (total 14 columns):\n",
        "author          4723  non-null values\n",
        "body            4723  non-null values\n",
        "created         4723  non-null values\n",
        "downs           4723  non-null values\n",
        "id              4723  non-null values\n",
        "net             4723  non-null values\n",
        "post_created    4723  non-null values\n",
        "post_downs      4723  non-null values\n",
        "post_id         4723  non-null values\n",
        "post_net        4723  non-null values\n",
        "post_ups        4723  non-null values\n",
        "subreddit       4723  non-null values\n",
        "subreddit_id    4723  non-null values\n",
        "ups             4723  non-null values\n",
        "dtypes: float64(2), int64(6), object(6)\n"
       ]
      },
      {
       "output_type": "stream",
       "stream": "stderr",
       "text": [
        "/usr/local/lib/python2.7/site-packages/pandas/core/config.py:570: DeprecationWarning: height has been deprecated.\n",
        "\n",
        "  warnings.warn(d.msg, DeprecationWarning)\n"
       ]
      }
     ],
     "prompt_number": 37
    },
    {
     "cell_type": "code",
     "collapsed": false,
     "input": [
      "def feature_dimension_size(df, model):\n",
      "    X_train, Y_train = model.make_training_xy(df)\n",
      "    return X_train.shape[1]\n",
      "\n",
      "models = {\n",
      "    \"bag of words\": BagOfWordsModel(),\n",
      "    \"2-gram\": NGramModel(2),\n",
      "    \"3-gram\": NGramModel(3),\n",
      "    \"4-gram\": NGramModel(4),\n",
      "}\n",
      "for name, model in models.items():\n",
      "    dim = feature_dimension_size(df, model)\n",
      "    print \"size of feature space (%s): %d\" % (name, dim)"
     ],
     "language": "python",
     "metadata": {},
     "outputs": [
      {
       "output_type": "stream",
       "stream": "stdout",
       "text": [
        "size of feature space (2-gram): 78777\n",
        "size of feature space (4-gram): 83415"
       ]
      },
      {
       "output_type": "stream",
       "stream": "stdout",
       "text": [
        "\n",
        "size of feature space (3-gram): 86205"
       ]
      },
      {
       "output_type": "stream",
       "stream": "stdout",
       "text": [
        "\n",
        "size of feature space (bag of words): 13588"
       ]
      },
      {
       "output_type": "stream",
       "stream": "stdout",
       "text": [
        "\n"
       ]
      }
     ],
     "prompt_number": 36
    },
    {
     "cell_type": "markdown",
     "metadata": {},
     "source": [
      "As you can see, the feature space is extremely large. Combined with a large number of comments, the memory footprint of training a learner without reducing the dimensionality will be intractable for most commodity machines. Thus, we need to reduce the dimensionality of our feature space, while still maintaining enough information to make useful upvote predictions.\n",
      "\n",
      "We abstracted our reduction strategies into an abstract bas class `AbstractReduction`."
     ]
    },
    {
     "cell_type": "code",
     "collapsed": false,
     "input": [
      "from abc import ABCMeta, abstractmethod\n",
      "from sklearn.decomposition import KernelPCA\n",
      "from sklearn.feature_selection import SelectKBest, chi2, f_regression\n",
      "from sklearn.decomposition import RandomizedPCA\n",
      "from sklearn.decomposition import TruncatedSVD\n",
      "\n",
      "class AbstractReduction(object):\n",
      "    \"\"\"\n",
      "    Interface for dimensionality reduction. Extend this for new models for\n",
      "    reducing dimensionality of a dataset.\n",
      "\n",
      "    Usage\n",
      "    -----\n",
      "    reducer = MyReduction(...)\n",
      "    reducer.fit(X) # call this only once!\n",
      "    X_reduced = reducer.transform(X)\n",
      "    other_x_reduced = reducer.transform(other_x)\n",
      "    \"\"\"\n",
      "    __metaclass__ = ABCMeta\n",
      "\n",
      "    @abstractmethod\n",
      "    def n_components(self):\n",
      "        \"\"\"\n",
      "        Return the target reduced dimension size.\n",
      "        \"\"\"\n",
      "        pass\n",
      "\n",
      "    @abstractmethod\n",
      "    def fit(self, X, Y=None):\n",
      "        \"\"\"\n",
      "        Fit the estimator to this data set. This must be called exactly ONCE\n",
      "        to have consistent results when we call transform().\n",
      "\n",
      "        Args\n",
      "        ----\n",
      "        X : feature matrix (n_comments x n_features)\n",
      "        Y : values to fit to\n",
      "\n",
      "        Returns\n",
      "        -------\n",
      "        Nothing\n",
      "        \"\"\"\n",
      "        pass\n",
      "\n",
      "    @abstractmethod\n",
      "    def transform(self, X):\n",
      "        \"\"\"\n",
      "        Transforms the feature matrix X into a feature matrix of smaller size\n",
      "\n",
      "        Args\n",
      "        ----\n",
      "        X : feature matrix (n_comments x n_features)\n",
      "\n",
      "        Returns\n",
      "        -------\n",
      "        X_reduced : reduced feature matrix (n_comments x n_components)\n",
      "        \"\"\"\n",
      "        pass\n",
      "\n",
      "class NoopReduction(AbstractReduction):\n",
      "    \"\"\"\n",
      "    does nothing\n",
      "    \"\"\"\n",
      "    def n_components(self):\n",
      "        pass\n",
      "    def fit(self, X, Y=None):\n",
      "        pass\n",
      "    def transform(self, X):\n",
      "        return X"
     ],
     "language": "python",
     "metadata": {},
     "outputs": [],
     "prompt_number": 56
    },
    {
     "cell_type": "heading",
     "level": 3,
     "metadata": {},
     "source": [
      "3a. Select K Best"
     ]
    },
    {
     "cell_type": "markdown",
     "metadata": {},
     "source": [
      "For our first attempt, we will pick the best $k$ features with the highest scores, where score is computed by computing linear regressions on our input vectors $x_c$ and $y_c$ where $x_c$ is the feature vector and $y_c$ is the normalized upvote score for a comment $c$."
     ]
    },
    {
     "cell_type": "code",
     "collapsed": false,
     "input": [
      "class SelectKBestReduction(AbstractReduction):\n",
      "    \"\"\"\n",
      "    Select K Best features using linear regressions\n",
      "\n",
      "    http://stackoverflow.com/questions/10098533/implementing-bag-of-words-naive-bayes-classifier-in-nltk\n",
      "    http://scikit-learn.org/stable/modules/generated/sklearn.feature_selection.SelectKBest.html\n",
      "    http://scikit-learn.org/stable/modules/generated/sklearn.feature_selection.chi2.html\n",
      "    \"\"\"\n",
      "\n",
      "    def __init__(self, n_components, score_func=lambda X, y: f_regression(X, y, center=False)):\n",
      "        self.select = SelectKBest(score_func=score_func, k=n_components)\n",
      "        self.n_components = n_components\n",
      "\n",
      "    def n_components(self):\n",
      "        return self.n_components\n",
      "\n",
      "    def fit(self, X, Y=None):\n",
      "        self.select.fit(X, Y)\n",
      "\n",
      "    def transform(self, X):\n",
      "        return self.select.transform(X)"
     ],
     "language": "python",
     "metadata": {},
     "outputs": [],
     "prompt_number": 57
    },
    {
     "cell_type": "heading",
     "level": 3,
     "metadata": {},
     "source": [
      "3b. Kernel Principle Components Analysis"
     ]
    },
    {
     "cell_type": "markdown",
     "metadata": {},
     "source": [
      "We also use **Kernel Principle Components Analysis**, a generalization of linear PCA\n",
      "to reduce the dimensionality of our feature space $X$. As a review of PCA, given\n",
      "a feature space $\\mathbf{X}$ with dimensionality $d$, our goal is to compute a mapping\n",
      "from $\\mathbf{X}$ to a new feature space $\\mathbf{X'}$ with dimensionality $d' \\leq d$.\n",
      "\n",
      "Linear PCA does this by choosing the principle $d'$ eigenvectors of  the original feature space $X$\n",
      "that **preserves maximum variance** in the original feature space. Let $M$ be the number of\n",
      "data points we have in our data set. To perform linear PCA, we compute covariance matrix $T$\n",
      "\n",
      "$$\\mathbf{T} = \\frac{1}{M} \\sum_{c = i}^M \\mathbf{x_c}^\\intercal \\mathbf{x_c}$$\n",
      "\n",
      "and then compute the largeset $d'$ eigenvectors of $T$. Let $W$ be the matrix whose columns are these $d'$ eigenvectors, and so $W$ is a linear transformation from original feature space $\\mathbf{X}$ to new feature space $\\mathbf{X'}$ Then to get our reduced feature vectors, we compute\n",
      "\n",
      "$$\\mathbf{X'} = \\mathbf{X} \\mathbf{T}$$\n",
      "\n",
      "where the rows of $\\mathbf{X}$ are our original feature vectors $\\mathbf{x_c}$ and the rows of $\\mathbf{X'}$ are our reduced feature vectors $\\mathbf{x'_c}$.\n",
      "\n",
      "Linear PCA only works well when the original data set is linearly separable. However, nonlinearly separable data can be separated if we project our original data set into a larger space, and then perform linear PCA. To do this, we define a mapping \n",
      "\n",
      "$\\Phi(\\mathbf{x_i})$ where $\\Phi : \\mathbb{R}^d \\to \\mathbb{R}^p$ where $p$ is possibly infinite.\n",
      "\n",
      "Now instead of computing the covariance matrix $T$ directly, we compute the covariance matrix $T'$ of the transformed state space:\n",
      "\n",
      "$$\\mathbf{T}' = \\frac{1}{M} \\sum_{c = i}^M \\Phi(\\mathbf{x_c})^\\intercal \\Phi(\\mathbf{x_c})$$\n",
      "\n",
      "Define a **kernel function** $K(\\mathbf{x_i}, \\mathbf{x_j}) = \\Phi(\\mathbf{x_i})^\\intercal \\Phi(\\mathbf{x_j})$. Thus, using an appropriate kernel, we can project our feature space into a much larger, possibly infinite, state space and perform PCA in that space, all without needing to ever actually perform the mapping into this huge space!\n",
      "\n",
      "This is useful for us, because we have no reason to expect that the features produced by our bag of words model and n-gram model to be linearly separable. However, using an appropriate kernel, we can project our feature vectors into a much larger space where they **are** linearly separable, and then reduce the dimensionality from there.\n",
      "\n",
      "We experiment with both linear and non-linear kernels."
     ]
    },
    {
     "cell_type": "code",
     "collapsed": false,
     "input": [
      "class KernelPCAReduction(AbstractReduction):\n",
      "    \"\"\"\n",
      "    Use kernel PCA to reduce dimensionality\n",
      "\n",
      "    http://scikit-learn.org/stable/modules/generated/sklearn.decomposition.KernelPCA.html\n",
      "    \"\"\"\n",
      "\n",
      "    def __init__(self, n_components, **kwargs):\n",
      "        self.pca = KernelPCA(n_components=n_components, **kwargs)\n",
      "        self.n_components = n_components\n",
      "\n",
      "    def n_components(self):\n",
      "        return self.n_components\n",
      "\n",
      "    def fit(self, X, Y=None):\n",
      "        self.pca.fit(X)\n",
      "\n",
      "    def transform(self, X):\n",
      "        return self.pca.transform(X)"
     ],
     "language": "python",
     "metadata": {},
     "outputs": [],
     "prompt_number": 58
    },
    {
     "cell_type": "heading",
     "level": 2,
     "metadata": {},
     "source": [
      "4. Learning"
     ]
    },
    {
     "cell_type": "markdown",
     "metadata": {},
     "source": [
      "To predict the upvotes, we use supervised learning models to learn a regresser that takes as input feature vectors $x_c$ and normalized upvotes $y_c$ for all comments $c$. We abstracted this functionality in the abstract base class `AbstractLearner`:"
     ]
    },
    {
     "cell_type": "code",
     "collapsed": false,
     "input": [
      "from abc import ABCMeta, abstractmethod\n",
      "from sklearn.naive_bayes import GaussianNB, MultinomialNB\n",
      "from sklearn.svm import SVR\n",
      "from sklearn.neighbors import KNeighborsRegressor\n",
      "import numpy as np\n",
      "\n",
      "class AbstractLearner(object):\n",
      "    \"\"\"\n",
      "    Interface for all learning models. Extend this class to create new learners.\n",
      "    \"\"\"\n",
      "    __metaclass__ = ABCMeta\n",
      "\n",
      "    @abstractmethod\n",
      "    def train(self, X, Y):\n",
      "        \"\"\"\n",
      "        Trains our model.\n",
      "\n",
      "        Args\n",
      "        ----\n",
      "        X : feature matrix. Each row is a feature vector of a datum\n",
      "            (e.g. feature vector for a comment)\n",
      "        Y : value vector. Each entry corresponds to the value associated\n",
      "            with the corresponding row in X.\n",
      "\n",
      "        num rows of X == length of Y\n",
      "\n",
      "        Returns\n",
      "        -------\n",
      "        Does NOT return anything. train() will have side effects on the object\n",
      "        and maintain state so that predict() can be called.\n",
      "        \"\"\"\n",
      "        pass\n",
      "\n",
      "    @abstractmethod\n",
      "    def predict(self, X):\n",
      "        \"\"\"\n",
      "        Predicts the values for the feature matrix X. This MUST be called\n",
      "        after train().\n",
      "\n",
      "        Args\n",
      "        ----\n",
      "        X : feature matrix. Each row is a feature vector of a datum\n",
      "\n",
      "        Returns\n",
      "        -------\n",
      "        Y : predicted values for each row of X\n",
      "        \"\"\"\n",
      "        pass"
     ],
     "language": "python",
     "metadata": {},
     "outputs": [],
     "prompt_number": 59
    },
    {
     "cell_type": "heading",
     "level": 3,
     "metadata": {},
     "source": [
      "4a. Gaussian Naive Bayes"
     ]
    },
    {
     "cell_type": "markdown",
     "metadata": {},
     "source": [
      "For our first pass at predicting upvotes, we use a **Gaussian Naive Bayes** model. This model makes the **naive bayes** assumption. Given random variable $Y$ and features $F_1, F_2, F_d$, the probability that we observe $Y = y$ given feature vector $x = (f_1, f_2, ... f_d)$, the naive bayes assumption assumes\n",
      "\n",
      "$$P(F_1 = f_1, F = f_2, ..., F = f_d | Y = y) = P(F_1 = f_1 | Y = y) \\cdots P(F_d = f_d | Y = y)$$\n",
      "\n",
      "in which we assume all the features are conditionally independent of each other, given the label value $Y$.\n",
      "\n",
      "In our example our features and label valuse (upvotes) are all continuous, and so we use the continuous form of the naive bayes assumption on the probability density functions:\n",
      "\n",
      "$$p(f_1, f2, ..., f_d | y) = p(f_1 | y) \\cdots p(f_2 | y).$$\n",
      "\n",
      "For Gaussian Naive Bayes, we assume that our probability density functions for each feature all have Gaussian distributions. To produce a regresser, we compute the predicted value $\\hat{y}$ for test vector $x$ by:\n",
      "\n",
      "$$\\hat{y} = \\arg \\max_{y} \\, p(y | x) = \\arg \\max_{y} \\, p(y) p(x | y) = \\arg \\max_{y} \\, p(y) \\prod_{i = 1}^d p(x_d | y).$$"
     ]
    },
    {
     "cell_type": "code",
     "collapsed": false,
     "input": [
      "class GaussianNBLearner(AbstractLearner):\n",
      "    \"\"\"\n",
      "    Gaussian Naive Bayes Learner\n",
      "\n",
      "    http://scikit-learn.org/stable/modules/generated/sklearn.naive_bayes.GaussianNB.html\n",
      "\n",
      "    We need to use X.toarray() because those functions expect dense arrays.\n",
      "    \"\"\"\n",
      "\n",
      "    def __init__(self):\n",
      "        self.nb = GaussianNB()\n",
      "\n",
      "    def train(self, X, Y):\n",
      "        if hasattr(X, 'toarray'):\n",
      "            self.nb.fit(X.toarray(), Y)\n",
      "        else:\n",
      "            self.nb.fit(X, Y)\n",
      "\n",
      "    def predict(self, X):\n",
      "        if (hasattr(X, \"toarray\")):\n",
      "            return self.nb.predict(X.toarray())\n",
      "        else:\n",
      "            return self.nb.predict(X)\n",
      "\n",
      "    def score(self, X, Y):\n",
      "        return np.mean(np.abs(self.nb.predict(X) - np.array(Y)))"
     ],
     "language": "python",
     "metadata": {},
     "outputs": [],
     "prompt_number": 60
    },
    {
     "cell_type": "heading",
     "level": 3,
     "metadata": {},
     "source": [
      "4b. Support Vector Machines"
     ]
    },
    {
     "cell_type": "markdown",
     "metadata": {},
     "source": [
      "Another type of supervised learning model we used is **Support Vector Machines (SVM)**, which attempts to find a decision boundary that maximizes the distance between each point and the boundary. We use kernel SVM to allow us to experiment both linear and non-linear decision boundaries, as we have no reason to expect that our data set is linearly separable."
     ]
    },
    {
     "cell_type": "code",
     "collapsed": false,
     "input": [
      "class SVMLearner(AbstractLearner):\n",
      "    \"\"\"\n",
      "    Support Vector Machine Learner for regression (continuous\n",
      "    labels as opposed to discrete labels)\n",
      "\n",
      "    http://scikit-learn.org/stable/modules/generated/sklearn.svm.SVR.html\n",
      "    \"\"\"\n",
      "\n",
      "    def __init__(self, **kwargs):\n",
      "        self.svr = SVR(**kwargs)\n",
      "\n",
      "    def train(self, X, Y):\n",
      "        self.svr.fit(X, Y)\n",
      "\n",
      "    def predict(self, X):\n",
      "        return self.svr.predict(X)"
     ],
     "language": "python",
     "metadata": {},
     "outputs": [],
     "prompt_number": 61
    },
    {
     "cell_type": "heading",
     "level": 3,
     "metadata": {},
     "source": [
      "4c. K Nearest Neighbors"
     ]
    },
    {
     "cell_type": "markdown",
     "metadata": {},
     "source": [
      "We also used **K Nearest Neighbors** which computes the nearest neighbors for every point in the feature space, and then interpolates to compute the predicted upvotes $y$ for a given test vector $x$"
     ]
    },
    {
     "cell_type": "code",
     "collapsed": false,
     "input": [
      "class KNeighborsLearner(AbstractLearner):\n",
      "    \"\"\"\n",
      "    Learner using k-nearest neighbors\n",
      "    \"\"\"\n",
      "\n",
      "    def __init__(self, **kwargs):\n",
      "        self.knn = KNeighborsRegressor(**kwargs)\n",
      "\n",
      "    def train(self, X, Y):\n",
      "        self.knn.fit(X, Y)\n",
      "\n",
      "    def predict(self, X):\n",
      "        return self.knn.predict(X)"
     ],
     "language": "python",
     "metadata": {},
     "outputs": [],
     "prompt_number": 62
    },
    {
     "cell_type": "heading",
     "level": 2,
     "metadata": {},
     "source": [
      "5. Putting it all together"
     ]
    },
    {
     "cell_type": "markdown",
     "metadata": {},
     "source": [
      "Now let's finally put it all together! We have multiple feature models (bag of words, ngrams), multiple reducers (Kernel PCA, Select K Best), and multiple learners (Gaussian Naive Bayes, SVM, K-nearest neighbors). We will compute the training and test error for multiple of these (feature, reducer, learner) combinations on a the \"Liberal\" subreddit dataset.\n",
      "\n",
      "For a feature vector $x$ with normalized upvotes $y$, define the **error** of a the prediction $\\hat{y}$ for $x$ as $|\\hat{y} - y|$. The **error of a set of predictions** for a data set $X$ with true normalized upvotes $Y$ is the sum of all the errors of the individual feature vectors $x_c$ in $X$. For each (feature, reducer, learner) tuple, we apply cross validation and take the mean training error and test error from all the folds."
     ]
    },
    {
     "cell_type": "code",
     "collapsed": false,
     "input": [
      "\"\"\"\n",
      "feature models names -> functions that return feature model instances\n",
      "\"\"\"\n",
      "FEATURES = {\n",
      "    \"1gram\" : BagOfWordsModel,\n",
      "    \"2gram\" : lambda: NGramModel(2),\n",
      "    \"3gram\" : lambda: NGramModel(3),\n",
      "    \"4gram\" : lambda: NGramModel(4),\n",
      "    \"5gram\" : lambda: NGramModel(5),\n",
      "    \"6gram\" : lambda: NGramModel(6),\n",
      "    \"7gram\" : lambda: features.NGramModel(7),\n",
      "    \"8gram\" : lambda: features.NGramModel(8),\n",
      "    \"9gram\" : lambda: features.NGramModel(9),\n",
      "    \"10gram\" : lambda: features.NGramModel(10),\n",
      "    \"10lda\" : lambda: LdaFeatureModel(num_topics=10),\n",
      "    \"20lda\" : lambda: LdaFeatureModel(num_topics=20),\n",
      "    \"30lda\" : lambda: LdaFeatureModel(num_topics=30),\n",
      "    \"40lda\" : lambda: LdaFeatureModel(num_topics=40),\n",
      "    \"50lda\" : lambda: LdaFeatureModel(num_topics=50),\n",
      "    \"60lda\" : lambda: LdaFeatureModel(num_topics=60),\n",
      "}\n",
      "\n",
      "\"\"\"\n",
      "reducer names -> functions that take reduced dim as an arg\n",
      "\"\"\"\n",
      "REDUCERS = {\n",
      "    \"select\" : SelectKBestReduction,\n",
      "    \"pca-linear\" : lambda dim : KernelPCAReduction(dim, kernel='linear'),\n",
      "    \"pca-rbf\" : lambda dim : KernelPCAReduction(dim, kernel='rbf'),\n",
      "    \"pca-sigmoid\" : lambda dim : KernelPCAReduction(dim, kernel='sigmoid'),\n",
      "    \"none\" : lambda dim : NoopReduction(),\n",
      "}\n",
      "\n",
      "\"\"\"\n",
      "learner names -> functions that return learner instances\n",
      "\"\"\"\n",
      "LEARNERS = {\n",
      "    \"nb\" : GaussianNBLearner,\n",
      "    \"svm-linear\" : lambda: SVMLearner(kernel='linear'),\n",
      "    \"svm-rbf\" : lambda: SVMLearner(kernel='rbf'),\n",
      "    \"svm-sigmoid\" : lambda: SVMLearner(kernel='sigmoid'),\n",
      "    \"knn\" : lambda: KNeighborsLearner(),\n",
      "}\n",
      "\n",
      "def compute_score(learner, X, Y):\n",
      "    \"\"\"\n",
      "    get predictions for X, and compute the sum of the absolute\n",
      "    differences between our predictions and true values\n",
      "    \"\"\"\n",
      "    return np.mean(np.abs(learner.predict(X) - np.array(Y)))\n",
      "\n",
      "def test_performance(df, model_name, learner_name, reducer_name, n_folds, dim):\n",
      "    \"\"\"\n",
      "    Does cross validation on the dataframe, with n_folds.\n",
      "    \"\"\"\n",
      "    model = FEATURES[model_name]()\n",
      "    if model_name == \"lda\":\n",
      "        reducer_name = \"none\"\n",
      "\n",
      "    # transform the input data into feature vectors and labels\n",
      "    X, y = model.make_training_xy(df)\n",
      "    kfolds = cross_validation.KFold(len(df.index), n_folds)\n",
      "\n",
      "    # for each of the folds, create a training and test set\n",
      "    fold = 1\n",
      "    test_errors = []\n",
      "    train_errors = []\n",
      "    for train_index, test_index in kfolds:\n",
      "        reducer = REDUCERS[reducer_name](dim)\n",
      "        learner = LEARNERS[learner_name]()\n",
      "\n",
      "        X_train, X_test = X[train_index], X[test_index]\n",
      "        y_train, y_test = list(np.asarray(y)[train_index]), list(np.asarray(y)[test_index])\n",
      "\n",
      "        # Reduce the dimensionality of our training set\n",
      "        reducer.fit(X_train, y_train)\n",
      "        X_train_red = reducer.transform(X_train)\n",
      "\n",
      "        # Train our learner on the reduced features\n",
      "        learner.train(X_train_red, y_train)\n",
      "        train_score = compute_score(learner, X_train_red, y_train)\n",
      "        train_errors.append(train_score)\n",
      "\n",
      "        # Apply the same dimensionality reduction to the test set's features\n",
      "        # test the performance of the model on the test set\n",
      "        X_test_red = reducer.transform(X_test)\n",
      "        test_score = compute_score(learner, X_test_red, y_test)\n",
      "        test_errors.append(test_score)\n",
      "\n",
      "        print \"--------------\"\n",
      "        print \"TEST  ERROR \" + str(fold) + \": \" + str(model.y_to_label(df, [test_score]))\n",
      "        print \"TRAIN ERROR \" + str(fold) + \": \" + str(model.y_to_label(df, [train_score]))\n",
      "        fold = fold + 1\n",
      "    print \"--------------\"\n",
      "    print \"MEAN TEST  ERROR:\", str(model.y_to_label(df, [np.mean(test_errors)]))\n",
      "    print \"MEAN TRAIN ERROR:\", str(model.y_to_label(df, [np.mean(train_errors)]))"
     ],
     "language": "python",
     "metadata": {},
     "outputs": [],
     "prompt_number": 63
    },
    {
     "cell_type": "heading",
     "level": 3,
     "metadata": {},
     "source": [
      "5a. Feature selection performance"
     ]
    },
    {
     "cell_type": "markdown",
     "metadata": {},
     "source": [
      "We first analyze how $N$ for our N-gram model effects our training and test errors as we hold everything else fixed. For this experiment, we used SelectKBest with 5000 features, and we used the Gaussian Naive Bayes learner. We run cross-validation with 5 folds and repeat the mean training error and test error."
     ]
    },
    {
     "cell_type": "code",
     "collapsed": false,
     "input": [
      "# This takes a LONG time to run. Uncomment this if you want to run it for yourself.\n",
      "# We have already computed these values.\n",
      "# You can also run this using the main.py script in our source tree.\n",
      "# e.g. python main.py --folds 5 --dim 5000 data/Liberal 1gram select nb\n",
      "\n",
      "#dim = 5000\n",
      "#learner_name = 'nb'\n",
      "#reducer_name = 'select'\n",
      "#nfolds = 5\n",
      "#for model_name in ['1gram', '2gram', '3gram', '4gram', '5gram', '6gram', '7gram', '8gram', '9gram', '10gram']:\n",
      "#    test_performance(df, model_name, learner_name, reducer_name, nfolds, dim)\n"
     ],
     "language": "python",
     "metadata": {},
     "outputs": [],
     "prompt_number": 65
    },
    {
     "cell_type": "code",
     "collapsed": false,
     "input": [
      "test_errors_N = [6.6782311003497545, 21.928323917137519, 17.265994978028818, 14.655750829522075, 17.214098287149177,\n",
      "               4.6761292709174009, 4.668925881086893, 4.668925881086893, 4.668925881086893, 4.668925881086893] \n",
      "training_errors_N = [3.3867285300014913, 19.717744925391496, 14.720794572440825, 13.540993714252844, 15.957741753870657,\n",
      "                   3.3842465207478107, 3.3729679817879035, 3.4020287227162549, 3.4825392647311326, 3.5340413875068148]  \n",
      "N = [1, 2, 3, 4, 5, 6, 7, 8, 9, 10]\n",
      "\n",
      "plt.plot(N, test_errors_N, color=\"r\", label=\"test error\")\n",
      "plt.plot(N, training_errors_N, color=\"b\", label=\"training error\")\n",
      "plt.xlabel(\"N\")\n",
      "plt.ylabel(\"error\")\n",
      "plt.title(\"Ngram model error\")\n",
      "plt.legend()\n",
      "plt.show()"
     ],
     "language": "python",
     "metadata": {},
     "outputs": [
      {
       "metadata": {},
       "output_type": "display_data",
       "png": "[encoded data removed]",
       "text": [
        "<matplotlib.figure.Figure at 0x1091922d0>"
       ]
      }
     ],
     "prompt_number": 75
    },
    {
     "cell_type": "markdown",
     "metadata": {},
     "source": [
      "As you can see in the plot above, the testing error is higher than the training error in all cases, as expected. This is expected because the model will overfit to the data it is trained with, and as a result, will do perform better on the training data than on unseen data. The errors reach a minimum at roughly $N = 6$, and stays flat for all $N$ bigger than 6 that we tested. This probably suggests that the minimum possible test error for this data set and Ngram model is roughly 4.6761292709174009 and as we increase $N$, we begin to overfit $N$ to the training data to asymptotically approach this limit.\n",
      "\n",
      "Now we explore our latent dirichlet model and vary the number of topics, and see how this affects our error."
     ]
    },
    {
     "cell_type": "code",
     "collapsed": false,
     "input": [
      "# This takes a LONG time to run. Uncomment this if you wish to run it.\n",
      "# We have already computed the values below.\n",
      "\n",
      "#dim = 0 # doesn't matter for LDA\n",
      "#learner_name = 'nb'\n",
      "#reducer_name = 'none'\n",
      "#nfolds = 5\n",
      "#for model_name in ['100da', '200da', '500da', '1000da', '1500da', '2000da']:\n",
      "#    test_performance(df, model_name, learner_name, reducer_name, nfolds, dim)"
     ],
     "language": "python",
     "metadata": {},
     "outputs": []
    },
    {
     "cell_type": "code",
     "collapsed": false,
     "input": [
      "#test_errors_topics = [26.650381355932186, 22.399519549816187, 20.574748228858418, 19.133421890413437, 18.507302932472435,\n",
      "#                      16.521555017487245, 15.565932203389856, 15.252645054255234, 13.97017016411086, 13.424812572863443,\n",
      "#                      13.406660389202784, 12.745007846829903, 12.293001748722109, 11.671300780199104, 11.187241951394519,\n",
      "#                      11.351572728903253, 10.912822168415403, 10.609408573222154, 10.524166890861819, 10.265180925477548]\n",
      "#training_errors_topics = [26.234654987139539, 22.461156784217835, 20.419599410578989, 18.670052648086777, 18.242731172561921,\n",
      "#                          16.298426861212658, 15.19859183913322, 14.731830148247518, 13.351955297245294, 12.745506547495545,\n",
      "#                          12.55013855091474, 12.055327937918896, 11.382389303905841, 10.681146219019078, 10.325582434257203,\n",
      "#                          10.345438326176723, 9.8675754437433625, 9.6262411692266792, 9.4149884899289287, 9.2152238184580018]\n",
      "#topics = [10 * i for i in range(20)]\n",
      "\n",
      "test_errors_topics = [13.424812572863443, 10.265180925477548, 7.5337238812662655,\n",
      "                     6.6564000986458751, 6.4690812483185445, 6.114045377096228]\n",
      "training_errors_topics = [12.745506547495545, 9.2152238184580018, 5.6056019228606679,\n",
      "                         4.0391282604222516, 3.4840692433779754, 3.0744229309924136]\n",
      "topics = [100, 200, 500, 1000, 1500, 2000]\n",
      "\n",
      "plt.plot(topics, test_errors_topics, color=\"r\", label=\"test error\")\n",
      "plt.plot(topics, training_errors_topics, color=\"b\", label=\"training error\")\n",
      "plt.xlabel(\"num topics\")\n",
      "plt.ylabel(\"error\")\n",
      "plt.title(\"error for latent dirichlet allocation\")\n",
      "plt.legend()\n",
      "plt.show()"
     ],
     "language": "python",
     "metadata": {},
     "outputs": [
      {
       "metadata": {},
       "output_type": "display_data",
       "png": "[encoded data removed]",
       "text": [
        "<matplotlib.figure.Figure at 0x10918c9d0>"
       ]
      }
     ],
     "prompt_number": 86
    },
    {
     "cell_type": "heading",
     "level": 3,
     "metadata": {},
     "source": [
      "5b. Varying the reduced dimension size"
     ]
    },
    {
     "cell_type": "markdown",
     "metadata": {},
     "source": [
      "Next, we determine how the reduced dimension size impacts our N-gram model. We vary the reduced dimension size, holding N = 6 fixed, using Select k best for reduction, and using a Gaussian Naive Bayes learner."
     ]
    },
    {
     "cell_type": "code",
     "collapsed": false,
     "input": [
      "# This takes a LONG time to run. Uncomment this if you wish to run it.\n",
      "# We have already computed the values below.\n",
      "\n",
      "#model_name = '6gram'\n",
      "#learner_name = 'nb'\n",
      "#reducer_name = 'select'\n",
      "#nfolds = 5\n",
      "#for dim in [1000, 2000, 3000, 4000, 5000, 6000, 7000, 8000, 9000, 10000]:\n",
      "#    test_performance(df, model_name, learner_name, reducer_name, nfolds, dim)"
     ],
     "language": "python",
     "metadata": {},
     "outputs": [],
     "prompt_number": 73
    },
    {
     "cell_type": "code",
     "collapsed": false,
     "input": [
      "test_errors_dim = [4.6646930768540864, 4.668925881086893, 4.6712563895614689, 4.6742224912563843, 4.6761292709174009,\n",
      "                  4.4706176576091767, 4.34180409828714, 4.34180409828714, 4.473371894897312, 4.473371894897312]\n",
      "training_errors_dim = [4.3227843375619628, 4.0066710363799602, 3.7512745829639802, 3.5975610668357989, 3.3842465207478107,\n",
      "                      3.0448085047190259, 2.7286158174560544, 2.5770105221929218, 2.5997505509187131, 2.5135204567999057] \n",
      "dim = [1000, 2000, 3000, 4000, 5000, 6000, 7000, 8000, 9000, 10000]\n",
      "\n",
      "plt.plot(dim, test_errors_dim, color=\"r\", label=\"test error\")\n",
      "plt.plot(dim, training_errors_dim, color=\"b\", label=\"training error\")\n",
      "plt.xlabel(\"reduced dimension size\")\n",
      "plt.ylim(0,max(test_errors_dim + training_errors_dim) + 1)\n",
      "plt.ylabel(\"error\")\n",
      "plt.title(\"error for reduced dimension size\")\n",
      "plt.legend()\n",
      "plt.show()"
     ],
     "language": "python",
     "metadata": {},
     "outputs": [
      {
       "metadata": {},
       "output_type": "display_data",
       "png": "[encoded data removed]",
       "text": [
        "<matplotlib.figure.Figure at 0x107fa3890>"
       ]
      }
     ],
     "prompt_number": 82
    },
    {
     "cell_type": "markdown",
     "metadata": {},
     "source": [
      "The plot shows a decreasing training error, but the test error stays pretty much the same. This suggests that we are overfitting to the training data as the reduced dimension size increases. This is expected because as we increase the reduced dimension size, we preserve more information about the\n",
      "underlying data, and so our learning model begins to overfit to the training data"
     ]
    },
    {
     "cell_type": "heading",
     "level": 3,
     "metadata": {},
     "source": [
      "5c. Varying our Reducer Type"
     ]
    },
    {
     "cell_type": "heading",
     "level": 3,
     "metadata": {},
     "source": [
      "5d. Varying our Learner Type"
     ]
    },
    {
     "cell_type": "code",
     "collapsed": false,
     "input": [],
     "language": "python",
     "metadata": {},
     "outputs": []
    },
    {
     "cell_type": "heading",
     "level": 3,
     "metadata": {},
     "source": [
      "5?. Predicting Upvotes for Real Comments"
     ]
    },
    {
     "cell_type": "code",
     "collapsed": false,
     "input": [],
     "language": "python",
     "metadata": {},
     "outputs": []
    },
    {
     "cell_type": "heading",
     "level": 1,
     "metadata": {},
     "source": [
      "Clustering Comments within a Subreddit"
     ]
    },
    {
     "cell_type": "heading",
     "level": 1,
     "metadata": {},
     "source": [
      "Sentence Prediction with Ngrams"
     ]
    },
    {
     "cell_type": "code",
     "collapsed": false,
     "input": [],
     "language": "python",
     "metadata": {},
     "outputs": []
    }
   ],
   "metadata": {}
  }
 ]
}