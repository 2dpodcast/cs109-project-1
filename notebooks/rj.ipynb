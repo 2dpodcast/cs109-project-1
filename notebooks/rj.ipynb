{
 "metadata": {
  "name": ""
 },
 "nbformat": 3,
 "nbformat_minor": 0,
 "worksheets": [
  {
   "cells": [
    {
     "cell_type": "code",
     "collapsed": false,
     "input": [
      "%matplotlib inline\n",
      "\n",
      "import json\n",
      "\n",
      "import requests\n",
      "import pandas as pd\n",
      "import numpy as np\n",
      "import matplotlib.pyplot as plt\n",
      "from operator import itemgetter\n",
      "\n",
      "pd.set_option('display.width', 500)\n",
      "pd.set_option('display.max_columns', 30)\n",
      "\n",
      "# set some nicer defaults for matplotlib\n",
      "from matplotlib import rcParams\n",
      "\n",
      "#these colors come from colorbrewer2.org. Each is an RGB triplet\n",
      "dark2_colors = [(0.10588235294117647, 0.6196078431372549, 0.4666666666666667),\n",
      "                (0.8509803921568627, 0.37254901960784315, 0.00784313725490196),\n",
      "                (0.4588235294117647, 0.4392156862745098, 0.7019607843137254),\n",
      "                (0.9058823529411765, 0.1607843137254902, 0.5411764705882353),\n",
      "                (0.4, 0.6509803921568628, 0.11764705882352941),\n",
      "                (0.9019607843137255, 0.6705882352941176, 0.00784313725490196),\n",
      "                (0.6509803921568628, 0.4627450980392157, 0.11372549019607843),\n",
      "                (0.4, 0.4, 0.4)]\n",
      "\n",
      "rcParams['figure.figsize'] = (10, 6)\n",
      "rcParams['figure.dpi'] = 150\n",
      "rcParams['axes.color_cycle'] = dark2_colors\n",
      "rcParams['lines.linewidth'] = 2\n",
      "rcParams['axes.grid'] = False\n",
      "rcParams['axes.facecolor'] = 'white'\n",
      "rcParams['font.size'] = 14\n",
      "rcParams['patch.edgecolor'] = 'none'\n",
      "\n",
      "stopwords = [\"a\",\"about\",\"above\",\"across\",\"after\",\"afterwards\",\"again\",\"against\",\"all\",\"almost\",\"alone\",\"along\",\"already\",\"also\",\"although\",\"always\",\"am\",\"among\",\"amongst\",\"amoungst\",\"amount\",\"an\",\"and\",\"another\",\"any\",\"anyhow\",\"anyone\",\"anything\",\"anyway\",\"anywhere\",\"are\",\"around\",\"as\",\"at\",\"back\",\"be\",\"became\",\"because\",\"become\",\"becomes\",\"becoming\",\"been\",\"before\",\"beforehand\",\"behind\",\"being\",\"below\",\"beside\",\"besides\",\"between\",\"beyond\",\"bill\",\"both\",\"bottom\",\"but\",\"by\",\"call\",\"can\",\"cannot\",\"cant\",\"co\",\"computer\",\"con\",\"could\",\"couldnt\",\"cry\",\"de\",\"describe\",\"detail\",\"do\",\"done\",\"down\",\"due\",\"during\",\"each\",\"eg\",\"eight\",\"either\",\"eleven\",\"else\",\"elsewhere\",\"empty\",\"enough\",\"etc\",\"even\",\"ever\",\"every\",\"everyone\",\"everything\",\"everywhere\",\"except\",\"few\",\"fifteen\",\"fify\",\"fill\",\"find\",\"fire\",\"first\",\"five\",\"for\",\"former\",\"formerly\",\"forty\",\"found\",\"four\",\"from\",\"front\",\"full\",\"further\",\"get\",\"give\",\"go\",\"had\",\"has\",\"hasnt\",\"have\",\"he\",\"hence\",\"her\",\"here\",\"hereafter\",\"hereby\",\"herein\",\"hereupon\",\"hers\",\"herself\",\"him\",\"himself\",\"his\",\"how\",\"however\",\"hundred\",\"i\",\"ie\",\"if\",\"in\",\"inc\",\"indeed\",\"interest\",\"into\",\"is\",\"it\",\"its\",\"itself\",\"keep\",\"last\",\"latter\",\"latterly\",\"least\",\"less\",\"ltd\",\"made\",\"many\",\"may\",\"me\",\"meanwhile\",\"might\",\"mill\",\"mine\",\"more\",\"moreover\",\"most\",\"mostly\",\"move\",\"much\",\"must\",\"my\",\"myself\",\"name\",\"namely\",\"neither\",\"never\",\"nevertheless\",\"next\",\"nine\",\"no\",\"nobody\",\"none\",\"noone\",\"nor\",\"not\",\"nothing\",\"now\",\"nowhere\",\"of\",\"off\",\"often\",\"on\",\"once\",\"one\",\"only\",\"onto\",\"or\",\"other\",\"others\",\"otherwise\",\"our\",\"ours\",\"ourselves\",\"out\",\"over\",\"own\",\"part\",\"per\",\"perhaps\",\"please\",\"put\",\"rather\",\"re\",\"same\",\"see\",\"seem\",\"seemed\",\"seeming\",\"seems\",\"serious\",\"several\",\"she\",\"should\",\"show\",\"side\",\"since\",\"sincere\",\"six\",\"sixty\",\"so\",\"some\",\"somehow\",\"someone\",\"something\",\"sometime\",\"sometimes\",\"somewhere\",\"still\",\"such\",\"system\",\"take\",\"ten\",\"than\",\"that\",\"the\",\"their\",\"them\",\"themselves\",\"then\",\"thence\",\"there\",\"thereafter\",\"thereby\",\"therefore\",\"therein\",\"thereupon\",\"these\",\"they\",\"thick\",\"thin\",\"third\",\"this\",\"those\",\"though\",\"three\",\"through\",\"throughout\",\"thru\",\"thus\",\"to\",\"together\",\"too\",\"top\",\"toward\",\"towards\",\"twelve\",\"twenty\",\"two\",\"un\",\"under\",\"until\",\"up\",\"upon\",\"us\",\"very\",\"via\",\"was\",\"we\",\"well\",\"were\",\"what\",\"whatever\",\"when\",\"whence\",\"whenever\",\"where\",\"whereafter\",\"whereas\",\"whereby\",\"wherein\",\"whereupon\",\"wherever\",\"whether\",\"which\",\"while\",\"whither\",\"who\",\"whoever\",\"whole\",\"whom\",\"whose\",\"why\",\"will\",\"with\",\"within\",\"without\",\"would\",\"yet\",\"you\",\"your\",\"yours\",\"yourself\",\"yourselves\"]"
     ],
     "language": "python",
     "metadata": {},
     "outputs": [],
     "prompt_number": 75
    },
    {
     "cell_type": "code",
     "collapsed": false,
     "input": [
      "FIELDS = [\"body\", \"post_ups\", \"subreddit_id\", \"created\", \"downs\",\n",
      "          \"author\", \"post_net\", \"subreddit\", \"post_id\", \"post_downs\",\n",
      "          \"net\", \"ups\", \"id\", \"post_created\"]\n",
      "\n",
      "def load_subreddit(filename, fields=FIELDS):\n",
      "    \"\"\"\n",
      "    Loads the subreddit with the filename and returns\n",
      "    a dataframe where the column names are the fields\n",
      "    in the json object.\n",
      "    \"\"\"\n",
      "    file = open(filename, \"rb\")\n",
      "    arrays = {field:[] for field in fields}\n",
      "    for line in file.readlines():\n",
      "        data = json.loads(line)\n",
      "        for field in fields:\n",
      "            arrays[field].append(data[field])\n",
      "    df = pd.DataFrame(arrays)\n",
      "    file.close()\n",
      "    return df"
     ],
     "language": "python",
     "metadata": {},
     "outputs": [],
     "prompt_number": 9
    },
    {
     "cell_type": "code",
     "collapsed": false,
     "input": [
      "\"\"\"\n",
      "Analytic helper functions\n",
      "\"\"\"\n",
      "def comment_num_words(r):\n",
      "    return len(r['body'].split(' '))\n",
      "def comment_length(r):\n",
      "    return len(r['body'])\n",
      "def avg_word_length(r):\n",
      "    words = r['body'].split(' ')\n",
      "    lengths = [len(word) for word in words]\n",
      "    return float(sum(lengths)) / len(lengths)\n",
      "def num_letters(r):\n",
      "    return sum(1 if c.isalpha() else 0 for c in r['body'])\n",
      "def num_swear_words(r):\n",
      "    swears = \"fuck shit bitch damn dick crap fag piss pussy asshole slut cock     darn douche bastard\".split(' ')\n",
      "    return sum(1 if word in swears else 0 for word in r['body'].split())\n",
      "# for now, useless, because cleaning step removed capitalization\n",
      "def capital_letters(r):\n",
      "    return sum(1 if c.isupper() else 0 for c in r['body'])"
     ],
     "language": "python",
     "metadata": {},
     "outputs": [],
     "prompt_number": 10
    },
    {
     "cell_type": "code",
     "collapsed": false,
     "input": [
      "\"\"\"\n",
      "Reads in a datafile, creates a dataframe for it, and appends analytic data\n",
      "\"\"\"\n",
      "def analytic_dataframe(datafile, outfile=None):\n",
      "    # functions to add to dataframe\n",
      "    functions = [comment_num_words, comment_length, avg_word_length, num_letters, num_swear_words]\n",
      "    \n",
      "    # load in datafile\n",
      "    df = load_subreddit(datafile)\n",
      "    \n",
      "    # apply functions\n",
      "    for func in functions:\n",
      "        print \"Applying {}...\".format(func.__name__)\n",
      "        df[func.__name__] = df.apply(lambda x: func(x), axis=1)\n",
      "\n",
      "    # write output\n",
      "    if outfile is not None:\n",
      "        df.to_csv(outfile, sep='\\t', encoding='utf-8')\n",
      "    \n",
      "    return df"
     ],
     "language": "python",
     "metadata": {},
     "outputs": [],
     "prompt_number": 11
    },
    {
     "cell_type": "code",
     "collapsed": false,
     "input": [
      "# liberal = analytic_dataframe(\"../data/Liberal\")"
     ],
     "language": "python",
     "metadata": {},
     "outputs": [],
     "prompt_number": 12
    },
    {
     "cell_type": "code",
     "collapsed": false,
     "input": [
      "# load in all files, generating csv files\n",
      "subreddits = [\"Conservative\",\"LadyBoners\",\"Liberal\",\"Music\",\"WTF\",\"aww\",\"books\",\"circlejerk\",\"food\",\"funny\",\"gaming\",\"gentlemanboners\",\"movies\",\"nba\",\"news\",\"nfl\",\"pics\",\"pokemon\",\"politics\",\"science\",\"soccer\",\"technology\",\"television\",\"videos\",\"worldnews\"]\n",
      "dfs = {}\n",
      "for subreddit in subreddits:\n",
      "    print \"Making (just kidding) {}...\".format(subreddit)\n",
      "    path = \"../data/\" + subreddit\n",
      "    outfile = path + \".csv\"\n",
      "    # df = analytic_dataframe(path, outfile)\n",
      "    df = pd.read_csv(outfile, sep='\\t', encoding='utf-8')\n",
      "    dfs[subreddit] = df"
     ],
     "language": "python",
     "metadata": {},
     "outputs": [
      {
       "output_type": "stream",
       "stream": "stdout",
       "text": [
        "Making Conservative...\n",
        "Making LadyBoners..."
       ]
      },
      {
       "output_type": "stream",
       "stream": "stdout",
       "text": [
        "\n",
        "Making Liberal..."
       ]
      },
      {
       "output_type": "stream",
       "stream": "stdout",
       "text": [
        "\n",
        "Making Music..."
       ]
      },
      {
       "output_type": "stream",
       "stream": "stdout",
       "text": [
        "\n",
        "Making WTF..."
       ]
      },
      {
       "output_type": "stream",
       "stream": "stdout",
       "text": [
        "\n",
        "Making aww..."
       ]
      },
      {
       "output_type": "stream",
       "stream": "stdout",
       "text": [
        "\n",
        "Making books..."
       ]
      },
      {
       "output_type": "stream",
       "stream": "stdout",
       "text": [
        "\n",
        "Making circlejerk..."
       ]
      },
      {
       "output_type": "stream",
       "stream": "stdout",
       "text": [
        "\n",
        "Making food..."
       ]
      },
      {
       "output_type": "stream",
       "stream": "stdout",
       "text": [
        "\n",
        "Making funny..."
       ]
      },
      {
       "output_type": "stream",
       "stream": "stdout",
       "text": [
        "\n",
        "Making gaming..."
       ]
      },
      {
       "output_type": "stream",
       "stream": "stdout",
       "text": [
        "\n",
        "Making gentlemanboners..."
       ]
      },
      {
       "output_type": "stream",
       "stream": "stdout",
       "text": [
        "\n",
        "Making movies..."
       ]
      },
      {
       "output_type": "stream",
       "stream": "stdout",
       "text": [
        "\n",
        "Making nba..."
       ]
      },
      {
       "output_type": "stream",
       "stream": "stdout",
       "text": [
        "\n",
        "Making news..."
       ]
      },
      {
       "output_type": "stream",
       "stream": "stdout",
       "text": [
        "\n",
        "Making nfl..."
       ]
      },
      {
       "output_type": "stream",
       "stream": "stdout",
       "text": [
        "\n",
        "Making pics..."
       ]
      },
      {
       "output_type": "stream",
       "stream": "stdout",
       "text": [
        "\n",
        "Making pokemon..."
       ]
      },
      {
       "output_type": "stream",
       "stream": "stdout",
       "text": [
        "\n",
        "Making politics..."
       ]
      },
      {
       "output_type": "stream",
       "stream": "stdout",
       "text": [
        "\n",
        "Making science..."
       ]
      },
      {
       "output_type": "stream",
       "stream": "stdout",
       "text": [
        "\n",
        "Making soccer..."
       ]
      },
      {
       "output_type": "stream",
       "stream": "stdout",
       "text": [
        "\n",
        "Making technology..."
       ]
      },
      {
       "output_type": "stream",
       "stream": "stdout",
       "text": [
        "\n",
        "Making television..."
       ]
      },
      {
       "output_type": "stream",
       "stream": "stdout",
       "text": [
        "\n",
        "Making videos..."
       ]
      },
      {
       "output_type": "stream",
       "stream": "stdout",
       "text": [
        "\n",
        "Making worldnews..."
       ]
      },
      {
       "output_type": "stream",
       "stream": "stdout",
       "text": [
        "\n"
       ]
      }
     ],
     "prompt_number": 17
    },
    {
     "cell_type": "code",
     "collapsed": false,
     "input": [
      "functions = [comment_num_words, comment_length, avg_word_length, num_letters, num_swear_words]\n",
      "for func in functions:\n",
      "    print \"average {}:\".format(func.__name__)\n",
      "    vals = [(sub, dfs[sub][func.__name__].mean()) for sub in dfs]\n",
      "    vals.sort(key=itemgetter(1))\n",
      "    for t in vals:\n",
      "        print \"\\t{}: {}\".format(t[0], t[1])\n",
      "    print \"max {}:\".format(func.__name__)\n",
      "    vals = [(sub, dfs[sub][func.__name__].max()) for sub in dfs]\n",
      "    vals.sort(key=itemgetter(1))\n",
      "    for t in vals:\n",
      "        print \"\\t{}: {}\".format(t[0], t[1])"
     ],
     "language": "python",
     "metadata": {},
     "outputs": [
      {
       "output_type": "stream",
       "stream": "stdout",
       "text": [
        "average comment_num_words:\n",
        "\tgentlemanboners: 16.4443109193\n",
        "\tLadyBoners: 17.5507905687\n",
        "\tpokemon: 20.1236418218\n",
        "\taww: 20.7965528207\n",
        "\tfunny: 21.003407777\n",
        "\tnba: 21.8139923884\n",
        "\tpics: 22.1623727588\n",
        "\tWTF: 23.2222247467\n",
        "\tnfl: 23.9357143604\n",
        "\tvideos: 25.2888898667\n",
        "\tsoccer: 25.8036449495\n",
        "\tfood: 26.5036144578\n",
        "\tgaming: 27.3934073081\n",
        "\tcirclejerk: 29.1161482763\n",
        "\tmovies: 29.5827977815\n",
        "\tMusic: 29.9687551812\n",
        "\ttelevision: 36.811878453\n",
        "\tbooks: 39.3604831937\n",
        "\tworldnews: 40.4836366105\n",
        "\ttechnology: 42.052877833\n",
        "\tnews: 44.4139161742\n",
        "\tpolitics: 46.1098356618\n",
        "\tscience: 47.2362410054\n",
        "\tConservative: 47.5509398264\n",
        "\tLiberal: 51.6627143765\n",
        "max comment_num_words:\n",
        "\tLadyBoners: 406"
       ]
      },
      {
       "output_type": "stream",
       "stream": "stdout",
       "text": [
        "\n",
        "\tpokemon: 1093\n",
        "\tfood: 1187\n",
        "\tfunny: 1298\n",
        "\taww: 1339\n",
        "\tsoccer: 1397\n",
        "\tConservative: 1678\n",
        "\ttelevision: 1710\n",
        "\tLiberal: 1727\n",
        "\tnba: 1843\n",
        "\tgentlemanboners: 1902\n",
        "\tvideos: 1925\n",
        "\tpics: 1932\n",
        "\tmovies: 1995\n",
        "\tworldnews: 2033\n",
        "\tMusic: 2071\n",
        "\tscience: 2092\n",
        "\tWTF: 2209\n",
        "\tgaming: 2405\n",
        "\tbooks: 2479\n",
        "\tpolitics: 2565\n",
        "\tnews: 2678\n",
        "\ttechnology: 3008\n",
        "\tnfl: 6939\n",
        "\tcirclejerk: 9936\n",
        "average comment_length:\n",
        "\tgentlemanboners: 77.3310755449\n",
        "\tLadyBoners: 80.1044660194\n",
        "\tpokemon: 94.4015054775\n",
        "\taww: 96.1292247027\n",
        "\tfunny: 98.9563784255\n",
        "\tnba: 103.253176601\n",
        "\tpics: 105.158497735\n",
        "\tWTF: 110.732244286\n",
        "\tnfl: 113.217545952\n",
        "\tvideos: 121.36102616\n",
        "\tsoccer: 124.036095329\n",
        "\tfood: 125.247163011\n",
        "\tgaming: 130.741868878\n",
        "\tcirclejerk: 140.364497473\n",
        "\tmovies: 142.51708297\n",
        "\tMusic: 143.110223165\n",
        "\ttelevision: 177.6515588\n",
        "\tbooks: 190.157681242\n",
        "\tworldnews: 205.021102662\n",
        "\ttechnology: 210.158725658\n",
        "\tnews: 222.317817869\n",
        "\tpolitics: 232.54633494\n",
        "\tscience: 239.370468404\n",
        "\tConservative: 241.495619627\n",
        "\tLiberal: 261.637518526\n",
        "max comment_length:\n",
        "\tLadyBoners: 1908"
       ]
      },
      {
       "output_type": "stream",
       "stream": "stdout",
       "text": [
        "\n",
        "\tpokemon: 5176\n",
        "\tfood: 6042\n",
        "\taww: 6085\n",
        "\tsoccer: 6916\n",
        "\tnfl: 6941\n",
        "\tfunny: 7244\n",
        "\tWTF: 8200\n",
        "\tConservative: 8337\n",
        "\ttelevision: 8723\n",
        "\tnba: 9016\n",
        "\tLiberal: 9099\n",
        "\tbooks: 9360\n",
        "\tgentlemanboners: 9699\n",
        "\tpics: 9810\n",
        "\tMusic: 9950\n",
        "\tvideos: 10007\n",
        "\tmovies: 10448\n",
        "\tscience: 11189\n",
        "\tworldnews: 11676\n",
        "\tgaming: 13543\n",
        "\tnews: 14524\n",
        "\ttechnology: 14756\n",
        "\tpolitics: 14801\n",
        "\tcirclejerk: 38745\n",
        "average avg_word_length:\n",
        "\tLadyBoners: 3.62764398684\n",
        "\taww: 3.74712227217\n",
        "\tfood: 3.77940200749\n",
        "\tbooks: 3.8163020984\n",
        "\ttelevision: 3.82788785242\n",
        "\tpokemon: 3.82921891544\n",
        "\tgaming: 3.8330594362\n",
        "\tgentlemanboners: 3.83523822027\n",
        "\tpics: 3.83552294331\n",
        "\tMusic: 3.83714435379\n",
        "\tnfl: 3.84438801062\n",
        "\tfunny: 3.84502708052\n",
        "\tWTF: 3.86430378977\n",
        "\tnba: 3.87818835033\n",
        "\tsoccer: 3.88321394026\n",
        "\tvideos: 3.94274767362\n",
        "\tnews: 3.99795171397\n",
        "\tmovies: 4.01103903633\n",
        "\ttechnology: 4.01798007122\n",
        "\tpolitics: 4.02122397843\n",
        "\tscience: 4.03770251314\n",
        "\tworldnews: 4.03983611254\n",
        "\tConservative: 4.07076297128\n",
        "\tLiberal: 4.12466348613\n",
        "\tcirclejerk: 4.90003796575\n",
        "max avg_word_length:\n",
        "\tLadyBoners: 40.25\n",
        "\tfood: 43.0\n",
        "\tConservative: 47.0\n",
        "\tgentlemanboners: 48.0\n",
        "\ttelevision: 48.0\n",
        "\tbooks: 53.625\n",
        "\tpolitics: 87.0\n",
        "\tnews: 94.5\n",
        "\tsoccer: 108.0\n",
        "\tscience: 157.75\n",
        "\tgaming: 192.0\n",
        "\tpokemon: 237.0\n",
        "\tnfl: 330.0\n",
        "\tworldnews: 345.2\n",
        "\tWTF: 376.0\n",
        "\tpics: 413.0\n",
        "\tLiberal: 429.0\n",
        "\tnba: 571.0\n",
        "\tfunny: 712.0\n",
        "\taww: 1232.0\n",
        "\tMusic: 1602.0\n",
        "\ttechnology: 2021.0\n",
        "\tcirclejerk: 9728.0\n",
        "\tvideos: 10000.0\n",
        "\tmovies: 10000.0\n",
        "average num_letters:\n",
        "\tgentlemanboners: 60.2748129131"
       ]
      },
      {
       "output_type": "stream",
       "stream": "stdout",
       "text": [
        "\n",
        "\tLadyBoners: 62.1127323162\n",
        "\tpokemon: 73.6169993503\n",
        "\taww: 74.9340075049\n",
        "\tfunny: 77.208919045\n",
        "\tnba: 80.5276379596\n",
        "\tpics: 82.1947346743\n",
        "\tWTF: 86.7862043895\n",
        "\tnfl: 88.2544958102\n",
        "\tvideos: 94.9146260075\n",
        "\tsoccer: 97.338803217\n",
        "\tfood: 98.0845227062\n",
        "\tgaming: 102.227313742\n",
        "\tcirclejerk: 104.565758914\n",
        "\tmovies: 111.64063738\n",
        "\tMusic: 111.988203402\n",
        "\ttelevision: 139.685201263\n",
        "\tbooks: 149.451493004\n",
        "\tworldnews: 162.670491581\n",
        "\ttechnology: 165.901475248\n",
        "\tnews: 175.981325089\n",
        "\tpolitics: 184.415321814\n",
        "\tscience: 189.94059173\n",
        "\tConservative: 191.704355694\n",
        "\tLiberal: 207.942621215\n",
        "max num_letters:\n",
        "\tLadyBoners: 1492\n",
        "\tpokemon: 4061\n",
        "\taww: 4732\n",
        "\tfood: 4809\n",
        "\tnfl: 5336\n",
        "\tsoccer: 5446\n",
        "\tWTF: 6317\n",
        "\tConservative: 6626\n",
        "\ttelevision: 6763\n",
        "\tnba: 7156\n",
        "\tfunny: 7200\n",
        "\tLiberal: 7350\n",
        "\tbooks: 7416\n",
        "\tgentlemanboners: 7691\n",
        "\tpics: 7783\n",
        "\tMusic: 7820\n",
        "\tworldnews: 8698\n",
        "\tscience: 9013\n",
        "\tvideos: 10000\n",
        "\tmovies: 10000\n",
        "\tpolitics: 10671\n",
        "\tgaming: 10707\n",
        "\ttechnology: 11020\n",
        "\tnews: 11479\n",
        "\tcirclejerk: 32440\n",
        "average num_swear_words:\n",
        "\tgentlemanboners: 0.0455563445677\n",
        "\tConservative: 0.0464771932711\n",
        "\tbooks: 0.0527688926216\n",
        "\tscience: 0.0528890457424\n",
        "\tpokemon: 0.0531845778166\n",
        "\taww: 0.0572282643261\n",
        "\tLadyBoners: 0.0587517337032\n",
        "\tfood: 0.0601585830501\n",
        "\tsoccer: 0.0613591086844\n",
        "\tpics: 0.066320912522\n",
        "\tmovies: 0.0698364932893\n",
        "\ttelevision: 0.0704617205998\n",
        "\tnba: 0.0745657111288\n",
        "\tfunny: 0.0759244609424\n",
        "\tnfl: 0.0775507642093\n",
        "\tLiberal: 0.0785517679441\n",
        "\tgaming: 0.0815998049018\n",
        "\tvideos: 0.0822277470976\n",
        "\tworldnews: 0.0864272134709\n",
        "\ttechnology: 0.0888268196029\n",
        "\tpolitics: 0.0922264841468\n",
        "\tnews: 0.0931240950182\n",
        "\tWTF: 0.093341512549\n",
        "\tMusic: 0.095417316046\n",
        "\tcirclejerk: 0.107882872626\n",
        "max num_swear_words:\n",
        "\tLadyBoners: 4"
       ]
      },
      {
       "output_type": "stream",
       "stream": "stdout",
       "text": [
        "\n",
        "\tLiberal: 5\n",
        "\tsoccer: 6\n",
        "\tConservative: 7\n",
        "\tpokemon: 7\n",
        "\tgentlemanboners: 8\n",
        "\tnba: 8\n",
        "\tbooks: 9\n",
        "\tnews: 9\n",
        "\tscience: 9\n",
        "\tWTF: 10\n",
        "\tgaming: 10\n",
        "\taww: 10\n",
        "\ttelevision: 11\n",
        "\tMusic: 12\n",
        "\tfood: 12\n",
        "\tmovies: 13\n",
        "\tpics: 14\n",
        "\tworldnews: 15\n",
        "\tfunny: 17\n",
        "\tpolitics: 21\n",
        "\tvideos: 24\n",
        "\tnfl: 65\n",
        "\ttechnology: 72\n",
        "\tcirclejerk: 236\n"
       ]
      }
     ],
     "prompt_number": 18
    },
    {
     "cell_type": "code",
     "collapsed": false,
     "input": [
      "dfs[\"pokemon\"].head()"
     ],
     "language": "python",
     "metadata": {},
     "outputs": [
      {
       "html": [
        "<div style=\"max-height:1000px;max-width:1500px;overflow:auto;\">\n",
        "<table border=\"1\" class=\"dataframe\">\n",
        "  <thead>\n",
        "    <tr style=\"text-align: right;\">\n",
        "      <th></th>\n",
        "      <th>Unnamed: 0</th>\n",
        "      <th>author</th>\n",
        "      <th>body</th>\n",
        "      <th>created</th>\n",
        "      <th>downs</th>\n",
        "      <th>id</th>\n",
        "      <th>net</th>\n",
        "      <th>post_created</th>\n",
        "      <th>post_downs</th>\n",
        "      <th>post_id</th>\n",
        "      <th>post_net</th>\n",
        "      <th>post_ups</th>\n",
        "      <th>subreddit</th>\n",
        "      <th>subreddit_id</th>\n",
        "      <th>ups</th>\n",
        "      <th>comment_num_words</th>\n",
        "      <th>comment_length</th>\n",
        "      <th>avg_word_length</th>\n",
        "      <th>num_letters</th>\n",
        "      <th>num_swear_words</th>\n",
        "    </tr>\n",
        "  </thead>\n",
        "  <tbody>\n",
        "    <tr>\n",
        "      <th>0</th>\n",
        "      <td> 0</td>\n",
        "      <td>           Daws12</td>\n",
        "      <td> such a loyal bulbasaur i would really like to ...</td>\n",
        "      <td> 1330175203</td>\n",
        "      <td> 18</td>\n",
        "      <td> c3uusir</td>\n",
        "      <td>  50</td>\n",
        "      <td> 1330169482</td>\n",
        "      <td> 2599</td>\n",
        "      <td> q5d2a</td>\n",
        "      <td> 2906</td>\n",
        "      <td> 5505</td>\n",
        "      <td> pokemon</td>\n",
        "      <td> t5_2qmeb</td>\n",
        "      <td>  68</td>\n",
        "      <td> 20</td>\n",
        "      <td> 97</td>\n",
        "      <td> 3.900000</td>\n",
        "      <td> 78</td>\n",
        "      <td> 0</td>\n",
        "    </tr>\n",
        "    <tr>\n",
        "      <th>1</th>\n",
        "      <td> 1</td>\n",
        "      <td>   screensplitter</td>\n",
        "      <td> the fact they actually did this for their son ...</td>\n",
        "      <td> 1330177675</td>\n",
        "      <td> 78</td>\n",
        "      <td> c3uuxdx</td>\n",
        "      <td> 417</td>\n",
        "      <td> 1330169482</td>\n",
        "      <td> 2599</td>\n",
        "      <td> q5d2a</td>\n",
        "      <td> 2906</td>\n",
        "      <td> 5505</td>\n",
        "      <td> pokemon</td>\n",
        "      <td> t5_2qmeb</td>\n",
        "      <td> 495</td>\n",
        "      <td> 14</td>\n",
        "      <td> 70</td>\n",
        "      <td> 4.071429</td>\n",
        "      <td> 55</td>\n",
        "      <td> 0</td>\n",
        "    </tr>\n",
        "    <tr>\n",
        "      <th>2</th>\n",
        "      <td> 2</td>\n",
        "      <td>       FionaSarah</td>\n",
        "      <td>   that s one of the nicest things i ve ever seen </td>\n",
        "      <td> 1330178697</td>\n",
        "      <td>  9</td>\n",
        "      <td> c3uuzmj</td>\n",
        "      <td>  61</td>\n",
        "      <td> 1330169482</td>\n",
        "      <td> 2599</td>\n",
        "      <td> q5d2a</td>\n",
        "      <td> 2906</td>\n",
        "      <td> 5505</td>\n",
        "      <td> pokemon</td>\n",
        "      <td> t5_2qmeb</td>\n",
        "      <td>  70</td>\n",
        "      <td> 12</td>\n",
        "      <td> 47</td>\n",
        "      <td> 3.000000</td>\n",
        "      <td> 36</td>\n",
        "      <td> 0</td>\n",
        "    </tr>\n",
        "    <tr>\n",
        "      <th>3</th>\n",
        "      <td> 3</td>\n",
        "      <td> aLevel99Pickachu</td>\n",
        "      <td>      shit im getting a 6ft tall krabby next to me</td>\n",
        "      <td> 1330179524</td>\n",
        "      <td> 15</td>\n",
        "      <td> c3uv1fr</td>\n",
        "      <td>  86</td>\n",
        "      <td> 1330169482</td>\n",
        "      <td> 2599</td>\n",
        "      <td> q5d2a</td>\n",
        "      <td> 2906</td>\n",
        "      <td> 5505</td>\n",
        "      <td> pokemon</td>\n",
        "      <td> t5_2qmeb</td>\n",
        "      <td> 101</td>\n",
        "      <td> 10</td>\n",
        "      <td> 44</td>\n",
        "      <td> 3.500000</td>\n",
        "      <td> 34</td>\n",
        "      <td> 1</td>\n",
        "    </tr>\n",
        "    <tr>\n",
        "      <th>4</th>\n",
        "      <td> 4</td>\n",
        "      <td>  EagleEyedEnigma</td>\n",
        "      <td>                 this is absolutely heartbreaking </td>\n",
        "      <td> 1330179956</td>\n",
        "      <td> 51</td>\n",
        "      <td> c3uv2h5</td>\n",
        "      <td> 281</td>\n",
        "      <td> 1330169482</td>\n",
        "      <td> 2599</td>\n",
        "      <td> q5d2a</td>\n",
        "      <td> 2906</td>\n",
        "      <td> 5505</td>\n",
        "      <td> pokemon</td>\n",
        "      <td> t5_2qmeb</td>\n",
        "      <td> 332</td>\n",
        "      <td>  5</td>\n",
        "      <td> 33</td>\n",
        "      <td> 5.800000</td>\n",
        "      <td> 29</td>\n",
        "      <td> 0</td>\n",
        "    </tr>\n",
        "  </tbody>\n",
        "</table>\n",
        "</div>"
       ],
       "metadata": {},
       "output_type": "pyout",
       "prompt_number": 20,
       "text": [
        "   Unnamed: 0            author                                               body     created  downs       id  net  post_created  post_downs post_id  post_net  post_ups subreddit subreddit_id  ups  comment_num_words  comment_length  avg_word_length  num_letters  num_swear_words\n",
        "0           0            Daws12  such a loyal bulbasaur i would really like to ...  1330175203     18  c3uusir   50    1330169482        2599   q5d2a      2906      5505   pokemon     t5_2qmeb   68                 20              97         3.900000           78                0\n",
        "1           1    screensplitter  the fact they actually did this for their son ...  1330177675     78  c3uuxdx  417    1330169482        2599   q5d2a      2906      5505   pokemon     t5_2qmeb  495                 14              70         4.071429           55                0\n",
        "2           2        FionaSarah    that s one of the nicest things i ve ever seen   1330178697      9  c3uuzmj   61    1330169482        2599   q5d2a      2906      5505   pokemon     t5_2qmeb   70                 12              47         3.000000           36                0\n",
        "3           3  aLevel99Pickachu       shit im getting a 6ft tall krabby next to me  1330179524     15  c3uv1fr   86    1330169482        2599   q5d2a      2906      5505   pokemon     t5_2qmeb  101                 10              44         3.500000           34                1\n",
        "4           4   EagleEyedEnigma                  this is absolutely heartbreaking   1330179956     51  c3uv2h5  281    1330169482        2599   q5d2a      2906      5505   pokemon     t5_2qmeb  332                  5              33         5.800000           29                0"
       ]
      }
     ],
     "prompt_number": 20
    },
    {
     "cell_type": "code",
     "collapsed": false,
     "input": [
      "# word counts on particular words\n",
      "def word_frequency(subreddit, num_comments = None):\n",
      "    df = dfs[subreddit]\n",
      "    counts = {}\n",
      "    num = 0\n",
      "    for body in df.body:\n",
      "        num += 1\n",
      "        if pd.isnull(body):\n",
      "            continue\n",
      "        words = body.split()\n",
      "        for word in words:\n",
      "            counts.setdefault(word, 0)\n",
      "            counts[word] += 1\n",
      "        if num_comments is not None and num == num_comments:\n",
      "            break\n",
      "    return counts\n"
     ],
     "language": "python",
     "metadata": {},
     "outputs": [],
     "prompt_number": 66
    },
    {
     "cell_type": "code",
     "collapsed": false,
     "input": [
      "pokemon_words = word_frequency(\"pokemon\")\n"
     ],
     "language": "python",
     "metadata": {},
     "outputs": [],
     "prompt_number": 68
    },
    {
     "cell_type": "code",
     "collapsed": false,
     "input": [
      "sorted_pkmn_words = sorted(pokemon_words.items(), key=itemgetter(1), reverse=True)"
     ],
     "language": "python",
     "metadata": {},
     "outputs": [],
     "prompt_number": 85
    },
    {
     "cell_type": "code",
     "collapsed": false,
     "input": [
      "sorted_pkmn_words = [t for t in sorted_pkmn_words if not t[0] in stopwords]\n",
      "sorted_pkmn_words = [t for t in sorted_pkmn_words if len(t[0]) > 2]\n",
      "sorted_pkmn_words[:25]"
     ],
     "language": "python",
     "metadata": {},
     "outputs": [
      {
       "metadata": {},
       "output_type": "pyout",
       "prompt_number": 88,
       "text": [
        "[(u'pokemon', 5294),\n",
        " (u'just', 4583),\n",
        " (u'like', 4510),\n",
        " (u'http', 3101),\n",
        " (u'think', 1954),\n",
        " (u'really', 1863),\n",
        " (u'game', 1860),\n",
        " (u'know', 1794),\n",
        " (u'does', 1727),\n",
        " (u'people', 1468),\n",
        " (u'make', 1429),\n",
        " (u'time', 1429),\n",
        " (u'good', 1379),\n",
        " (u'looks', 1132),\n",
        " (u'actually', 1131),\n",
        " (u'want', 1108),\n",
        " (u'love', 1045),\n",
        " (u'right', 1030),\n",
        " (u'pretty', 1009),\n",
        " (u'awesome', 948),\n",
        " (u'thing', 944),\n",
        " (u'look', 930),\n",
        " (u'sure', 841),\n",
        " (u'shit', 817),\n",
        " (u'type', 801)]"
       ]
      }
     ],
     "prompt_number": 88
    },
    {
     "cell_type": "code",
     "collapsed": false,
     "input": [
      "def run_allsubreddits(f):\n",
      "    res = {}\n",
      "    res[\"combined\"] = {}\n",
      "    for sub in subreddits:\n",
      "        print \"Running {}\".format(sub)\n",
      "        d = f(sub)\n",
      "        res[sub] = d\n",
      "        if type(d) != type(dict()):\n",
      "            print \"Function didnt return a dict!\"\n",
      "            return {}\n",
      "        for k,v in d.iteritems():\n",
      "            if k in res[\"combined\"]:\n",
      "                res[\"combined\"][k] += v\n",
      "            else:\n",
      "                res[\"combined\"][k] = v\n",
      "    return res"
     ],
     "language": "python",
     "metadata": {},
     "outputs": [],
     "prompt_number": 120
    },
    {
     "cell_type": "code",
     "collapsed": false,
     "input": [
      "all_word_freqs = run_allsubreddits(word_frequency)"
     ],
     "language": "python",
     "metadata": {},
     "outputs": [
      {
       "output_type": "stream",
       "stream": "stdout",
       "text": [
        "Running Conservative\n",
        "Running LadyBoners"
       ]
      },
      {
       "output_type": "stream",
       "stream": "stdout",
       "text": [
        "\n",
        "Running Liberal"
       ]
      },
      {
       "output_type": "stream",
       "stream": "stdout",
       "text": [
        "\n",
        "Running Music"
       ]
      },
      {
       "output_type": "stream",
       "stream": "stdout",
       "text": [
        "\n",
        "Running WTF"
       ]
      },
      {
       "output_type": "stream",
       "stream": "stdout",
       "text": [
        "\n",
        "Running aww"
       ]
      },
      {
       "output_type": "stream",
       "stream": "stdout",
       "text": [
        "\n",
        "Running books"
       ]
      },
      {
       "output_type": "stream",
       "stream": "stdout",
       "text": [
        "\n",
        "Running circlejerk"
       ]
      },
      {
       "output_type": "stream",
       "stream": "stdout",
       "text": [
        "\n",
        "Running food"
       ]
      },
      {
       "output_type": "stream",
       "stream": "stdout",
       "text": [
        "\n",
        "Running funny"
       ]
      },
      {
       "output_type": "stream",
       "stream": "stdout",
       "text": [
        "\n",
        "Running gaming"
       ]
      },
      {
       "output_type": "stream",
       "stream": "stdout",
       "text": [
        "\n",
        "Running gentlemanboners"
       ]
      },
      {
       "output_type": "stream",
       "stream": "stdout",
       "text": [
        "\n",
        "Running movies"
       ]
      },
      {
       "output_type": "stream",
       "stream": "stdout",
       "text": [
        "\n",
        "Running nba"
       ]
      },
      {
       "output_type": "stream",
       "stream": "stdout",
       "text": [
        "\n",
        "Running news"
       ]
      },
      {
       "output_type": "stream",
       "stream": "stdout",
       "text": [
        "\n",
        "Running nfl"
       ]
      },
      {
       "output_type": "stream",
       "stream": "stdout",
       "text": [
        "\n",
        "Running pics"
       ]
      },
      {
       "output_type": "stream",
       "stream": "stdout",
       "text": [
        "\n",
        "Running pokemon"
       ]
      },
      {
       "output_type": "stream",
       "stream": "stdout",
       "text": [
        "\n",
        "Running politics"
       ]
      },
      {
       "output_type": "stream",
       "stream": "stdout",
       "text": [
        "\n",
        "Running science"
       ]
      },
      {
       "output_type": "stream",
       "stream": "stdout",
       "text": [
        "\n",
        "Running soccer"
       ]
      },
      {
       "output_type": "stream",
       "stream": "stdout",
       "text": [
        "\n",
        "Running technology"
       ]
      },
      {
       "output_type": "stream",
       "stream": "stdout",
       "text": [
        "\n",
        "Running television"
       ]
      },
      {
       "output_type": "stream",
       "stream": "stdout",
       "text": [
        "\n",
        "Running videos"
       ]
      },
      {
       "output_type": "stream",
       "stream": "stdout",
       "text": [
        "\n",
        "Running worldnews"
       ]
      },
      {
       "output_type": "stream",
       "stream": "stdout",
       "text": [
        "\n"
       ]
      }
     ],
     "prompt_number": 121
    },
    {
     "cell_type": "code",
     "collapsed": false,
     "input": [
      "sorted_words = dict((k, sorted(v.items(), key=itemgetter(1), reverse=True)) for k,v in all_word_freqs.iteritems())\n",
      "sorted_words = dict((k,[t for t in v if (not t[0] in stopwords) and len(t[0]) > 3]) for k,v in sorted_words.iteritems())"
     ],
     "language": "python",
     "metadata": {},
     "outputs": [],
     "prompt_number": "*"
    },
    {
     "cell_type": "code",
     "collapsed": false,
     "input": [
      "# print all_word_freqs\n",
      "for k,v in sorted_words.iteritems():\n",
      "    print k\n",
      "    print v[:25]\n",
      "    \n",
      "#     plt.bar(v[:25])"
     ],
     "language": "python",
     "metadata": {},
     "outputs": [
      {
       "output_type": "stream",
       "stream": "stdout",
       "text": [
        "videos\n",
        "[(u\"n't\", 24446), (u'like', 16865), (u'just', 15829), (u'http', 14593), (u'people', 10200), (u'video', 8885), (u'did', 7479), (u'think', 6966), (u'time', 6602), (u'guy', 6586), (u'really', 6582), (u'know', 6156), (u'good', 5377), (u'www.youtube.com/watch', 5324), (u'does', 5318), (u'make', 4624), (u'way', 4588), (u'thing', 4311), (u'amp', 4276), (u'got', 4152), (u'shit', 4089), (u'man', 4079), (u'going', 4014), (u'want', 3813), (u'right', 3736)]\n",
        "gentlemanboners\n",
        "[(u\"n't\", 2580), (u'like', 1758), (u'http', 1525), (u'just', 1428), (u'think', 813), (u'looks', 726), (u'did', 669), (u'good', 665), (u'know', 655), (u'look', 622), (u'does', 621), (u'really', 598), (u'people', 532), (u'amp', 513), (u'time', 491), (u'picture', 486), (u'love', 461), (u'beautiful', 419), (u'hot', 417), (u'pretty', 406), (u'woman', 399), (u'right', 398), (u'got', 393), (u'say', 387), (u'make', 385)]\n",
        "Conservative\n",
        "[(u\"n't\", 10844), (u'people', 5452), (u'just', 4001), (u'like', 3485), (u'think', 3006), (u'does', 2585), (u'did', 2485), (u'obama', 2475), (u'government', 2007), (u'http', 1888), (u'know', 1811), (u'right', 1797), (u'make', 1726), (u'want', 1586), (u'time', 1576), (u'really', 1522), (u'way', 1508), (u'say', 1492), (u'good', 1466), (u'point', 1445), (u'said', 1252), (u'going', 1250), (u'actually', 1206), (u'money', 1144), (u'need', 1050)]\n",
        "books\n",
        "[(u\"n't\", 17769), (u'book', 11586), (u'books', 10827), (u'read', 10796), (u'just', 9256), (u'like', 9167), (u'people', 6203), (u'reading', 5646), (u'think', 5616), (u'really', 4925), (u'did', 4299), (u'time', 4192), (u'good', 3911), (u'know', 3798), (u'does', 3381), (u'http', 3355), (u'way', 3044), (u'love', 2746), (u'make', 2672), (u'want', 2625), (u'great', 2485), (u'say', 2257), (u'actually', 2231), (u'lot', 2163), (u'going', 2152)]\n",
        "Music\n",
        "[(u\"n't\", 29313), (u'like', 18162), (u'just', 17063), (u'music', 15934), (u'http', 11674), (u'people', 11230), (u'song', 8814), (u'really', 8473), (u'good', 8100), (u'think', 7982), (u'did', 7327), (u'time', 7126), (u'www.youtube.com/watch', 6881), (u'know', 6654), (u'does', 5938), (u'love', 5564), (u'make', 5149), (u'great', 5020), (u'album', 4754), (u'way', 4641), (u'got', 4439), (u'shit', 4198), (u'video', 4073), (u'man', 4068), (u'say', 4067)]\n",
        "politics\n",
        "[(u\"n't\", 55304), (u'people', 30846), (u'just', 23839), (u'like', 20866), (u'think', 13913), (u'does', 12995), (u'government', 12929), (u'did', 11384), (u'http', 10463), (u'know', 10272), (u'time', 10147), (u'money', 9878), (u'make', 9766), (u'right', 9666), (u'really', 8749), (u'good', 8602), (u'going', 8435), (u'way', 8373), (u'want', 8314), (u'need', 7469), (u'say', 7456), (u'obama', 7186), (u'actually', 6652), (u'law', 6163), (u'thing', 6138)]\n",
        "nba\n",
        "[(u\"n't\", 12448), (u'like', 7140), (u'just', 6673), (u'game', 4994), (u'http', 4927), (u'think', 3738), (u'did', 3683), (u'team', 3210), (u'lebron', 3152), (u'good', 2930), (u'really', 2759), (u'time', 2658), (u'does', 2655), (u'know', 2555), (u'people', 2497), (u'nba', 2489), (u'got', 2399), (u'play', 2063), (u'heat', 2013), (u'year', 1959), (u'man', 1937), (u'right', 1909), (u'player', 1876), (u'best', 1807), (u'going', 1798)]\n",
        "pokemon\n",
        "[(u\"n't\", 7629), (u'pokemon', 5294), (u'just', 4583), (u'like', 4510), (u'http', 3101), (u'did', 2129), (u'think', 1954), (u'really', 1863), (u'game', 1860), (u'know', 1794), (u'does', 1727), (u'people', 1468), (u'make', 1429), (u'time', 1429), (u'good', 1379), (u'got', 1304), (u'use', 1154), (u'amp', 1141), (u'looks', 1132), (u'actually', 1131), (u'want', 1108), (u'love', 1045), (u'way', 1038), (u'right', 1030), (u'pretty', 1009)]\n",
        "funny\n",
        "[(u\"n't\", 16114), (u'like', 9735), (u'just', 9484), (u'http', 7025), (u'people', 5501), (u'did', 4867), (u'know', 4073), (u'think', 3850), (u'time', 3793), (u'does', 3427), (u'really', 3250), (u'good', 3082), (u'got', 2840), (u'make', 2618), (u'shit', 2490), (u'right', 2433), (u'guy', 2376), (u'way', 2367), (u'actually', 2353), (u'want', 2286), (u'thing', 2259), (u'reddit', 2240), (u'fuck', 2215), (u'work', 2078), (u'say', 2073)]\n",
        "technology\n",
        "[(u\"n't\", 50023), (u'just', 23311), (u'people', 20972), (u'like', 20485), (u'does', 11937), (u'think', 11122), (u'http', 11095), (u'internet', 10440), (u'want', 9789), (u'time', 9603), (u'google', 9411), (u'know', 9315), (u'make', 9165), (u'really', 8840), (u'government', 8640), (u'did', 8471), (u'use', 8446), (u'good', 8195), (u'going', 7910), (u'way', 7837), (u'need', 7124), (u'money', 6897), (u'right', 6836), (u'actually', 6041), (u'say', 5776)]\n",
        "food\n",
        "[(u\"n't\", 9705), (u'like', 6676), (u'just', 6138), (u'good', 3414), (u'food', 3164), (u'http', 2852), (u'make', 2836), (u'looks', 2531), (u'people', 2470), (u'really', 2453), (u'think', 2412), (u'know', 2374), (u'did', 2342), (u'eat', 2260), (u'time', 2196), (u'does', 2065), (u'meat', 2044), (u'want', 1868), (u'way', 1793), (u'use', 1780), (u'cheese', 1715), (u'better', 1461), (u'love', 1444), (u'pretty', 1394), (u'thing', 1378)]\n",
        "combined\n",
        "[(u\"n't\", 543094), (u'just', 282251), (u'like', 276109), (u'people', 216807), (u'http', 163434), (u'think', 142631), (u'did', 135346), (u'does', 119705), (u'know', 117124), (u'time', 115803), (u'really', 115393), (u'good', 107354), (u'make', 93391), (u'way', 84360), (u'going', 79317), (u'right', 79220), (u'want', 78645), (u'say', 70651), (u'actually', 67993), (u'got', 67244), (u'thing', 66770), (u'years', 59319), (u'shit', 59087), (u'need', 58773), (u'work', 55642)]\n",
        "WTF\n",
        "[(u\"n't\", 23204), (u'like', 15474), (u'just', 13678), (u'http', 8924), (u'people', 8823), (u'did', 7555), (u'know', 5785), (u'think', 5705), (u'time', 4777), (u'really', 4710), (u'shit', 4548), (u'does', 4439), (u'got', 4309), (u'good', 4105), (u'fuck', 4089), (u'guy', 3963), (u'right', 3794), (u'way', 3743), (u'thing', 3606), (u'make', 3596), (u'going', 3562), (u'looks', 3420), (u'fucking', 3133), (u'man', 3041), (u'want', 3032)]\n",
        "worldnews\n",
        "[(u\"n't\", 47608), (u'people', 27046), (u'just', 22295), (u'like', 20122), (u'http', 13136), (u'think', 12128), (u'government', 11892), (u'does', 11542), (u'know', 9945), (u'did', 9741), (u'time', 8595), (u'really', 8586), (u'good', 8251), (u'world', 8147), (u'make', 7754), (u'going', 7506), (u'right', 7411), (u'way', 7401), (u'want', 7039), (u'country', 6736), (u'say', 6375), (u'actually', 5957), (u'thing', 5682), (u'need', 5507), (u'things', 5468)]\n",
        "soccer\n",
        "[(u\"n't\", 15664), (u'just', 7781), (u'like', 7464), (u'think', 4765), (u'did', 4437), (u'http', 4396), (u'team', 3872), (u'game', 3776), (u'good', 3510), (u'really', 3405), (u'time', 3374), (u'goal', 3313), (u'does', 3293), (u'people', 3256), (u'football', 2980), (u'know', 2870), (u'players', 2855), (u'player', 2699), (u'play', 2673), (u'ball', 2450), (u'right', 2253), (u'world', 2251), (u'best', 2239), (u'got', 2235), (u'league', 2234)]\n",
        "gaming\n",
        "[(u\"n't\", 26950), (u'game', 17731), (u'just', 15923), (u'like', 15623), (u'games', 9921), (u'people', 8777), (u'http', 8590), (u'did', 7118), (u'time', 6926), (u'really', 6409), (u'play', 6303), (u'think', 5984), (u'know', 5519), (u'does', 5498), (u'good', 5457), (u'make', 5323), (u'want', 4642), (u'got', 4507), (u'way', 4206), (u'going', 3957), (u'actually', 3894), (u'shit', 3788), (u'thing', 3672), (u'right', 3647), (u'new', 3507)]\n",
        "aww\n",
        "[(u\"n't\", 11659), (u'dog', 9055), (u'like', 8780), (u'just', 7851), (u'http', 5160), (u'cat', 4647), (u'dogs', 3566), (u'did', 3535), (u'know', 3209), (u'people', 3114), (u'think', 3114), (u'love', 2967), (u'does', 2894), (u'time', 2852), (u'really', 2699), (u'cute', 2672), (u'good', 2547), (u'looks', 2518), (u'got', 2449), (u'little', 2390), (u'want', 2180), (u'thing', 2165), (u'look', 2083), (u'cats', 2071), (u'day', 1991)]\n",
        "circlejerk\n",
        "[(u'office', 45728), (u'depot', 45258), (u\"n't\", 5975), (u'reddit', 4559), (u't\\u0f3c\\u0e88\\u0644\\u035c\\u0e88\\u0f3d\\u0781', 4249), (u'gem', 3699), (u'just', 3449), (u'like', 3404), (u'http', 3225), (u'obama', 3079), (u'did', 2710), (u'edit', 2263), (u'fuck', 2200), (u'dae', 2160), (u'know', 2095), (u'amp', 2090), (u'people', 2044), (u'bomb', 2023), (u'think', 1858), (u'fucking', 1672), (u'wooferz', 1638), (u'3232', 1612), (u'enhancement', 1606), (u'ikea', 1580), (u'comment', 1569)]\n",
        "LadyBoners\n",
        "[(u\"n't\", 2579), (u'like', 2125), (u'just', 1824), (u'http', 1047), (u'think', 942), (u'man', 844), (u'love', 768), (u'know', 759), (u'did', 717), (u'looks', 698), (u'good', 696), (u'really', 652), (u'hot', 641), (u'look', 636), (u'yes', 631), (u'guy', 603), (u'does', 594), (u'people', 541), (u'time', 508), (u'god', 496), (u'men', 462), (u'want', 434), (u'right', 427), (u'way', 427), (u'got', 409)]\n",
        "news\n",
        "[(u\"n't\", 49156), (u'people', 24907), (u'just', 21972), (u'like', 18848), (u'think', 11622), (u'does', 10903), (u'did', 10676), (u'know', 9726), (u'time', 8757), (u'http', 8700), (u'make', 8164), (u'right', 7883), (u'government', 7784), (u'really', 7713), (u'going', 7551), (u'good', 7388), (u'way', 7175), (u'want', 6845), (u'money', 6826), (u'say', 6417), (u'police', 6236), (u'need', 5732), (u'thing', 5533), (u'actually', 5328), (u'law', 5220)]\n",
        "television\n",
        "[(u\"n't\", 16337), (u'just', 9093), (u'like', 8556), (u'think', 5315), (u'season', 5045), (u'people', 4938), (u'really', 4830), (u'did', 4812), (u'good', 4138), (u'episode', 4090), (u'time', 4038), (u'watch', 3162), (u'know', 3135), (u'does', 3072), (u'http', 3019), (u'shows', 2885), (u'bad', 2822), (u'episodes', 2796), (u'way', 2573), (u'series', 2416), (u'got', 2381), (u'going', 2379), (u'great', 2313), (u'make', 2298), (u'pretty', 2277)]\n",
        "Liberal\n",
        "[(u\"n't\", 2230), (u'people', 1126), (u'just', 875), (u'like', 820), (u'think', 567), (u'right', 536), (u'does', 535), (u'did', 483), (u'government', 459), (u'really', 367), (u'know', 362), (u'want', 341), (u'party', 335), (u'http', 331), (u'make', 326), (u'time', 316), (u'state', 314), (u'gun', 289), (u'liberal', 289), (u'way', 282), (u'obama', 273), (u'good', 271), (u'say', 263), (u'money', 262), (u'said', 261)]\n",
        "science\n",
        "[(u\"n't\", 36885), (u'just', 17648), (u'like', 15642), (u'people', 14875), (u'think', 9920), (u'does', 9310), (u'know', 8501), (u'http', 8488), (u'time', 8262), (u'really', 7268), (u'did', 7128), (u'years', 6955), (u'make', 6643), (u'way', 6536), (u'good', 6046), (u'life', 5407), (u'work', 5242), (u'actually', 5149), (u'science', 5064), (u'say', 5041), (u'going', 4891), (u'need', 4849), (u'things', 4600), (u'use', 4442), (u'thing', 4391)]\n",
        "nfl\n",
        "[(u\"n't\", 20102), (u'just', 10445), (u'like', 9990), (u'game', 6825), (u'http', 6433), (u'did', 6093), (u'think', 5667), (u'team', 5577), (u'good', 4915), (u'know', 4337), (u'really', 4322), (u'time', 4114), (u'year', 4088), (u'nfl', 4056), (u'people', 3899), (u'does', 3708), (u'play', 3513), (u'fan', 3377), (u'going', 3342), (u'football', 3315), (u'got', 3309), (u'right', 3055), (u'make', 2898), (u'fans', 2823), (u'guy', 2776)]\n",
        "pics\n",
        "[(u\"n't\", 18303), (u'like', 13175), (u'just', 11278), (u'http', 8204), (u'people', 7525), (u'did', 5892), (u'know', 4993), (u'think', 4978), (u'time', 4798), (u'really', 4602), (u'good', 4330), (u'does', 3968), (u'looks', 3557), (u'make', 3499), (u'got', 3144), (u'right', 3086), (u'look', 3048), (u'way', 3011), (u'picture', 2940), (u'thing', 2940), (u'love', 2840), (u'want', 2820), (u'work', 2809), (u'awesome', 2733), (u'man', 2720)]\n",
        "movies\n",
        "[(u\"n't\", 30267), (u'movie', 18797), (u'like', 17237), (u'just', 16534), (u'http', 11283), (u'did', 9314), (u'think', 8694), (u'people', 8565), (u'really', 8307), (u'movies', 8164), (u'film', 7550), (u'time', 7358), (u'good', 7200), (u'know', 6431), (u'does', 6083), (u'make', 5576), (u'going', 4729), (u'great', 4638), (u'way', 4607), (u'actually', 4179), (u'love', 4077), (u'want', 4068), (u'watch', 3954), (u'man', 3836), (u'got', 3739)]\n"
       ]
      }
     ],
     "prompt_number": 132
    },
    {
     "cell_type": "code",
     "collapsed": false,
     "input": [
      "for k,v in all_word_freqs.iteritems():\n",
      "    print k"
     ],
     "language": "python",
     "metadata": {},
     "outputs": [
      {
       "output_type": "stream",
       "stream": "stdout",
       "text": [
        "videos\n",
        "gentlemanboners\n",
        "Conservative\n",
        "books\n",
        "Music\n",
        "politics\n",
        "nba\n",
        "pokemon\n",
        "funny\n",
        "technology\n",
        "food\n",
        "combined\n",
        "WTF\n",
        "worldnews\n",
        "soccer\n",
        "gaming\n",
        "aww\n",
        "circlejerk\n",
        "LadyBoners\n",
        "news\n",
        "television\n",
        "Liberal\n",
        "science\n",
        "nfl\n",
        "pics\n",
        "movies\n"
       ]
      }
     ],
     "prompt_number": 128
    },
    {
     "cell_type": "code",
     "collapsed": false,
     "input": [],
     "language": "python",
     "metadata": {},
     "outputs": []
    }
   ],
   "metadata": {}
  }
 ]
}