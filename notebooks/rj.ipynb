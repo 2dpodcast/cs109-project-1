{
 "metadata": {
  "name": ""
 },
 "nbformat": 3,
 "nbformat_minor": 0,
 "worksheets": [
  {
   "cells": [
    {
     "cell_type": "code",
     "collapsed": false,
     "input": [
      "%matplotlib inline\n",
      "\n",
      "import json\n",
      "\n",
      "import requests\n",
      "import pandas as pd\n",
      "import numpy as np\n",
      "import matplotlib.pyplot as plt\n",
      "from operator import itemgetter\n",
      "\n",
      "pd.set_option('display.width', 500)\n",
      "pd.set_option('display.max_columns', 30)\n",
      "\n",
      "# set some nicer defaults for matplotlib\n",
      "from matplotlib import rcParams\n",
      "\n",
      "#these colors come from colorbrewer2.org. Each is an RGB triplet\n",
      "dark2_colors = [(0.10588235294117647, 0.6196078431372549, 0.4666666666666667),\n",
      "                (0.8509803921568627, 0.37254901960784315, 0.00784313725490196),\n",
      "                (0.4588235294117647, 0.4392156862745098, 0.7019607843137254),\n",
      "                (0.9058823529411765, 0.1607843137254902, 0.5411764705882353),\n",
      "                (0.4, 0.6509803921568628, 0.11764705882352941),\n",
      "                (0.9019607843137255, 0.6705882352941176, 0.00784313725490196),\n",
      "                (0.6509803921568628, 0.4627450980392157, 0.11372549019607843),\n",
      "                (0.4, 0.4, 0.4)]\n",
      "\n",
      "rcParams['figure.figsize'] = (10, 6)\n",
      "rcParams['figure.dpi'] = 150\n",
      "rcParams['axes.color_cycle'] = dark2_colors\n",
      "rcParams['lines.linewidth'] = 2\n",
      "rcParams['axes.grid'] = False\n",
      "rcParams['axes.facecolor'] = 'white'\n",
      "rcParams['font.size'] = 14\n",
      "rcParams['patch.edgecolor'] = 'none'"
     ],
     "language": "python",
     "metadata": {},
     "outputs": [],
     "prompt_number": 20
    },
    {
     "cell_type": "code",
     "collapsed": false,
     "input": [
      "FIELDS = [\"body\", \"post_ups\", \"subreddit_id\", \"created\", \"downs\",\n",
      "          \"author\", \"post_net\", \"subreddit\", \"post_id\", \"post_downs\",\n",
      "          \"net\", \"ups\", \"id\", \"post_created\"]\n",
      "\n",
      "def load_subreddit(filename, fields=FIELDS):\n",
      "    \"\"\"\n",
      "    Loads the subreddit with the filename and returns\n",
      "    a dataframe where the column names are the fields\n",
      "    in the json object.\n",
      "    \"\"\"\n",
      "    file = open(filename, \"rb\")\n",
      "    arrays = {field:[] for field in fields}\n",
      "    for line in file.readlines():\n",
      "        data = json.loads(line)\n",
      "        for field in fields:\n",
      "            arrays[field].append(data[field])\n",
      "    df = pd.DataFrame(arrays)\n",
      "    file.close()\n",
      "    return df"
     ],
     "language": "python",
     "metadata": {},
     "outputs": [],
     "prompt_number": 2
    },
    {
     "cell_type": "code",
     "collapsed": false,
     "input": [
      "\"\"\"\n",
      "Analytic helper functions\n",
      "\"\"\"\n",
      "def comment_num_words(r):\n",
      "    return len(r['body'].split(' '))\n",
      "def comment_length(r):\n",
      "    return len(r['body'])\n",
      "def avg_word_length(r):\n",
      "    words = r['body'].split(' ')\n",
      "    lengths = [len(word) for word in words]\n",
      "    return float(sum(lengths)) / len(lengths)\n",
      "def num_letters(r):\n",
      "    return sum(1 if c.isalpha() else 0 for c in r['body'])\n",
      "def num_swear_words(r):\n",
      "    swears = \"fuck shit bitch damn dick crap fag piss pussy asshole slut cock     darn douche bastard\".split(' ')\n",
      "    return sum(1 if word in swears else 0 for word in r['body'].split())\n",
      "# for now, useless, because cleaning step removed capitalization\n",
      "def capital_letters(r):\n",
      "    return sum(1 if c.isupper() else 0 for c in r['body'])"
     ],
     "language": "python",
     "metadata": {},
     "outputs": [],
     "prompt_number": 3
    },
    {
     "cell_type": "code",
     "collapsed": false,
     "input": [
      "\"\"\"\n",
      "Reads in a datafile, creates a dataframe for it, and appends analytic data\n",
      "\"\"\"\n",
      "def analytic_dataframe(datafile, outfile=None):\n",
      "    # functions to add to dataframe\n",
      "    functions = [comment_num_words, comment_length, avg_word_length, num_letters, num_swear_words]\n",
      "    \n",
      "    # load in datafile\n",
      "    df = load_subreddit(datafile)\n",
      "    \n",
      "    # apply functions\n",
      "    for func in functions:\n",
      "        print \"Applying {}...\".format(func.__name__)\n",
      "        df[func.__name__] = df.apply(lambda x: func(x), axis=1)\n",
      "\n",
      "    # write output\n",
      "    if outfile is not None:\n",
      "        df.to_csv(outfile, sep='\\t', encoding='utf-8')\n",
      "    \n",
      "    return df"
     ],
     "language": "python",
     "metadata": {},
     "outputs": [],
     "prompt_number": 10
    },
    {
     "cell_type": "code",
     "collapsed": false,
     "input": [
      "liberal = analytic_dataframe(\"../data/Liberal\")"
     ],
     "language": "python",
     "metadata": {},
     "outputs": [
      {
       "output_type": "stream",
       "stream": "stdout",
       "text": [
        "Applying comment_num_words...\n",
        "Applying comment_length..."
       ]
      },
      {
       "output_type": "stream",
       "stream": "stdout",
       "text": [
        "\n",
        "Applying avg_word_length..."
       ]
      },
      {
       "output_type": "stream",
       "stream": "stdout",
       "text": [
        "\n",
        "Applying num_letters..."
       ]
      },
      {
       "output_type": "stream",
       "stream": "stdout",
       "text": [
        "\n",
        "Applying num_swear_words..."
       ]
      },
      {
       "output_type": "stream",
       "stream": "stdout",
       "text": [
        "\n"
       ]
      }
     ],
     "prompt_number": 11
    },
    {
     "cell_type": "code",
     "collapsed": false,
     "input": [
      "# load in all files, generating csv files\n",
      "subreddits = [\"Conservative\",\"LadyBoners\",\"Liberal\",\"Music\",\"WTF\",\"aww\",\"books\",\"circlejerk\",\"food\",\"funny\",\"gaming\",\"gentlemanboners\",\"movies\",\"nba\",\"news\",\"nfl\",\"pics\",\"pokemon\",\"politics\",\"science\",\"soccer\",\"technology\",\"television\",\"videos\",\"worldnews\"]\n",
      "dfs = {}\n",
      "for subreddit in subreddits:\n",
      "    print \"Making {}...\".format(subreddit)\n",
      "    path = \"../data/\" + subreddit\n",
      "    outfile = path + \".csv\"\n",
      "    df = analytic_dataframe(path, outfile)\n",
      "    dfs[subreddit] = df"
     ],
     "language": "python",
     "metadata": {},
     "outputs": [
      {
       "output_type": "stream",
       "stream": "stdout",
       "text": [
        "Making Conservative...\n",
        "Applying comment_num_words..."
       ]
      },
      {
       "output_type": "stream",
       "stream": "stdout",
       "text": [
        "\n",
        "Applying comment_length..."
       ]
      },
      {
       "output_type": "stream",
       "stream": "stdout",
       "text": [
        "\n",
        "Applying avg_word_length..."
       ]
      },
      {
       "output_type": "stream",
       "stream": "stdout",
       "text": [
        "\n",
        "Applying num_letters..."
       ]
      },
      {
       "output_type": "stream",
       "stream": "stdout",
       "text": [
        "\n",
        "Applying num_swear_words..."
       ]
      },
      {
       "output_type": "stream",
       "stream": "stdout",
       "text": [
        "\n",
        "Making LadyBoners..."
       ]
      },
      {
       "output_type": "stream",
       "stream": "stdout",
       "text": [
        "\n",
        "Applying comment_num_words..."
       ]
      },
      {
       "output_type": "stream",
       "stream": "stdout",
       "text": [
        "\n",
        "Applying comment_length..."
       ]
      },
      {
       "output_type": "stream",
       "stream": "stdout",
       "text": [
        "\n",
        "Applying avg_word_length..."
       ]
      },
      {
       "output_type": "stream",
       "stream": "stdout",
       "text": [
        "\n",
        "Applying num_letters..."
       ]
      },
      {
       "output_type": "stream",
       "stream": "stdout",
       "text": [
        "\n",
        "Applying num_swear_words..."
       ]
      },
      {
       "output_type": "stream",
       "stream": "stdout",
       "text": [
        "\n",
        "Making Liberal..."
       ]
      },
      {
       "output_type": "stream",
       "stream": "stdout",
       "text": [
        "\n",
        "Applying comment_num_words..."
       ]
      },
      {
       "output_type": "stream",
       "stream": "stdout",
       "text": [
        "\n",
        "Applying comment_length..."
       ]
      },
      {
       "output_type": "stream",
       "stream": "stdout",
       "text": [
        "\n",
        "Applying avg_word_length..."
       ]
      },
      {
       "output_type": "stream",
       "stream": "stdout",
       "text": [
        "\n",
        "Applying num_letters..."
       ]
      },
      {
       "output_type": "stream",
       "stream": "stdout",
       "text": [
        "\n",
        "Applying num_swear_words..."
       ]
      },
      {
       "output_type": "stream",
       "stream": "stdout",
       "text": [
        "\n",
        "Making Music..."
       ]
      },
      {
       "output_type": "stream",
       "stream": "stdout",
       "text": [
        "\n",
        "Applying comment_num_words..."
       ]
      },
      {
       "output_type": "stream",
       "stream": "stdout",
       "text": [
        "\n",
        "Applying comment_length..."
       ]
      },
      {
       "output_type": "stream",
       "stream": "stdout",
       "text": [
        "\n",
        "Applying avg_word_length..."
       ]
      },
      {
       "output_type": "stream",
       "stream": "stdout",
       "text": [
        "\n",
        "Applying num_letters..."
       ]
      },
      {
       "output_type": "stream",
       "stream": "stdout",
       "text": [
        "\n",
        "Applying num_swear_words..."
       ]
      },
      {
       "output_type": "stream",
       "stream": "stdout",
       "text": [
        "\n",
        "Making WTF..."
       ]
      },
      {
       "output_type": "stream",
       "stream": "stdout",
       "text": [
        "\n",
        "Applying comment_num_words..."
       ]
      },
      {
       "output_type": "stream",
       "stream": "stdout",
       "text": [
        "\n",
        "Applying comment_length..."
       ]
      },
      {
       "output_type": "stream",
       "stream": "stdout",
       "text": [
        "\n",
        "Applying avg_word_length..."
       ]
      },
      {
       "output_type": "stream",
       "stream": "stdout",
       "text": [
        "\n",
        "Applying num_letters..."
       ]
      },
      {
       "output_type": "stream",
       "stream": "stdout",
       "text": [
        "\n",
        "Applying num_swear_words..."
       ]
      },
      {
       "output_type": "stream",
       "stream": "stdout",
       "text": [
        "\n",
        "Making aww..."
       ]
      },
      {
       "output_type": "stream",
       "stream": "stdout",
       "text": [
        "\n",
        "Applying comment_num_words..."
       ]
      },
      {
       "output_type": "stream",
       "stream": "stdout",
       "text": [
        "\n",
        "Applying comment_length..."
       ]
      },
      {
       "output_type": "stream",
       "stream": "stdout",
       "text": [
        "\n",
        "Applying avg_word_length..."
       ]
      },
      {
       "output_type": "stream",
       "stream": "stdout",
       "text": [
        "\n",
        "Applying num_letters..."
       ]
      },
      {
       "output_type": "stream",
       "stream": "stdout",
       "text": [
        "\n",
        "Applying num_swear_words..."
       ]
      },
      {
       "output_type": "stream",
       "stream": "stdout",
       "text": [
        "\n",
        "Making books..."
       ]
      },
      {
       "output_type": "stream",
       "stream": "stdout",
       "text": [
        "\n",
        "Applying comment_num_words..."
       ]
      },
      {
       "output_type": "stream",
       "stream": "stdout",
       "text": [
        "\n",
        "Applying comment_length..."
       ]
      },
      {
       "output_type": "stream",
       "stream": "stdout",
       "text": [
        "\n",
        "Applying avg_word_length..."
       ]
      },
      {
       "output_type": "stream",
       "stream": "stdout",
       "text": [
        "\n",
        "Applying num_letters..."
       ]
      },
      {
       "output_type": "stream",
       "stream": "stdout",
       "text": [
        "\n",
        "Applying num_swear_words..."
       ]
      },
      {
       "output_type": "stream",
       "stream": "stdout",
       "text": [
        "\n",
        "Making circlejerk..."
       ]
      },
      {
       "output_type": "stream",
       "stream": "stdout",
       "text": [
        "\n",
        "Applying comment_num_words..."
       ]
      },
      {
       "output_type": "stream",
       "stream": "stdout",
       "text": [
        "\n",
        "Applying comment_length..."
       ]
      },
      {
       "output_type": "stream",
       "stream": "stdout",
       "text": [
        "\n",
        "Applying avg_word_length..."
       ]
      },
      {
       "output_type": "stream",
       "stream": "stdout",
       "text": [
        "\n",
        "Applying num_letters..."
       ]
      },
      {
       "output_type": "stream",
       "stream": "stdout",
       "text": [
        "\n",
        "Applying num_swear_words..."
       ]
      },
      {
       "output_type": "stream",
       "stream": "stdout",
       "text": [
        "\n",
        "Making food..."
       ]
      },
      {
       "output_type": "stream",
       "stream": "stdout",
       "text": [
        "\n",
        "Applying comment_num_words..."
       ]
      },
      {
       "output_type": "stream",
       "stream": "stdout",
       "text": [
        "\n",
        "Applying comment_length..."
       ]
      },
      {
       "output_type": "stream",
       "stream": "stdout",
       "text": [
        "\n",
        "Applying avg_word_length..."
       ]
      },
      {
       "output_type": "stream",
       "stream": "stdout",
       "text": [
        "\n",
        "Applying num_letters..."
       ]
      },
      {
       "output_type": "stream",
       "stream": "stdout",
       "text": [
        "\n",
        "Applying num_swear_words..."
       ]
      },
      {
       "output_type": "stream",
       "stream": "stdout",
       "text": [
        "\n",
        "Making funny..."
       ]
      },
      {
       "output_type": "stream",
       "stream": "stdout",
       "text": [
        "\n",
        "Applying comment_num_words..."
       ]
      },
      {
       "output_type": "stream",
       "stream": "stdout",
       "text": [
        "\n",
        "Applying comment_length..."
       ]
      },
      {
       "output_type": "stream",
       "stream": "stdout",
       "text": [
        "\n",
        "Applying avg_word_length..."
       ]
      },
      {
       "output_type": "stream",
       "stream": "stdout",
       "text": [
        "\n",
        "Applying num_letters..."
       ]
      },
      {
       "output_type": "stream",
       "stream": "stdout",
       "text": [
        "\n",
        "Applying num_swear_words..."
       ]
      },
      {
       "output_type": "stream",
       "stream": "stdout",
       "text": [
        "\n",
        "Making gaming..."
       ]
      },
      {
       "output_type": "stream",
       "stream": "stdout",
       "text": [
        "\n",
        "Applying comment_num_words..."
       ]
      },
      {
       "output_type": "stream",
       "stream": "stdout",
       "text": [
        "\n",
        "Applying comment_length..."
       ]
      },
      {
       "output_type": "stream",
       "stream": "stdout",
       "text": [
        "\n",
        "Applying avg_word_length..."
       ]
      },
      {
       "output_type": "stream",
       "stream": "stdout",
       "text": [
        "\n",
        "Applying num_letters..."
       ]
      },
      {
       "output_type": "stream",
       "stream": "stdout",
       "text": [
        "\n",
        "Applying num_swear_words..."
       ]
      },
      {
       "output_type": "stream",
       "stream": "stdout",
       "text": [
        "\n",
        "Making gentlemanboners..."
       ]
      },
      {
       "output_type": "stream",
       "stream": "stdout",
       "text": [
        "\n",
        "Applying comment_num_words..."
       ]
      },
      {
       "output_type": "stream",
       "stream": "stdout",
       "text": [
        "\n",
        "Applying comment_length..."
       ]
      },
      {
       "output_type": "stream",
       "stream": "stdout",
       "text": [
        "\n",
        "Applying avg_word_length..."
       ]
      },
      {
       "output_type": "stream",
       "stream": "stdout",
       "text": [
        "\n",
        "Applying num_letters..."
       ]
      },
      {
       "output_type": "stream",
       "stream": "stdout",
       "text": [
        "\n",
        "Applying num_swear_words..."
       ]
      },
      {
       "output_type": "stream",
       "stream": "stdout",
       "text": [
        "\n",
        "Making movies..."
       ]
      },
      {
       "output_type": "stream",
       "stream": "stdout",
       "text": [
        "\n",
        "Applying comment_num_words..."
       ]
      },
      {
       "output_type": "stream",
       "stream": "stdout",
       "text": [
        "\n",
        "Applying comment_length..."
       ]
      },
      {
       "output_type": "stream",
       "stream": "stdout",
       "text": [
        "\n",
        "Applying avg_word_length..."
       ]
      },
      {
       "output_type": "stream",
       "stream": "stdout",
       "text": [
        "\n",
        "Applying num_letters..."
       ]
      },
      {
       "output_type": "stream",
       "stream": "stdout",
       "text": [
        "\n",
        "Applying num_swear_words..."
       ]
      },
      {
       "output_type": "stream",
       "stream": "stdout",
       "text": [
        "\n",
        "Making nba..."
       ]
      },
      {
       "output_type": "stream",
       "stream": "stdout",
       "text": [
        "\n",
        "Applying comment_num_words..."
       ]
      },
      {
       "output_type": "stream",
       "stream": "stdout",
       "text": [
        "\n",
        "Applying comment_length..."
       ]
      },
      {
       "output_type": "stream",
       "stream": "stdout",
       "text": [
        "\n",
        "Applying avg_word_length..."
       ]
      },
      {
       "output_type": "stream",
       "stream": "stdout",
       "text": [
        "\n",
        "Applying num_letters..."
       ]
      },
      {
       "output_type": "stream",
       "stream": "stdout",
       "text": [
        "\n",
        "Applying num_swear_words..."
       ]
      },
      {
       "output_type": "stream",
       "stream": "stdout",
       "text": [
        "\n",
        "Making news..."
       ]
      },
      {
       "output_type": "stream",
       "stream": "stdout",
       "text": [
        "\n",
        "Applying comment_num_words..."
       ]
      },
      {
       "output_type": "stream",
       "stream": "stdout",
       "text": [
        "\n",
        "Applying comment_length..."
       ]
      },
      {
       "output_type": "stream",
       "stream": "stdout",
       "text": [
        "\n",
        "Applying avg_word_length..."
       ]
      },
      {
       "output_type": "stream",
       "stream": "stdout",
       "text": [
        "\n",
        "Applying num_letters..."
       ]
      },
      {
       "output_type": "stream",
       "stream": "stdout",
       "text": [
        "\n",
        "Applying num_swear_words..."
       ]
      },
      {
       "output_type": "stream",
       "stream": "stdout",
       "text": [
        "\n",
        "Making nfl..."
       ]
      },
      {
       "output_type": "stream",
       "stream": "stdout",
       "text": [
        "\n",
        "Applying comment_num_words..."
       ]
      },
      {
       "output_type": "stream",
       "stream": "stdout",
       "text": [
        "\n",
        "Applying comment_length..."
       ]
      },
      {
       "output_type": "stream",
       "stream": "stdout",
       "text": [
        "\n",
        "Applying avg_word_length..."
       ]
      },
      {
       "output_type": "stream",
       "stream": "stdout",
       "text": [
        "\n",
        "Applying num_letters..."
       ]
      },
      {
       "output_type": "stream",
       "stream": "stdout",
       "text": [
        "\n",
        "Applying num_swear_words..."
       ]
      },
      {
       "output_type": "stream",
       "stream": "stdout",
       "text": [
        "\n",
        "Making pics..."
       ]
      },
      {
       "output_type": "stream",
       "stream": "stdout",
       "text": [
        "\n",
        "Applying comment_num_words..."
       ]
      },
      {
       "output_type": "stream",
       "stream": "stdout",
       "text": [
        "\n",
        "Applying comment_length..."
       ]
      },
      {
       "output_type": "stream",
       "stream": "stdout",
       "text": [
        "\n",
        "Applying avg_word_length..."
       ]
      },
      {
       "output_type": "stream",
       "stream": "stdout",
       "text": [
        "\n",
        "Applying num_letters..."
       ]
      },
      {
       "output_type": "stream",
       "stream": "stdout",
       "text": [
        "\n",
        "Applying num_swear_words..."
       ]
      },
      {
       "output_type": "stream",
       "stream": "stdout",
       "text": [
        "\n",
        "Making pokemon..."
       ]
      },
      {
       "output_type": "stream",
       "stream": "stdout",
       "text": [
        "\n",
        "Applying comment_num_words..."
       ]
      },
      {
       "output_type": "stream",
       "stream": "stdout",
       "text": [
        "\n",
        "Applying comment_length..."
       ]
      },
      {
       "output_type": "stream",
       "stream": "stdout",
       "text": [
        "\n",
        "Applying avg_word_length..."
       ]
      },
      {
       "output_type": "stream",
       "stream": "stdout",
       "text": [
        "\n",
        "Applying num_letters..."
       ]
      },
      {
       "output_type": "stream",
       "stream": "stdout",
       "text": [
        "\n",
        "Applying num_swear_words..."
       ]
      },
      {
       "output_type": "stream",
       "stream": "stdout",
       "text": [
        "\n",
        "Making politics..."
       ]
      },
      {
       "output_type": "stream",
       "stream": "stdout",
       "text": [
        "\n",
        "Applying comment_num_words..."
       ]
      },
      {
       "output_type": "stream",
       "stream": "stdout",
       "text": [
        "\n",
        "Applying comment_length..."
       ]
      },
      {
       "output_type": "stream",
       "stream": "stdout",
       "text": [
        "\n",
        "Applying avg_word_length..."
       ]
      },
      {
       "output_type": "stream",
       "stream": "stdout",
       "text": [
        "\n",
        "Applying num_letters..."
       ]
      },
      {
       "output_type": "stream",
       "stream": "stdout",
       "text": [
        "\n",
        "Applying num_swear_words..."
       ]
      },
      {
       "output_type": "stream",
       "stream": "stdout",
       "text": [
        "\n",
        "Making science..."
       ]
      },
      {
       "output_type": "stream",
       "stream": "stdout",
       "text": [
        "\n",
        "Applying comment_num_words..."
       ]
      },
      {
       "output_type": "stream",
       "stream": "stdout",
       "text": [
        "\n",
        "Applying comment_length..."
       ]
      },
      {
       "output_type": "stream",
       "stream": "stdout",
       "text": [
        "\n",
        "Applying avg_word_length..."
       ]
      },
      {
       "output_type": "stream",
       "stream": "stdout",
       "text": [
        "\n",
        "Applying num_letters..."
       ]
      },
      {
       "output_type": "stream",
       "stream": "stdout",
       "text": [
        "\n",
        "Applying num_swear_words..."
       ]
      },
      {
       "output_type": "stream",
       "stream": "stdout",
       "text": [
        "\n",
        "Making soccer..."
       ]
      },
      {
       "output_type": "stream",
       "stream": "stdout",
       "text": [
        "\n",
        "Applying comment_num_words..."
       ]
      },
      {
       "output_type": "stream",
       "stream": "stdout",
       "text": [
        "\n",
        "Applying comment_length..."
       ]
      },
      {
       "output_type": "stream",
       "stream": "stdout",
       "text": [
        "\n",
        "Applying avg_word_length..."
       ]
      },
      {
       "output_type": "stream",
       "stream": "stdout",
       "text": [
        "\n",
        "Applying num_letters..."
       ]
      },
      {
       "output_type": "stream",
       "stream": "stdout",
       "text": [
        "\n",
        "Applying num_swear_words..."
       ]
      },
      {
       "output_type": "stream",
       "stream": "stdout",
       "text": [
        "\n",
        "Making technology..."
       ]
      },
      {
       "output_type": "stream",
       "stream": "stdout",
       "text": [
        "\n",
        "Applying comment_num_words..."
       ]
      },
      {
       "output_type": "stream",
       "stream": "stdout",
       "text": [
        "\n",
        "Applying comment_length..."
       ]
      },
      {
       "output_type": "stream",
       "stream": "stdout",
       "text": [
        "\n",
        "Applying avg_word_length..."
       ]
      },
      {
       "output_type": "stream",
       "stream": "stdout",
       "text": [
        "\n",
        "Applying num_letters..."
       ]
      },
      {
       "output_type": "stream",
       "stream": "stdout",
       "text": [
        "\n",
        "Applying num_swear_words..."
       ]
      },
      {
       "output_type": "stream",
       "stream": "stdout",
       "text": [
        "\n",
        "Making television..."
       ]
      },
      {
       "output_type": "stream",
       "stream": "stdout",
       "text": [
        "\n",
        "Applying comment_num_words..."
       ]
      },
      {
       "output_type": "stream",
       "stream": "stdout",
       "text": [
        "\n",
        "Applying comment_length..."
       ]
      },
      {
       "output_type": "stream",
       "stream": "stdout",
       "text": [
        "\n",
        "Applying avg_word_length..."
       ]
      },
      {
       "output_type": "stream",
       "stream": "stdout",
       "text": [
        "\n",
        "Applying num_letters..."
       ]
      },
      {
       "output_type": "stream",
       "stream": "stdout",
       "text": [
        "\n",
        "Applying num_swear_words..."
       ]
      },
      {
       "output_type": "stream",
       "stream": "stdout",
       "text": [
        "\n",
        "Making videos..."
       ]
      },
      {
       "output_type": "stream",
       "stream": "stdout",
       "text": [
        "\n",
        "Applying comment_num_words..."
       ]
      },
      {
       "output_type": "stream",
       "stream": "stdout",
       "text": [
        "\n",
        "Applying comment_length..."
       ]
      },
      {
       "output_type": "stream",
       "stream": "stdout",
       "text": [
        "\n",
        "Applying avg_word_length..."
       ]
      },
      {
       "output_type": "stream",
       "stream": "stdout",
       "text": [
        "\n",
        "Applying num_letters..."
       ]
      },
      {
       "output_type": "stream",
       "stream": "stdout",
       "text": [
        "\n",
        "Applying num_swear_words..."
       ]
      },
      {
       "output_type": "stream",
       "stream": "stdout",
       "text": [
        "\n",
        "Making worldnews..."
       ]
      },
      {
       "output_type": "stream",
       "stream": "stdout",
       "text": [
        "\n",
        "Applying comment_num_words..."
       ]
      },
      {
       "output_type": "stream",
       "stream": "stdout",
       "text": [
        "\n",
        "Applying comment_length..."
       ]
      },
      {
       "output_type": "stream",
       "stream": "stdout",
       "text": [
        "\n",
        "Applying avg_word_length..."
       ]
      },
      {
       "output_type": "stream",
       "stream": "stdout",
       "text": [
        "\n",
        "Applying num_letters..."
       ]
      },
      {
       "output_type": "stream",
       "stream": "stdout",
       "text": [
        "\n",
        "Applying num_swear_words..."
       ]
      },
      {
       "output_type": "stream",
       "stream": "stdout",
       "text": [
        "\n"
       ]
      }
     ],
     "prompt_number": 13
    },
    {
     "cell_type": "code",
     "collapsed": false,
     "input": [
      "functions = [comment_num_words, comment_length, avg_word_length, num_letters, num_swear_words]\n",
      "for func in functions:\n",
      "    print \"average {}:\".format(func.__name__)\n",
      "    vals = [(sub, dfs[sub][func.__name__].mean()) for sub in dfs]\n",
      "    vals.sort(key=itemgetter(1))\n",
      "    for t in vals:\n",
      "        print \"\\t{}: {}\".format(t[0], t[1])\n",
      "    print \"max {}:\".format(func.__name__)\n",
      "    vals = [(sub, dfs[sub][func.__name__].max()) for sub in dfs]\n",
      "    vals.sort(key=itemgetter(1))\n",
      "    for t in vals:\n",
      "        print \"\\t{}: {}\".format(t[0], t[1])"
     ],
     "language": "python",
     "metadata": {},
     "outputs": [
      {
       "output_type": "stream",
       "stream": "stdout",
       "text": [
        "average comment_num_words:\n",
        "\tgentlemanboners: 16.4443109193"
       ]
      },
      {
       "output_type": "stream",
       "stream": "stdout",
       "text": [
        "\n",
        "\tLadyBoners: 17.5507905687\n",
        "\tpokemon: 20.1236418218\n",
        "\taww: 20.7965528207\n",
        "\tfunny: 21.003407777\n",
        "\tnba: 21.8139923884\n",
        "\tpics: 22.1623727588\n",
        "\tWTF: 23.2222247467\n",
        "\tnfl: 23.9357143604\n",
        "\tvideos: 25.2888898667\n",
        "\tsoccer: 25.8036449495\n",
        "\tfood: 26.5036144578\n",
        "\tgaming: 27.3934073081\n",
        "\tcirclejerk: 29.1161482763\n",
        "\tmovies: 29.5827977815\n",
        "\tMusic: 29.9687551812\n",
        "\ttelevision: 36.811878453\n",
        "\tbooks: 39.3604831937\n",
        "\tworldnews: 40.4836366105\n",
        "\ttechnology: 42.052877833\n",
        "\tnews: 44.4139161742\n",
        "\tpolitics: 46.1098356618\n",
        "\tscience: 47.2362410054\n",
        "\tConservative: 47.5509398264\n",
        "\tLiberal: 51.6627143765\n",
        "max comment_num_words:\n",
        "\tLadyBoners: 406\n",
        "\tpokemon: 1093\n",
        "\tfood: 1187\n",
        "\tfunny: 1298\n",
        "\taww: 1339\n",
        "\tsoccer: 1397\n",
        "\tConservative: 1678\n",
        "\ttelevision: 1710\n",
        "\tLiberal: 1727\n",
        "\tnba: 1843\n",
        "\tgentlemanboners: 1902\n",
        "\tvideos: 1925\n",
        "\tpics: 1932\n",
        "\tmovies: 1995\n",
        "\tworldnews: 2033\n",
        "\tMusic: 2071\n",
        "\tscience: 2092\n",
        "\tWTF: 2209\n",
        "\tgaming: 2405\n",
        "\tbooks: 2479\n",
        "\tpolitics: 2565\n",
        "\tnews: 2678\n",
        "\ttechnology: 3008\n",
        "\tnfl: 6939\n",
        "\tcirclejerk: 9936\n",
        "average comment_length:\n",
        "\tgentlemanboners: 77.3310755449"
       ]
      },
      {
       "output_type": "stream",
       "stream": "stdout",
       "text": [
        "\n",
        "\tLadyBoners: 80.1044660194\n",
        "\tpokemon: 94.4015054775\n",
        "\taww: 96.1292247027\n",
        "\tfunny: 98.9563784255\n",
        "\tnba: 103.253176601\n",
        "\tpics: 105.158497735\n",
        "\tWTF: 110.732244286\n",
        "\tnfl: 113.217545952\n",
        "\tvideos: 121.36102616\n",
        "\tsoccer: 124.036095329\n",
        "\tfood: 125.247163011\n",
        "\tgaming: 130.741868878\n",
        "\tcirclejerk: 140.364497473\n",
        "\tmovies: 142.51708297\n",
        "\tMusic: 143.110223165\n",
        "\ttelevision: 177.6515588\n",
        "\tbooks: 190.157681242\n",
        "\tworldnews: 205.021102662\n",
        "\ttechnology: 210.158725658\n",
        "\tnews: 222.317817869\n",
        "\tpolitics: 232.54633494\n",
        "\tscience: 239.370468404\n",
        "\tConservative: 241.495619627\n",
        "\tLiberal: 261.637518526\n",
        "max comment_length:\n",
        "\tLadyBoners: 1908\n",
        "\tpokemon: 5176\n",
        "\tfood: 6042\n",
        "\taww: 6085\n",
        "\tsoccer: 6916\n",
        "\tnfl: 6941\n",
        "\tfunny: 7244\n",
        "\tWTF: 8200\n",
        "\tConservative: 8337\n",
        "\ttelevision: 8723\n",
        "\tnba: 9016\n",
        "\tLiberal: 9099\n",
        "\tbooks: 9360\n",
        "\tgentlemanboners: 9699\n",
        "\tpics: 9810\n",
        "\tMusic: 9950\n",
        "\tvideos: 10007\n",
        "\tmovies: 10448\n",
        "\tscience: 11189\n",
        "\tworldnews: 11676\n",
        "\tgaming: 13543\n",
        "\tnews: 14524\n",
        "\ttechnology: 14756\n",
        "\tpolitics: 14801\n",
        "\tcirclejerk: 38745\n",
        "average avg_word_length:\n",
        "\tLadyBoners: 3.62764398684"
       ]
      },
      {
       "output_type": "stream",
       "stream": "stdout",
       "text": [
        "\n",
        "\taww: 3.74712227217\n",
        "\tfood: 3.77940200749\n",
        "\tbooks: 3.8163020984\n",
        "\ttelevision: 3.82788785242\n",
        "\tpokemon: 3.82921891544\n",
        "\tgaming: 3.8330594362\n",
        "\tgentlemanboners: 3.83523822027\n",
        "\tpics: 3.83552294331\n",
        "\tMusic: 3.83714435379\n",
        "\tnfl: 3.84438801062\n",
        "\tfunny: 3.84502708052\n",
        "\tWTF: 3.86430378977\n",
        "\tnba: 3.87818835033\n",
        "\tsoccer: 3.88321394026\n",
        "\tvideos: 3.94274767362\n",
        "\tnews: 3.99795171397\n",
        "\tmovies: 4.01103903633\n",
        "\ttechnology: 4.01798007122\n",
        "\tpolitics: 4.02122397843\n",
        "\tscience: 4.03770251314\n",
        "\tworldnews: 4.03983611254\n",
        "\tConservative: 4.07076297128\n",
        "\tLiberal: 4.12466348613\n",
        "\tcirclejerk: 4.90003796575\n",
        "max avg_word_length:\n",
        "\tLadyBoners: 40.25\n",
        "\tfood: 43.0\n",
        "\tConservative: 47.0\n",
        "\tgentlemanboners: 48.0\n",
        "\ttelevision: 48.0\n",
        "\tbooks: 53.625\n",
        "\tpolitics: 87.0\n",
        "\tnews: 94.5\n",
        "\tsoccer: 108.0\n",
        "\tscience: 157.75\n",
        "\tgaming: 192.0\n",
        "\tpokemon: 237.0\n",
        "\tnfl: 330.0\n",
        "\tworldnews: 345.2\n",
        "\tWTF: 376.0\n",
        "\tpics: 413.0\n",
        "\tLiberal: 429.0\n",
        "\tnba: 571.0\n",
        "\tfunny: 712.0\n",
        "\taww: 1232.0\n",
        "\tMusic: 1602.0\n",
        "\ttechnology: 2021.0\n",
        "\tcirclejerk: 9728.0\n",
        "\tvideos: 10000.0\n",
        "\tmovies: 10000.0\n",
        "average num_letters:\n",
        "\tgentlemanboners: 60.2748129131"
       ]
      },
      {
       "output_type": "stream",
       "stream": "stdout",
       "text": [
        "\n",
        "\tLadyBoners: 62.1127323162\n",
        "\tpokemon: 73.6169993503\n",
        "\taww: 74.9340075049\n",
        "\tfunny: 77.208919045\n",
        "\tnba: 80.5276379596\n",
        "\tpics: 82.1947346743\n",
        "\tWTF: 86.7862043895\n",
        "\tnfl: 88.2544958102\n",
        "\tvideos: 94.9146260075\n",
        "\tsoccer: 97.338803217\n",
        "\tfood: 98.0845227062\n",
        "\tgaming: 102.227313742\n",
        "\tcirclejerk: 104.565758914\n",
        "\tmovies: 111.64063738\n",
        "\tMusic: 111.988203402\n",
        "\ttelevision: 139.685201263\n",
        "\tbooks: 149.451493004\n",
        "\tworldnews: 162.670491581\n",
        "\ttechnology: 165.901475248\n",
        "\tnews: 175.981325089\n",
        "\tpolitics: 184.415321814\n",
        "\tscience: 189.94059173\n",
        "\tConservative: 191.704355694\n",
        "\tLiberal: 207.942621215\n",
        "max num_letters:\n",
        "\tLadyBoners: 1492\n",
        "\tpokemon: 4061\n",
        "\taww: 4732\n",
        "\tfood: 4809\n",
        "\tnfl: 5336\n",
        "\tsoccer: 5446\n",
        "\tWTF: 6317\n",
        "\tConservative: 6626\n",
        "\ttelevision: 6763\n",
        "\tnba: 7156\n",
        "\tfunny: 7200\n",
        "\tLiberal: 7350\n",
        "\tbooks: 7416\n",
        "\tgentlemanboners: 7691\n",
        "\tpics: 7783\n",
        "\tMusic: 7820\n",
        "\tworldnews: 8698\n",
        "\tscience: 9013\n",
        "\tvideos: 10000\n",
        "\tmovies: 10000\n",
        "\tpolitics: 10671\n",
        "\tgaming: 10707\n",
        "\ttechnology: 11020\n",
        "\tnews: 11479\n",
        "\tcirclejerk: 32440\n",
        "average num_swear_words:\n",
        "\tgentlemanboners: 0.0455563445677"
       ]
      },
      {
       "output_type": "stream",
       "stream": "stdout",
       "text": [
        "\n",
        "\tConservative: 0.0464771932711\n",
        "\tbooks: 0.0527688926216\n",
        "\tscience: 0.0528890457424\n",
        "\tpokemon: 0.0531845778166\n",
        "\taww: 0.0572282643261\n",
        "\tLadyBoners: 0.0587517337032\n",
        "\tfood: 0.0601585830501\n",
        "\tsoccer: 0.0613591086844\n",
        "\tpics: 0.066320912522\n",
        "\tmovies: 0.0698364932893\n",
        "\ttelevision: 0.0704617205998\n",
        "\tnba: 0.0745657111288\n",
        "\tfunny: 0.0759244609424\n",
        "\tnfl: 0.0775507642093\n",
        "\tLiberal: 0.0785517679441\n",
        "\tgaming: 0.0815998049018\n",
        "\tvideos: 0.0822277470976\n",
        "\tworldnews: 0.0864272134709\n",
        "\ttechnology: 0.0888268196029\n",
        "\tpolitics: 0.0922264841468\n",
        "\tnews: 0.0931240950182\n",
        "\tWTF: 0.093341512549\n",
        "\tMusic: 0.095417316046\n",
        "\tcirclejerk: 0.107882872626\n",
        "max num_swear_words:\n",
        "\tLadyBoners: 4\n",
        "\tLiberal: 5\n",
        "\tsoccer: 6\n",
        "\tConservative: 7\n",
        "\tpokemon: 7\n",
        "\tgentlemanboners: 8\n",
        "\tnba: 8\n",
        "\tbooks: 9\n",
        "\tnews: 9\n",
        "\tscience: 9\n",
        "\tWTF: 10\n",
        "\tgaming: 10\n",
        "\taww: 10\n",
        "\ttelevision: 11\n",
        "\tMusic: 12\n",
        "\tfood: 12\n",
        "\tmovies: 13\n",
        "\tpics: 14\n",
        "\tworldnews: 15\n",
        "\tfunny: 17\n",
        "\tpolitics: 21\n",
        "\tvideos: 24\n",
        "\tnfl: 65\n",
        "\ttechnology: 72\n",
        "\tcirclejerk: 236\n"
       ]
      }
     ],
     "prompt_number": 25
    },
    {
     "cell_type": "code",
     "collapsed": false,
     "input": [
      "all_df = pd.concat(dfs.values())\n",
      "all_df.to_csv(\"../data/all.csv\", sep='\\t', encoding='utf-8')\n"
     ],
     "language": "python",
     "metadata": {},
     "outputs": [
      {
       "ename": "UnicodeEncodeError",
       "evalue": "'ascii' codec can't encode character u'\\ufeff' in position 81: ordinal not in range(128)",
       "output_type": "pyerr",
       "traceback": [
        "\u001b[0;31m---------------------------------------------------------------------------\u001b[0m\n\u001b[0;31mUnicodeEncodeError\u001b[0m                        Traceback (most recent call last)",
        "\u001b[0;32m<ipython-input-14-023477426d9d>\u001b[0m in \u001b[0;36m<module>\u001b[0;34m()\u001b[0m\n\u001b[1;32m      1\u001b[0m \u001b[0mall_df\u001b[0m \u001b[0;34m=\u001b[0m \u001b[0mpd\u001b[0m\u001b[0;34m.\u001b[0m\u001b[0mconcat\u001b[0m\u001b[0;34m(\u001b[0m\u001b[0mdfs\u001b[0m\u001b[0;34m.\u001b[0m\u001b[0mvalues\u001b[0m\u001b[0;34m(\u001b[0m\u001b[0;34m)\u001b[0m\u001b[0;34m)\u001b[0m\u001b[0;34m\u001b[0m\u001b[0m\n\u001b[0;32m----> 2\u001b[0;31m \u001b[0mall_df\u001b[0m\u001b[0;34m.\u001b[0m\u001b[0mto_csv\u001b[0m\u001b[0;34m(\u001b[0m\u001b[0;34m\"../data/all.csv\"\u001b[0m\u001b[0;34m)\u001b[0m\u001b[0;34m\u001b[0m\u001b[0m\n\u001b[0m",
        "\u001b[0;32m/Users/rjaquino/anaconda/lib/python2.7/site-packages/pandas/core/frame.pyc\u001b[0m in \u001b[0;36mto_csv\u001b[0;34m(self, path_or_buf, sep, na_rep, float_format, cols, header, index, index_label, mode, nanRep, encoding, quoting, line_terminator, chunksize, **kwds)\u001b[0m\n\u001b[1;32m   1391\u001b[0m                                          \u001b[0mindex_label\u001b[0m\u001b[0;34m=\u001b[0m\u001b[0mindex_label\u001b[0m\u001b[0;34m,\u001b[0m\u001b[0mmode\u001b[0m\u001b[0;34m=\u001b[0m\u001b[0mmode\u001b[0m\u001b[0;34m,\u001b[0m\u001b[0;34m\u001b[0m\u001b[0m\n\u001b[1;32m   1392\u001b[0m                                          chunksize=chunksize,engine=kwds.get(\"engine\") )\n\u001b[0;32m-> 1393\u001b[0;31m             \u001b[0mformatter\u001b[0m\u001b[0;34m.\u001b[0m\u001b[0msave\u001b[0m\u001b[0;34m(\u001b[0m\u001b[0;34m)\u001b[0m\u001b[0;34m\u001b[0m\u001b[0m\n\u001b[0m\u001b[1;32m   1394\u001b[0m \u001b[0;34m\u001b[0m\u001b[0m\n\u001b[1;32m   1395\u001b[0m     def to_excel(self, excel_writer, sheet_name='sheet1', na_rep='',\n",
        "\u001b[0;32m/Users/rjaquino/anaconda/lib/python2.7/site-packages/pandas/core/format.pyc\u001b[0m in \u001b[0;36msave\u001b[0;34m(self)\u001b[0m\n\u001b[1;32m    956\u001b[0m \u001b[0;34m\u001b[0m\u001b[0m\n\u001b[1;32m    957\u001b[0m             \u001b[0;32melse\u001b[0m\u001b[0;34m:\u001b[0m\u001b[0;34m\u001b[0m\u001b[0m\n\u001b[0;32m--> 958\u001b[0;31m                 \u001b[0mself\u001b[0m\u001b[0;34m.\u001b[0m\u001b[0m_save\u001b[0m\u001b[0;34m(\u001b[0m\u001b[0;34m)\u001b[0m\u001b[0;34m\u001b[0m\u001b[0m\n\u001b[0m\u001b[1;32m    959\u001b[0m \u001b[0;34m\u001b[0m\u001b[0m\n\u001b[1;32m    960\u001b[0m \u001b[0;34m\u001b[0m\u001b[0m\n",
        "\u001b[0;32m/Users/rjaquino/anaconda/lib/python2.7/site-packages/pandas/core/format.pyc\u001b[0m in \u001b[0;36m_save\u001b[0;34m(self)\u001b[0m\n\u001b[1;32m   1028\u001b[0m                 \u001b[0;32mbreak\u001b[0m\u001b[0;34m\u001b[0m\u001b[0m\n\u001b[1;32m   1029\u001b[0m \u001b[0;34m\u001b[0m\u001b[0m\n\u001b[0;32m-> 1030\u001b[0;31m             \u001b[0mself\u001b[0m\u001b[0;34m.\u001b[0m\u001b[0m_save_chunk\u001b[0m\u001b[0;34m(\u001b[0m\u001b[0mstart_i\u001b[0m\u001b[0;34m,\u001b[0m \u001b[0mend_i\u001b[0m\u001b[0;34m)\u001b[0m\u001b[0;34m\u001b[0m\u001b[0m\n\u001b[0m\u001b[1;32m   1031\u001b[0m \u001b[0;34m\u001b[0m\u001b[0m\n\u001b[1;32m   1032\u001b[0m     \u001b[0;32mdef\u001b[0m \u001b[0m_save_chunk\u001b[0m\u001b[0;34m(\u001b[0m\u001b[0mself\u001b[0m\u001b[0;34m,\u001b[0m \u001b[0mstart_i\u001b[0m\u001b[0;34m,\u001b[0m \u001b[0mend_i\u001b[0m\u001b[0;34m)\u001b[0m\u001b[0;34m:\u001b[0m\u001b[0;34m\u001b[0m\u001b[0m\n",
        "\u001b[0;32m/Users/rjaquino/anaconda/lib/python2.7/site-packages/pandas/core/format.pyc\u001b[0m in \u001b[0;36m_save_chunk\u001b[0;34m(self, start_i, end_i)\u001b[0m\n\u001b[1;32m   1049\u001b[0m         \u001b[0mix\u001b[0m \u001b[0;34m=\u001b[0m \u001b[0mdata_index\u001b[0m\u001b[0;34m.\u001b[0m\u001b[0mto_native_types\u001b[0m\u001b[0;34m(\u001b[0m\u001b[0mslicer\u001b[0m\u001b[0;34m=\u001b[0m\u001b[0mslicer\u001b[0m\u001b[0;34m,\u001b[0m \u001b[0mna_rep\u001b[0m\u001b[0;34m=\u001b[0m\u001b[0mself\u001b[0m\u001b[0;34m.\u001b[0m\u001b[0mna_rep\u001b[0m\u001b[0;34m,\u001b[0m \u001b[0mfloat_format\u001b[0m\u001b[0;34m=\u001b[0m\u001b[0mself\u001b[0m\u001b[0;34m.\u001b[0m\u001b[0mfloat_format\u001b[0m\u001b[0;34m)\u001b[0m\u001b[0;34m\u001b[0m\u001b[0m\n\u001b[1;32m   1050\u001b[0m \u001b[0;34m\u001b[0m\u001b[0m\n\u001b[0;32m-> 1051\u001b[0;31m         \u001b[0mlib\u001b[0m\u001b[0;34m.\u001b[0m\u001b[0mwrite_csv_rows\u001b[0m\u001b[0;34m(\u001b[0m\u001b[0mself\u001b[0m\u001b[0;34m.\u001b[0m\u001b[0mdata\u001b[0m\u001b[0;34m,\u001b[0m \u001b[0mix\u001b[0m\u001b[0;34m,\u001b[0m \u001b[0mself\u001b[0m\u001b[0;34m.\u001b[0m\u001b[0mnlevels\u001b[0m\u001b[0;34m,\u001b[0m \u001b[0mself\u001b[0m\u001b[0;34m.\u001b[0m\u001b[0mcols\u001b[0m\u001b[0;34m,\u001b[0m \u001b[0mself\u001b[0m\u001b[0;34m.\u001b[0m\u001b[0mwriter\u001b[0m\u001b[0;34m)\u001b[0m\u001b[0;34m\u001b[0m\u001b[0m\n\u001b[0m\u001b[1;32m   1052\u001b[0m \u001b[0;34m\u001b[0m\u001b[0m\n\u001b[1;32m   1053\u001b[0m \u001b[0;31m# from collections import namedtuple\u001b[0m\u001b[0;34m\u001b[0m\u001b[0;34m\u001b[0m\u001b[0m\n",
        "\u001b[0;32m/Users/rjaquino/anaconda/lib/python2.7/site-packages/pandas/lib.so\u001b[0m in \u001b[0;36mpandas.lib.write_csv_rows (pandas/lib.c:13218)\u001b[0;34m()\u001b[0m\n",
        "\u001b[0;31mUnicodeEncodeError\u001b[0m: 'ascii' codec can't encode character u'\\ufeff' in position 81: ordinal not in range(128)"
       ]
      }
     ],
     "prompt_number": 14
    },
    {
     "cell_type": "code",
     "collapsed": false,
     "input": [],
     "language": "python",
     "metadata": {},
     "outputs": []
    }
   ],
   "metadata": {}
  }
 ]
}